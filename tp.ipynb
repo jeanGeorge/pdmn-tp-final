{
 "cells": [
  {
   "cell_type": "code",
   "execution_count": null,
   "id": "05a637f2",
   "metadata": {},
   "outputs": [],
   "source": [
    "# Jean setup:\n",
    "import findspark\n",
    "findspark.init()\n",
    "\n",
    "#pathBme = \"C:\\SofiaAirQuality\\Bme\"\n",
    "#pathSds = \"C:\\SofiaAirQuality\\Sds\""
   ]
  },
  {
   "cell_type": "code",
   "execution_count": 19,
   "id": "a2e727c3",
   "metadata": {},
   "outputs": [],
   "source": [
    "# Luiz setup\n",
    "pathBme = \"/home/luiz/SofiaAirQuality/OneMonthBme\"\n",
    "pathSds = \"/home/luiz/SofiaAirQuality/OneMonthSds\""
   ]
  },
  {
   "cell_type": "code",
   "execution_count": 125,
   "id": "e2314335",
   "metadata": {},
   "outputs": [],
   "source": [
    "import numpy as np\n",
    "\n",
    "from pyspark.ml import Pipeline\n",
    "from pyspark.ml.stat import Correlation\n",
    "from pyspark.ml.feature import VectorAssembler, StringIndexer\n",
    "from pyspark.ml.evaluation import MulticlassClassificationEvaluator\n",
    "\n",
    "from pyspark.sql import SparkSession, Window\n",
    "from pyspark.sql.types import StructType, StringType, DoubleType, ArrayType, IntegerType\n",
    "from pyspark.sql.functions import col, unix_timestamp, expr, avg, udf\n",
    "import pyspark.sql.functions as f\n",
    "\n",
    "from pyspark.ml.classification import NaiveBayes, RandomForestClassifier, MultilayerPerceptronClassifier\n",
    "from pyspark.ml.regression import LinearRegression, RandomForestRegressor, GeneralizedLinearRegression, DecisionTreeRegressor\n",
    "\n",
    "import matplotlib.pyplot as plt\n"
   ]
  },
  {
   "cell_type": "code",
   "execution_count": 126,
   "id": "1ac46f9b",
   "metadata": {},
   "outputs": [],
   "source": [
    "# Configuração\n",
    "spark = SparkSession \\\n",
    "    .builder \\\n",
    "    .master(\"local[12]\") \\\n",
    "    .appName(\"tp_final_jean_luiz\").getOrCreate()\n",
    "\n",
    "df1Schema = StructType() \\\n",
    "    .add(\"_c0\", \"integer\") \\\n",
    "    .add(\"sensor_id\", \"integer\") \\\n",
    "    .add(\"location\", \"integer\") \\\n",
    "    .add(\"lat\", \"double\") \\\n",
    "    .add(\"long\", \"double\") \\\n",
    "    .add(\"timestamp\", \"timestamp\") \\\n",
    "    .add(\"pressure\", \"double\") \\\n",
    "    .add(\"temperature\", \"double\") \\\n",
    "    .add(\"humidity\", \"double\") \\\n",
    "\n",
    "df2Schema = StructType() \\\n",
    "    .add(\"_c0\", \"integer\") \\\n",
    "    .add(\"sensor_id\", \"integer\") \\\n",
    "    .add(\"location\", \"integer\") \\\n",
    "    .add(\"lat\", \"double\") \\\n",
    "    .add(\"long\", \"double\") \\\n",
    "    .add(\"timestamp\", \"timestamp\") \\\n",
    "    .add(\"P1\", \"double\") \\\n",
    "    .add(\"P2\", \"double\") \\\n",
    "\n",
    "df1 = spark.read.schema(df1Schema).format(\"csv\").load(pathBme, header=True)\n",
    "df2 = spark.read.schema(df2Schema).format(\"csv\").load(pathSds, header=True)"
   ]
  },
  {
   "cell_type": "code",
   "execution_count": 127,
   "id": "twenty-service",
   "metadata": {},
   "outputs": [],
   "source": [
    "df1 = df1 \\\n",
    "    .withColumn(\"df1SensorId\", df1.sensor_id) \\\n",
    "    .withColumn(\"df1Location\", df1.location) \\\n",
    "    .withColumn(\"df1Lat\", df1.lat) \\\n",
    "    .withColumn(\"df1Long\", df1.long) \\\n",
    "    .withColumn(\"df1Timestamp\", df1.timestamp) \\\n",
    "    .withColumn(\"df1Id\", df1.sensor_id).limit(150000)\n",
    "\n",
    "df2 = df2 \\\n",
    "    .withColumn(\"df2SensorId\", df2.sensor_id) \\\n",
    "    .withColumn(\"df2Location\", df2.location) \\\n",
    "    .withColumn(\"df2Lat\", df2.lat) \\\n",
    "    .withColumn(\"df2Long\", df2.long) \\\n",
    "    .withColumn(\"df2Timestamp\", df2.timestamp) \\\n",
    "    .withColumn(\"df2Id\", df2.sensor_id).limit(150000)"
   ]
  },
  {
   "cell_type": "code",
   "execution_count": 128,
   "id": "north-seven",
   "metadata": {},
   "outputs": [
    {
     "name": "stdout",
     "output_type": "stream",
     "text": [
      "150000\n",
      "150000\n"
     ]
    }
   ],
   "source": [
    "print(df1.count())\n",
    "print(df2.count())"
   ]
  },
  {
   "cell_type": "markdown",
   "id": "rational-employee",
   "metadata": {},
   "source": [
    "Para analisar os dados no contexto macro, vamos realizar um join entre os dados dos sensores de tipos diferentes.\n",
    "Após análise exploratória inicial, identificamos que os sensores ficam em pontos compartilhados, de forma que mesmo que sensores dos dois tipos (SDS e BME) compartilham a coluna \"location\". Dessa forma, podemos fazer um join por location, e também pegar reports próximos na linha do tempo, para manter uma noção de temporalidade na análise dos dados."
   ]
  },
  {
   "cell_type": "code",
   "execution_count": 129,
   "id": "arranged-harassment",
   "metadata": {},
   "outputs": [
    {
     "name": "stderr",
     "output_type": "stream",
     "text": [
      "22/02/21 19:32:34 WARN CSVHeaderChecker: CSV header does not conform to the schema.\n",
      " Header: , sensor_id, location, lat, lon, timestamp, pressure, temperature, humidity\n",
      " Schema: _c0, sensor_id, location, lat, long, timestamp, pressure, temperature, humidity\n",
      "Expected: _c0 but found: \n",
      "CSV file: file:///home/luiz/SofiaAirQuality/OneMonthBme/2017-07_bme280sof.csv\n",
      "22/02/21 19:32:34 WARN CSVHeaderChecker: CSV header does not conform to the schema.\n",
      " Header: , sensor_id, location, lat, lon, timestamp, P1, P2\n",
      " Schema: _c0, sensor_id, location, lat, long, timestamp, P1, P2\n",
      "Expected: _c0 but found: \n",
      "CSV file: file:///home/luiz/SofiaAirQuality/OneMonthSds/2017-07_sds011sof.csv\n",
      "[Stage 690:>                                                        (0 + 1) / 1]\r"
     ]
    },
    {
     "name": "stdout",
     "output_type": "stream",
     "text": [
      "96084\n"
     ]
    },
    {
     "name": "stderr",
     "output_type": "stream",
     "text": [
      "\r",
      "                                                                                \r"
     ]
    }
   ],
   "source": [
    "joinedWithoutDuplicates = df1.join(\n",
    "  df2,\n",
    "  expr(\"\"\"\n",
    "    df1Location = df2Location AND\n",
    "    df1Timestamp <= df2Timestamp + interval 1 minutes AND\n",
    "    df1Timestamp >= df2Timestamp - interval 1 minutes\n",
    "    \"\"\")\n",
    ").dropDuplicates(['df1Id', 'df1Timestamp'])\n",
    "\n",
    "joinedWithoutDuplicates.persist()\n",
    "\n",
    "print(joinedWithoutDuplicates.count())"
   ]
  },
  {
   "cell_type": "markdown",
   "id": "white-leisure",
   "metadata": {},
   "source": [
    "Abaixo, uma amostra do dataframe resultante do join:"
   ]
  },
  {
   "cell_type": "code",
   "execution_count": 137,
   "id": "injured-combine",
   "metadata": {},
   "outputs": [
    {
     "name": "stdout",
     "output_type": "stream",
     "text": [
      "+-----+-------------------+-----------+-----+-------------------+-----------+--------+-----------+--------+-----+----+\n",
      "|df1Id|       df1Timestamp|df1Location|df2Id|       df2Timestamp|df2Location|pressure|temperature|humidity|   P1|  P2|\n",
      "+-----+-------------------+-----------+-----+-------------------+-----------+--------+-----------+--------+-----+----+\n",
      "| 2266|2017-07-01 00:00:07|       1140| 2265|2017-07-01 00:00:06|       1140|95270.27|      23.46|   62.48|25.33|6.57|\n",
      "| 2266|2017-07-01 00:02:33|       1140| 2265|2017-07-01 00:02:33|       1140|95266.66|      23.37|    63.4| 15.7|6.27|\n",
      "| 2266|2017-07-01 00:05:00|       1140| 2265|2017-07-01 00:04:59|       1140|95258.14|      23.37|   63.22|18.17| 6.6|\n",
      "| 2266|2017-07-01 00:07:26|       1140| 2265|2017-07-01 00:07:26|       1140|95267.81|      23.23|   63.07| 15.9|6.83|\n",
      "| 2266|2017-07-01 00:09:53|       1140| 2265|2017-07-01 00:09:52|       1140|95267.84|      23.25|   63.37|13.67|5.97|\n",
      "| 2266|2017-07-01 00:12:19|       1140| 2265|2017-07-01 00:12:19|       1140| 95269.0|      23.13|   63.87|12.83| 5.8|\n",
      "| 2266|2017-07-01 00:14:46|       1140| 2265|2017-07-01 00:14:45|       1140|95262.76|      23.47|   62.36| 10.4|5.93|\n",
      "| 2266|2017-07-01 00:17:12|       1140| 2265|2017-07-01 00:17:12|       1140|95267.28|      23.38|   62.78| 8.77| 5.9|\n",
      "| 2266|2017-07-01 00:19:39|       1140| 2265|2017-07-01 00:19:38|       1140|95263.94|      23.22|   63.79| 17.1| 7.3|\n",
      "| 2266|2017-07-01 00:22:05|       1140| 2265|2017-07-01 00:22:05|       1140|95260.13|      23.27|   62.17| 11.4| 7.0|\n",
      "| 2266|2017-07-01 00:24:32|       1140| 2265|2017-07-01 00:24:31|       1140|95261.49|      23.14|   61.95|11.13|6.63|\n",
      "| 2266|2017-07-01 00:26:58|       1140| 2265|2017-07-01 00:26:58|       1140|95266.64|      23.48|    61.1|15.67| 6.3|\n",
      "| 2266|2017-07-01 00:29:25|       1140| 2265|2017-07-01 00:29:25|       1140|95270.53|      23.12|   62.33| 28.8| 7.1|\n",
      "| 2266|2017-07-01 00:31:51|       1140| 2265|2017-07-01 00:31:51|       1140|95267.34|       22.6|   63.81| 18.1| 7.7|\n",
      "| 2266|2017-07-01 00:34:18|       1140| 2265|2017-07-01 00:34:18|       1140|95269.88|      22.74|   64.41|13.57|6.43|\n",
      "| 2266|2017-07-01 00:36:44|       1140| 2265|2017-07-01 00:36:44|       1140|95274.63|      22.69|    64.7|11.23| 7.8|\n",
      "| 2266|2017-07-01 00:39:11|       1140| 2265|2017-07-01 00:39:11|       1140|95269.38|      22.55|   64.74|21.27| 8.2|\n",
      "| 2266|2017-07-01 00:41:37|       1140| 2265|2017-07-01 00:41:37|       1140|95279.29|      21.54|   69.15|17.07| 7.7|\n",
      "| 2266|2017-07-01 00:44:04|       1140| 2265|2017-07-01 00:44:04|       1140|95279.28|      22.09|   67.28|12.47| 7.5|\n",
      "| 2266|2017-07-01 00:46:31|       1140| 2265|2017-07-01 00:46:30|       1140|95273.33|       22.2|   65.82| 13.1|7.33|\n",
      "+-----+-------------------+-----------+-----+-------------------+-----------+--------+-----------+--------+-----+----+\n",
      "only showing top 20 rows\n",
      "\n"
     ]
    }
   ],
   "source": [
    "columnsOfInterest = ['df1Id', 'df1Timestamp', 'df1Location', 'df2Id', 'df2Timestamp', 'df2Location', 'pressure', 'temperature', 'humidity', 'P1', 'P2']\n",
    "\n",
    "joinedWithoutDuplicates.filter(joinedWithoutDuplicates.df1Id == 2266) \\\n",
    "    .select(*columnsOfInterest).show(20)"
   ]
  },
  {
   "cell_type": "markdown",
   "id": "southeast-brisbane",
   "metadata": {},
   "source": [
    "É interessante observar também que os ids dos sensores que entram no join são consecutivos, e eles reportam dados em tempos muito similares:"
   ]
  },
  {
   "cell_type": "code",
   "execution_count": 138,
   "id": "prime-enforcement",
   "metadata": {},
   "outputs": [
    {
     "name": "stdout",
     "output_type": "stream",
     "text": [
      "+-------------------+-----------------+\n",
      "|avg(timestampDelta)|avg(idDifference)|\n",
      "+-------------------+-----------------+\n",
      "|-0.6837142500312227|             -1.0|\n",
      "+-------------------+-----------------+\n",
      "\n"
     ]
    }
   ],
   "source": [
    "joinedWithoutDuplicates \\\n",
    "    .withColumn(\"timestampDelta\", joinedWithoutDuplicates.df2Timestamp.cast(\"long\") - joinedWithoutDuplicates.df1Timestamp.cast(\"long\")) \\\n",
    "    .withColumn(\"idDifference\", joinedWithoutDuplicates.df2Id - joinedWithoutDuplicates.df1Id) \\\n",
    "    .agg(\n",
    "        avg(\"timestampDelta\"),\n",
    "        avg(\"idDifference\")\n",
    "    ).show()"
   ]
  },
  {
   "cell_type": "markdown",
   "id": "interesting-organizer",
   "metadata": {},
   "source": [
    "Na primeira questão, vamos expandir a análise exploratória e verificar a correlação dos dados de interesse (temperature, humidity, pressure, P1 e P2) do dataframe resultante do join. Queremos definir uma base para a análise das questões 2 e principalmente 3, podendo definir quais as melhores estratégias para o uso de ML para previsão de alguma dessas features."
   ]
  },
  {
   "cell_type": "code",
   "execution_count": 139,
   "id": "50154996",
   "metadata": {},
   "outputs": [
    {
     "name": "stderr",
     "output_type": "stream",
     "text": [
      "/home/luiz/.local/lib/python3.9/site-packages/pyspark/sql/context.py:125: FutureWarning: Deprecated in 3.0.0. Use SparkSession.builder.getOrCreate() instead.\n",
      "  warnings.warn(\n",
      "/tmp/ipykernel_23822/810265125.py:25: UserWarning: FixedFormatter should only be used together with FixedLocator\n",
      "  ax.set_xticklabels(['']+attr)\n",
      "/tmp/ipykernel_23822/810265125.py:26: UserWarning: FixedFormatter should only be used together with FixedLocator\n",
      "  ax.set_yticklabels(['']+attr)\n"
     ]
    },
    {
     "data": {
      "image/png": "[encoded data removed]",
      "text/plain": [
       "<Figure size 432x288 with 2 Axes>"
      ]
     },
     "metadata": {
      "needs_background": "light"
     },
     "output_type": "display_data"
    },
    {
     "name": "stdout",
     "output_type": "stream",
     "text": [
      "+--------------------+--------------------+--------------------+--------------------+--------------------+\n",
      "|            pressure|         temperature|            humidity|                  P1|                  P2|\n",
      "+--------------------+--------------------+--------------------+--------------------+--------------------+\n",
      "|                 1.0|-0.17333527149640582|0.016289066010741964|-0.04549370997043...|-0.01811842375469...|\n",
      "|-0.17333527149640582|                 1.0| -0.8112936285979805|-0.02075341972196368|-0.10023655202389627|\n",
      "|0.016289066010741964| -0.8112936285979805|                 1.0| 0.09051754868962797|  0.1465245458161027|\n",
      "|-0.04549370997043...|-0.02075341972196368| 0.09051754868962797|                 1.0|  0.9569931558373822|\n",
      "|-0.01811842375469...|-0.10023655202389627|  0.1465245458161027|  0.9569931558373822|                 1.0|\n",
      "+--------------------+--------------------+--------------------+--------------------+--------------------+\n",
      "\n"
     ]
    }
   ],
   "source": [
    "# 1. Realizar uma análise da correlação entre os atributos presentes na base de dados \n",
    "# (pressão, temperatura, humidade, P1 (PM10) e P2 (PM2,5)).\n",
    "\n",
    "# Filtrando apenas as colunas desejadas\n",
    "columns = ['pressure','temperature','humidity', 'P1', 'P2']\n",
    "df_filtered = joinedWithoutDuplicates.select(*columns)\n",
    "df_filtered = df_filtered.filter(df_filtered.pressure.isNotNull())\n",
    "df_filtered = df_filtered.filter(df_filtered.temperature.isNotNull())\n",
    "df_filtered = df_filtered.filter(df_filtered.humidity.isNotNull())\n",
    "\n",
    "# Criando coluna de vector\n",
    "vector_column = \"vector_column\"\n",
    "assembler = VectorAssembler(inputCols=df_filtered.columns, outputCol=vector_column)\n",
    "df_vector = assembler.transform(df_filtered).select(vector_column)\n",
    "\n",
    "# Obtendo matriz de correlação\n",
    "matrix = Correlation.corr(df_vector, vector_column).collect()[0][0]\n",
    "corrmatrix = matrix.toArray().tolist()\n",
    "\n",
    "# Plotando\n",
    "def plot_correlation_matrix(correlations,attr,fig_no):\n",
    "    fig=plt.figure(fig_no)\n",
    "    ax=fig.add_subplot(111)\n",
    "    ax.set_title(\"Correlation Matrix\")\n",
    "    ax.set_xticklabels(['']+attr)\n",
    "    ax.set_yticklabels(['']+attr)\n",
    "    cax=ax.matshow(correlations,vmax=1,vmin=-1)\n",
    "    fig.colorbar(cax)\n",
    "    plt.show()\n",
    "plot_correlation_matrix(corrmatrix, columns, 234)\n",
    "\n",
    "spark.createDataFrame(corrmatrix,columns).show() "
   ]
  },
  {
   "cell_type": "markdown",
   "id": "everyday-brighton",
   "metadata": {},
   "source": [
    "Pode-se perceber que temperatura e humidade possuem correlação negativa alta, o que indica que altas temperaturas estão relacionadas com baixos valores de humidade, e vice-versa. Além disso, há uma correlação positiva bastante próxima à 1 entre P1 e P2, o que indica que os valores de qualidade do ar andam juntos, pois muito provavelmente podem ser explicados por um fenômeno subjacente comum (emissão de poluentes).\n",
    "\n",
    "É bastante interessante analisar os dados de sensores e tentar montar um modelo de previsão, mas dados de sensores defeituosos podem prejudicar o poder de previsão de modelos de ML. Com isso, o objetivo da segunda parte é analisar a presença de outliers no dataset, fazendo análises agrupadas por localização e por tempo de evento.\n",
    "\n",
    "A ideia principal é obter as coordenadas do \"bounding box\" da cidade de Sofia, e subdividir os eventos dos sensores da cidade em retângulos discretos (quadrantes), para realizar análises de outliers agrupando por quadrantes."
   ]
  },
  {
   "cell_type": "code",
   "execution_count": 140,
   "id": "embedded-syntax",
   "metadata": {},
   "outputs": [
    {
     "name": "stdout",
     "output_type": "stream",
     "text": [
      "Min latitude = 42.622, max latitude = 42.738, min longitude = 23.254, maxLongitude = 23.419\n"
     ]
    }
   ],
   "source": [
    "onlyCoords = joinedWithoutDuplicates.select([\"df1Lat\", \"df1Long\"])\n",
    "\n",
    "minLat = onlyCoords.agg(f.min(\"df1Lat\")).first()[0]\n",
    "maxLat = onlyCoords.agg(f.max(\"df1Lat\")).first()[0]\n",
    "\n",
    "minLong = onlyCoords.agg(f.min(\"df1Long\")).first()[0]\n",
    "maxLong = onlyCoords.agg(f.max(\"df1Long\")).first()[0]\n",
    "\n",
    "print(f\"Min latitude = {minLat}, max latitude = {maxLat}, min longitude = {minLong}, maxLongitude = {maxLong}\")"
   ]
  },
  {
   "cell_type": "code",
   "execution_count": 141,
   "id": "referenced-healing",
   "metadata": {},
   "outputs": [
    {
     "name": "stdout",
     "output_type": "stream",
     "text": [
      "Delta latitude: 0.11599999999999966\n",
      "Delta longitude: 0.16499999999999915\n",
      "[42.622  42.6452 42.6684 42.6916 42.7148]\n",
      "[23.254 23.287 23.32  23.353 23.386]\n"
     ]
    }
   ],
   "source": [
    "print(f\"Delta latitude: {maxLat - minLat}\")\n",
    "print(f\"Delta longitude: {maxLong - minLong}\")\n",
    "\n",
    "latBounds = np.linspace(minLat, maxLat, num=5, endpoint=False)\n",
    "longBounds = np.linspace(minLong, maxLong, num=5, endpoint=False)\n",
    "\n",
    "print(latBounds)\n",
    "print(longBounds)"
   ]
  },
  {
   "cell_type": "code",
   "execution_count": 142,
   "id": "legal-stake",
   "metadata": {},
   "outputs": [],
   "source": [
    "def latGrouper(latitude):\n",
    "    closestLowerLat = float(latBounds[0])\n",
    "    for lat in latBounds:\n",
    "        if float(lat) < latitude:\n",
    "            closestLowerLat = float(lat)\n",
    "        else:\n",
    "            break\n",
    "\n",
    "    return closestLowerLat\n",
    "\n",
    "def longGrouper(longitude):\n",
    "    closestLowerLong = float(longBounds[0])\n",
    "    for lon in longBounds:\n",
    "        if float(lon) < longitude:\n",
    "            closestLowerLong = float(lon)\n",
    "        else:\n",
    "            break\n",
    "    return closestLowerLong"
   ]
  },
  {
   "cell_type": "markdown",
   "id": "balanced-detail",
   "metadata": {},
   "source": [
    "Acima foram definidos os limites inferiores de latitude e longitude dos quadrantes, e cada registro será associado à latitude/longitude que for menor e mais próxima à latitude/longitude do evento reportado pelo sensor. Com isso, teremos ao todo 25 possíveis quadrantes. Abaixo, os dados são agrupados (\"latBox\" e \"longBox\"), e é calculada uma simples agregação"
   ]
  },
  {
   "cell_type": "code",
   "execution_count": 143,
   "id": "passing-monster",
   "metadata": {},
   "outputs": [
    {
     "name": "stdout",
     "output_type": "stream",
     "text": [
      "+-------+------------------+-----+-------------+------------------+-------------+\n",
      "| latBox|           longBox|count|max(humidity)|     avg(humidity)|min(humidity)|\n",
      "+-------+------------------+-----+-------------+------------------+-------------+\n",
      "|42.6684|            23.254| 2352|        100.0|56.162895408163244|        18.91|\n",
      "|42.6452|            23.386| 2665|         86.7| 46.72035272045033|         5.73|\n",
      "| 42.622|            23.386| 2670|        81.63|46.980220973782835|        13.73|\n",
      "|42.7148|23.287000000000003| 2690|        95.63| 55.76173234200752|         8.76|\n",
      "| 42.622|            23.254| 2703|        95.98|  56.4182981871995|         11.5|\n",
      "|42.6452|23.287000000000003| 2714|        90.16| 52.50021002210771|        15.39|\n",
      "|42.7148|            23.254| 2717|        94.79| 56.55189179241801|        16.93|\n",
      "| 42.622|            23.353| 2719|        93.88| 55.40662008091218|        14.81|\n",
      "|42.6684|            23.386| 2722|        92.48| 54.91556943423957|        13.07|\n",
      "| 42.622|23.287000000000003| 2725|        96.63|54.427688073394435|         9.07|\n",
      "|42.6916|23.287000000000003| 2735|        77.25| 47.87176599634377|         16.6|\n",
      "|42.6452|            23.353| 2812|        98.19| 52.37133001422488|         5.24|\n",
      "|42.6684|            23.353| 3984|        92.88| 51.68114457831329|         7.81|\n",
      "|42.6916|            23.386| 5303|        100.0| 54.61374882142191|        10.09|\n",
      "|42.6452|            23.254| 5444|        89.77| 26.72554739162385|          0.0|\n",
      "|42.6452|             23.32| 5957|        93.88| 47.86274634883336|          0.0|\n",
      "|42.6684|             23.32| 8847|        93.92|50.580341358652475|         8.85|\n",
      "|42.6916|            23.353|10487|        94.84| 50.89836940974557|         7.39|\n",
      "|42.6916|             23.32|10688|        93.46| 51.80464539670665|         3.59|\n",
      "|42.6684|23.287000000000003|13150|        94.66| 50.02301825095044|        11.99|\n",
      "+-------+------------------+-----+-------------+------------------+-------------+\n",
      "\n"
     ]
    }
   ],
   "source": [
    "withBoxData = joinedWithoutDuplicates \\\n",
    "    .withColumn(\"latBox\", udf(latGrouper)(onlyCoords.df1Lat)) \\\n",
    "    .withColumn(\"longBox\", udf(longGrouper)(onlyCoords.df1Long))\n",
    "\n",
    "groupedByBox = withBoxData.groupBy(\"latBox\", \"longBox\")\n",
    "\n",
    "groupedByBox \\\n",
    "    .agg(\n",
    "        f.count(\"*\").alias(\"count\"),\n",
    "        f.max(\"humidity\"),\n",
    "        f.avg(\"humidity\"),\n",
    "        f.min(\"humidity\")\n",
    "    ) \\\n",
    "    .orderBy(\"count\") \\\n",
    "    .show()"
   ]
  },
  {
   "cell_type": "code",
   "execution_count": null,
   "id": "removable-myrtle",
   "metadata": {},
   "outputs": [],
   "source": [
    "withBoxData \\\n",
    "    .select([\"df1Timestamp\", \"df1Lat\", \"df1Long\", \"df1SensorId\", \"df2SensorId\", \"temperature\", \"humidity\", \"pressure\", \"latBox\", \"longBox\"]) \\\n",
    "    .write.csv(\"StreamingData/dataWithBoxData.csv\")"
   ]
  },
  {
   "cell_type": "markdown",
   "id": "returning-guyana",
   "metadata": {},
   "source": [
    "Abaixo, são definidas três funções de análise de outliers.\n",
    "Todas elas recebem uma feature como parâmetro, e a quantidade de desvios padrões de distância da média para que uma observação seja considerada um outlier.\n",
    "\n",
    "A primeira função agrupa a quantidade de outliers considerando tanto a divisão de quadrantes quanto uma janela de tempo de 1 dia, computando média e desvio padrão dentro dessas subdivisões para filtrar a quantidade de observações que ficam fora do range de X desvios padrão da média.\n",
    "\n",
    "A segunda funciona de forma parecida, desconsiderando as subdivisões de tempo, e a terceira da mesma forma, porém sem fazer qualquer subdivisão do dado.\n",
    "\n",
    "Com isso, podemos ter agrupamentos mais gerais e mais específicos de outliers, e podemos analisar todas as features de interesse de forma dinâmica."
   ]
  },
  {
   "cell_type": "code",
   "execution_count": 144,
   "id": "hispanic-jacob",
   "metadata": {},
   "outputs": [],
   "source": [
    "cnt_cond = lambda cond: f.sum(f.when(cond, 1).otherwise(0))\n",
    "\n",
    "def analyzeOutliers(feature, stdevs_to_consider_as_outlier):\n",
    "    windowSpec = Window.partitionBy(\"latBox\", \"longBox\", f.window(\"df1Timestamp\", \"86400 seconds\"))\n",
    "    return withBoxData \\\n",
    "        .withColumn(f\"{feature}StandardDeviation\", f.stddev_samp(feature).over(\n",
    "            windowSpec\n",
    "        )) \\\n",
    "        .withColumn(f\"{feature}Average\", f.avg(feature).over(\n",
    "            windowSpec\n",
    "        )) \\\n",
    "        .withColumn(\"lowerBound\",\n",
    "            f.expr(f\"{feature}Average - ({stdevs_to_consider_as_outlier} * {feature}StandardDeviation)\")) \\\n",
    "        .withColumn(\"upperBound\",\n",
    "            f.expr(f\"{feature}Average + ({stdevs_to_consider_as_outlier} * {feature}StandardDeviation)\")) \\\n",
    "        .groupBy(\"latBox\", \"longBox\", f.window(\"df1Timestamp\", \"86400 seconds\")) \\\n",
    "        .agg(\n",
    "            f.max(feature),\n",
    "            f.min(feature),\n",
    "            f.avg(feature),\n",
    "            f.count(\"*\").alias(\"totalCount\"),\n",
    "            cnt_cond((f.col(feature) < f.col('lowerBound')) | (f.col(feature) > f.col('upperBound'))).alias('outlierCount'),\n",
    "            f.stddev_samp(feature)\n",
    "        ) \\\n",
    "        .orderBy(f.expr(\"outlierCount\").desc()) \\\n",
    "        .select([\"latBox\", \"longBox\", \"window.start\", \"window.end\", \"totalCount\", \"outlierCount\"])\n",
    "\n",
    "def analyzeOutliersNoTime(feature, stdevs_to_consider_as_outlier):\n",
    "    windowSpecNoTime = Window.partitionBy(\"latBox\", \"longBox\")\n",
    "    return withBoxData \\\n",
    "        .withColumn(f\"{feature}StandardDeviation\", f.stddev_samp(feature).over(\n",
    "            windowSpecNoTime\n",
    "        )) \\\n",
    "        .withColumn(f\"{feature}Average\", f.avg(feature).over(\n",
    "            windowSpecNoTime\n",
    "        )) \\\n",
    "        .withColumn(\"lowerBound\",\n",
    "            f.expr(f\"{feature}Average - ({stdevs_to_consider_as_outlier} * {feature}StandardDeviation)\")) \\\n",
    "        .withColumn(\"upperBound\",\n",
    "            f.expr(f\"{feature}Average + ({stdevs_to_consider_as_outlier} * {feature}StandardDeviation)\")) \\\n",
    "        .groupBy(\"latBox\", \"longBox\") \\\n",
    "        .agg(\n",
    "            f.max(feature),\n",
    "            f.min(feature),\n",
    "            f.avg(feature),\n",
    "            f.count(\"*\").alias(\"totalCount\"),\n",
    "            cnt_cond((f.col(feature) < f.col('lowerBound')) | (f.col(feature) > f.col('upperBound'))).alias('outlierCount'),\n",
    "            f.stddev_samp(feature)\n",
    "        ) \\\n",
    "        .orderBy(f.expr(\"outlierCount\").desc()) \\\n",
    "        .select([\"latBox\", \"longBox\", \"totalCount\", \"outlierCount\"])\n",
    "\n",
    "def analyzeOutliersNoGrouping(feature, stdevs_to_consider_as_outlier):\n",
    "    average = withBoxData \\\n",
    "        .groupBy().agg(f.avg(feature)) \\\n",
    "        .take(1)[0][0]\n",
    "    stdev = withBoxData \\\n",
    "        .groupBy().agg(f.stddev_samp(feature)) \\\n",
    "        .take(1)[0][0]\n",
    "    \n",
    "    return withBoxData \\\n",
    "        .withColumn(f\"{feature}Average\", f.lit(average)) \\\n",
    "        .withColumn(f\"{feature}StandardDeviation\", f.lit(stdev)) \\\n",
    "        .withColumn(\"lowerBound\",\n",
    "            f.expr(f\"{feature}Average - ({stdevs_to_consider_as_outlier} * {feature}StandardDeviation)\")) \\\n",
    "        .withColumn(\"upperBound\",\n",
    "            f.expr(f\"{feature}Average + ({stdevs_to_consider_as_outlier} * {feature}StandardDeviation)\")) \\\n",
    "        .groupBy() \\\n",
    "            .agg(\n",
    "                f.max(feature),\n",
    "                f.min(feature),\n",
    "                f.avg(feature),\n",
    "                f.count(\"*\").alias(\"totalCount\"),\n",
    "                cnt_cond((f.col(feature) < f.col('lowerBound')) | (f.col(feature) > f.col('upperBound'))).alias('outlierCount'),\n",
    "                f.stddev_samp(feature)\n",
    "            ) \\\n",
    "            .orderBy(f.expr(\"outlierCount\").desc()) \\\n",
    "            .select([\"totalCount\", \"outlierCount\"])"
   ]
  },
  {
   "cell_type": "markdown",
   "id": "scenic-peninsula",
   "metadata": {},
   "source": [
    "Inicialmente, vamos analisar a temperatura, sob a ótica das três funções:"
   ]
  },
  {
   "cell_type": "code",
   "execution_count": 145,
   "id": "related-scientist",
   "metadata": {},
   "outputs": [
    {
     "name": "stdout",
     "output_type": "stream",
     "text": [
      "+----------+------------+\n",
      "|totalCount|outlierCount|\n",
      "+----------+------------+\n",
      "|     96084|         301|\n",
      "+----------+------------+\n",
      "\n"
     ]
    }
   ],
   "source": [
    "analyzeOutliersNoGrouping('temperature', stdevs_to_consider_as_outlier=3).show()"
   ]
  },
  {
   "cell_type": "markdown",
   "id": "terminal-broadcasting",
   "metadata": {},
   "source": [
    "Quando a análise é feita sem agrupamento, temos uma proporção bastante baixa de outliers dentro de todas as observações registradas no dataset."
   ]
  },
  {
   "cell_type": "code",
   "execution_count": 146,
   "id": "stretch-possession",
   "metadata": {},
   "outputs": [
    {
     "name": "stdout",
     "output_type": "stream",
     "text": [
      "+-------+------------------+----------+------------+\n",
      "| latBox|           longBox|totalCount|outlierCount|\n",
      "+-------+------------------+----------+------------+\n",
      "|42.6916|             23.32|     10688|         114|\n",
      "| 42.622|23.287000000000003|      2725|          24|\n",
      "|42.6916|            23.353|     10487|          21|\n",
      "|42.6684|             23.32|      8847|          13|\n",
      "|42.6452|            23.254|      5444|           5|\n",
      "|42.6452|            23.353|      2812|           2|\n",
      "| 42.622|            23.254|      2703|           1|\n",
      "|42.6452|             23.32|      5957|           1|\n",
      "| 42.622|            23.353|      2719|           0|\n",
      "| 42.622|            23.386|      2670|           0|\n",
      "|42.6452|            23.386|      2665|           0|\n",
      "|42.6684|            23.386|      2722|           0|\n",
      "|42.6452|23.287000000000003|      2714|           0|\n",
      "|42.6684|            23.254|      2352|           0|\n",
      "|42.6684|23.287000000000003|     13150|           0|\n",
      "|42.6916|23.287000000000003|      2735|           0|\n",
      "|42.6916|            23.386|      5303|           0|\n",
      "|42.7148|23.287000000000003|      2690|           0|\n",
      "|42.6684|            23.353|      3984|           0|\n",
      "|42.7148|            23.254|      2717|           0|\n",
      "+-------+------------------+----------+------------+\n",
      "\n"
     ]
    }
   ],
   "source": [
    "analyzeOutliersNoTime('temperature', stdevs_to_consider_as_outlier=3).show()"
   ]
  },
  {
   "cell_type": "markdown",
   "id": "alien-listing",
   "metadata": {},
   "source": [
    "Ao realizar a análise levando em consideração os quadrantes, temos um perfil diferente de quantidade de outliers,\n",
    "que começam a se agrupar em determinados quadrantes, o que pode significar que alguns sensores específicos estão com problemas (ou que algum evento no mundo real está aumentando/abaixando muito a temperatura reportada por alguns sensores)."
   ]
  },
  {
   "cell_type": "code",
   "execution_count": 147,
   "id": "african-print",
   "metadata": {},
   "outputs": [
    {
     "name": "stdout",
     "output_type": "stream",
     "text": [
      "+-------+------------------+-------------------+-------------------+----------+------------+\n",
      "| latBox|           longBox|              start|                end|totalCount|outlierCount|\n",
      "+-------+------------------+-------------------+-------------------+----------+------------+\n",
      "|42.6916|             23.32|2017-07-01 21:00:00|2017-07-02 21:00:00|      2348|          82|\n",
      "|42.6916|             23.32|2017-07-04 21:00:00|2017-07-05 21:00:00|      1772|          51|\n",
      "|42.6916|             23.32|2017-06-30 21:00:00|2017-07-01 21:00:00|      1881|          33|\n",
      "|42.6916|             23.32|2017-07-03 21:00:00|2017-07-04 21:00:00|      2354|          14|\n",
      "|42.6684|             23.32|2017-07-01 21:00:00|2017-07-02 21:00:00|      1940|          14|\n",
      "| 42.622|23.287000000000003|2017-07-03 21:00:00|2017-07-04 21:00:00|       590|          11|\n",
      "| 42.622|23.287000000000003|2017-07-01 21:00:00|2017-07-02 21:00:00|       588|           7|\n",
      "|42.6684|            23.353|2017-07-04 21:00:00|2017-07-05 21:00:00|       844|           7|\n",
      "|42.6452|            23.353|2017-07-01 21:00:00|2017-07-02 21:00:00|       605|           3|\n",
      "|42.6452|            23.353|2017-07-03 21:00:00|2017-07-04 21:00:00|       607|           3|\n",
      "|42.6684|             23.32|2017-07-03 21:00:00|2017-07-04 21:00:00|      1770|           3|\n",
      "|42.6684|             23.32|2017-07-02 21:00:00|2017-07-03 21:00:00|      1765|           3|\n",
      "|42.7148|23.287000000000003|2017-07-02 21:00:00|2017-07-03 21:00:00|       589|           2|\n",
      "|42.6684|23.287000000000003|2017-07-02 21:00:00|2017-07-03 21:00:00|      2838|           2|\n",
      "|42.6916|            23.353|2017-07-01 21:00:00|2017-07-02 21:00:00|      2331|           0|\n",
      "| 42.622|            23.386|2017-07-01 21:00:00|2017-07-02 21:00:00|       588|           0|\n",
      "|42.6684|            23.254|2017-07-03 21:00:00|2017-07-04 21:00:00|       508|           0|\n",
      "|42.6684|            23.353|2017-07-01 21:00:00|2017-07-02 21:00:00|       683|           0|\n",
      "| 42.622|23.287000000000003|2017-07-04 21:00:00|2017-07-05 21:00:00|       471|           0|\n",
      "|42.6684|            23.254|2017-07-04 21:00:00|2017-07-05 21:00:00|       407|           0|\n",
      "+-------+------------------+-------------------+-------------------+----------+------------+\n",
      "only showing top 20 rows\n",
      "\n"
     ]
    }
   ],
   "source": [
    "analyzeOutliers('temperature', stdevs_to_consider_as_outlier=3).show()"
   ]
  },
  {
   "cell_type": "markdown",
   "id": "aquatic-helping",
   "metadata": {},
   "source": [
    "Ao aumentar a granularidade da análise, novamente temos um perfil distinto, que aponta qual quadrante e em qual dia mais eventos outliers aconteceram. Podemo determinar qual sensor reportou valores extremais:"
   ]
  },
  {
   "cell_type": "code",
   "execution_count": 151,
   "id": "italic-couple",
   "metadata": {},
   "outputs": [],
   "source": [
    "def getOutlierRows(feature, latBox, longBox, start, end, stdevs_to_consider_as_outlier):\n",
    "    dates = (start, end)\n",
    "    average = withBoxData \\\n",
    "        .groupBy().agg(f.avg(feature)) \\\n",
    "        .take(1)[0][0]\n",
    "    stdev = withBoxData \\\n",
    "        .groupBy().agg(f.stddev_samp(feature)) \\\n",
    "        .take(1)[0][0]\n",
    "    return withBoxData \\\n",
    "        .withColumn(f\"{feature}Average\", f.lit(average)) \\\n",
    "        .withColumn(f\"{feature}StandardDeviation\", f.lit(stdev)) \\\n",
    "        .withColumn(\"lowerBound\",\n",
    "            f.expr(f\"{feature}Average - ({stdevs_to_consider_as_outlier} * {feature}StandardDeviation)\")) \\\n",
    "        .withColumn(\"upperBound\",\n",
    "            f.expr(f\"{feature}Average + ({stdevs_to_consider_as_outlier} * {feature}StandardDeviation)\")) \\\n",
    "        .filter((f.col(feature) < f.col('lowerBound')) | (f.col(feature) > f.col('upperBound'))) \\\n",
    "        .filter(f.col(\"latBox\") == latBox) \\\n",
    "        .filter(f.col(\"longBox\") == longBox) \\\n",
    "        .filter(f.col(\"df2Timestamp\").between(*dates))\n",
    "\n",
    "def outlierRows(feature, stdevs_to_consider_as_outlier, latBox, longBox, start, end):\n",
    "    dates = (start, end)\n",
    "    windowSpec = Window.partitionBy(\"latBox\", \"longBox\", f.window(\"df1Timestamp\", \"86400 seconds\"))\n",
    "    return withBoxData \\\n",
    "        .withColumn(f\"{feature}StandardDeviation\", f.stddev_samp(feature).over(\n",
    "            windowSpec\n",
    "        )) \\\n",
    "        .withColumn(f\"{feature}Average\", f.avg(feature).over(\n",
    "            windowSpec\n",
    "        )) \\\n",
    "        .withColumn(\"lowerBound\",\n",
    "            f.expr(f\"{feature}Average - ({stdevs_to_consider_as_outlier} * {feature}StandardDeviation)\")) \\\n",
    "        .withColumn(\"upperBound\",\n",
    "            f.expr(f\"{feature}Average + ({stdevs_to_consider_as_outlier} * {feature}StandardDeviation)\")) \\\n",
    "        .filter((f.col(feature) < f.col('lowerBound')) | (f.col(feature) > f.col('upperBound'))) \\\n",
    "        .filter(f.col(\"latBox\") == latBox) \\\n",
    "        .filter(f.col(\"longBox\") == longBox) \\\n",
    "        .filter(f.col(\"df1Timestamp\").between(*dates))"
   ]
  },
  {
   "cell_type": "code",
   "execution_count": 166,
   "id": "provincial-graduate",
   "metadata": {},
   "outputs": [
    {
     "name": "stdout",
     "output_type": "stream",
     "text": [
      "+-----------+--------+\n",
      "|df1SensorId|count(1)|\n",
      "+-----------+--------+\n",
      "|       3500|      65|\n",
      "|       3738|      17|\n",
      "+-----------+--------+\n",
      "\n",
      "+-----------+-------------------+-----------+\n",
      "|df1SensorId|       df1Timestamp|temperature|\n",
      "+-----------+-------------------+-----------+\n",
      "|       3500|2017-07-02 14:08:55|       49.9|\n",
      "|       3500|2017-07-02 14:11:22|      49.77|\n",
      "|       3500|2017-07-02 14:23:34|      49.64|\n",
      "|       3500|2017-07-02 14:13:48|      49.63|\n",
      "|       3500|2017-07-02 14:16:15|       49.6|\n",
      "|       3500|2017-07-02 14:04:02|      49.59|\n",
      "|       3500|2017-07-02 14:06:29|       49.5|\n",
      "|       3500|2017-07-02 13:51:50|      49.37|\n",
      "|       3500|2017-07-02 13:54:16|      49.32|\n",
      "|       3500|2017-07-02 14:01:36|      49.29|\n",
      "|       3500|2017-07-02 14:26:01|      49.29|\n",
      "|       3500|2017-07-02 13:49:23|      49.27|\n",
      "|       3500|2017-07-02 13:20:05|      49.25|\n",
      "|       3500|2017-07-02 13:44:30|      49.25|\n",
      "|       3500|2017-07-02 13:22:32|      49.24|\n",
      "|       3500|2017-07-02 13:46:57|      49.19|\n",
      "|       3500|2017-07-02 14:18:41|      49.14|\n",
      "|       3500|2017-07-02 13:29:52|      49.12|\n",
      "|       3500|2017-07-02 13:27:25|      49.08|\n",
      "|       3500|2017-07-02 13:39:37|      49.07|\n",
      "+-----------+-------------------+-----------+\n",
      "only showing top 20 rows\n",
      "\n"
     ]
    }
   ],
   "source": [
    "outlierRows(feature='temperature',\n",
    "               latBox=42.6916,\n",
    "               longBox=23.32,\n",
    "               start=\"2017-07-01 21:00:00\",\n",
    "               end=\"2017-07-02 21:00:00\",\n",
    "               stdevs_to_consider_as_outlier=3) \\\n",
    "    .groupBy(\"df1SensorId\") \\\n",
    "    .agg(f.count(\"*\")) \\\n",
    "    .show()\n",
    "\n",
    "outlierRows(feature='temperature',\n",
    "               latBox=42.6916,\n",
    "               longBox=23.32,\n",
    "               start=\"2017-07-01 21:00:00\",\n",
    "               end=\"2017-07-02 21:00:00\",\n",
    "               stdevs_to_consider_as_outlier=3) \\\n",
    "    .select(['df1SensorId', 'df1Timestamp', 'temperature']) \\\n",
    "    .orderBy(f.col('temperature').desc()) \\\n",
    "    .show()"
   ]
  },
  {
   "cell_type": "markdown",
   "id": "accurate-example",
   "metadata": {},
   "source": [
    "Podemos perceber que de fato há várias observações com temperaturas altamente elevadas, o que pode configurar um defeito no sensor ou alguma situação real no momento das observações.\n",
    "\n",
    "Podemos conduzir uma análise parecida para os sensores que reportam partículas P1:"
   ]
  },
  {
   "cell_type": "code",
   "execution_count": 167,
   "id": "independent-harris",
   "metadata": {},
   "outputs": [
    {
     "name": "stdout",
     "output_type": "stream",
     "text": [
      "+----------+------------+\n",
      "|totalCount|outlierCount|\n",
      "+----------+------------+\n",
      "|     96084|         372|\n",
      "+----------+------------+\n",
      "\n"
     ]
    }
   ],
   "source": [
    "analyzeOutliersNoGrouping('P1', stdevs_to_consider_as_outlier=3).show()"
   ]
  },
  {
   "cell_type": "code",
   "execution_count": 168,
   "id": "prompt-hayes",
   "metadata": {},
   "outputs": [
    {
     "name": "stdout",
     "output_type": "stream",
     "text": [
      "+-------+------------------+----------+------------+\n",
      "| latBox|           longBox|totalCount|outlierCount|\n",
      "+-------+------------------+----------+------------+\n",
      "|42.6684|23.287000000000003|     13150|         243|\n",
      "|42.6916|             23.32|     10688|         178|\n",
      "|42.6916|            23.353|     10487|          89|\n",
      "|42.6452|            23.254|      5444|          88|\n",
      "|42.6684|            23.353|      3984|          85|\n",
      "|42.6452|             23.32|      5957|          79|\n",
      "|42.6452|23.287000000000003|      2714|          64|\n",
      "| 42.622|            23.254|      2703|          63|\n",
      "|42.6684|            23.254|      2352|          50|\n",
      "| 42.622|            23.353|      2719|          45|\n",
      "|42.6452|            23.353|      2812|          45|\n",
      "|42.7148|            23.254|      2717|          44|\n",
      "|42.6684|             23.32|      8847|          39|\n",
      "|42.6684|            23.386|      2722|          39|\n",
      "|42.6452|            23.386|      2665|          25|\n",
      "|42.7148|23.287000000000003|      2690|          23|\n",
      "|42.6916|23.287000000000003|      2735|          14|\n",
      "| 42.622|23.287000000000003|      2725|          11|\n",
      "|42.6916|            23.386|      5303|          11|\n",
      "| 42.622|            23.386|      2670|           6|\n",
      "+-------+------------------+----------+------------+\n",
      "\n"
     ]
    }
   ],
   "source": [
    "analyzeOutliersNoTime('P1', stdevs_to_consider_as_outlier=3).show()"
   ]
  },
  {
   "cell_type": "code",
   "execution_count": 171,
   "id": "maritime-intelligence",
   "metadata": {},
   "outputs": [
    {
     "name": "stdout",
     "output_type": "stream",
     "text": [
      "+-------+------------------+-------------------+-------------------+----------+------------+\n",
      "| latBox|           longBox|              start|                end|totalCount|outlierCount|\n",
      "+-------+------------------+-------------------+-------------------+----------+------------+\n",
      "|42.6916|             23.32|2017-07-02 21:00:00|2017-07-03 21:00:00|      2333|         113|\n",
      "|42.6916|             23.32|2017-07-03 21:00:00|2017-07-04 21:00:00|      2354|          90|\n",
      "|42.6684|23.287000000000003|2017-07-03 21:00:00|2017-07-04 21:00:00|      2681|          47|\n",
      "|42.6916|             23.32|2017-07-01 21:00:00|2017-07-02 21:00:00|      2348|          44|\n",
      "|42.6684|             23.32|2017-07-01 21:00:00|2017-07-02 21:00:00|      1940|          30|\n",
      "|42.6452|             23.32|2017-07-01 21:00:00|2017-07-02 21:00:00|      1166|          29|\n",
      "|42.6916|            23.353|2017-07-03 21:00:00|2017-07-04 21:00:00|      2335|          27|\n",
      "|42.6916|            23.353|2017-07-04 21:00:00|2017-07-05 21:00:00|      1593|          25|\n",
      "|42.6452|             23.32|2017-07-03 21:00:00|2017-07-04 21:00:00|      1254|          24|\n",
      "|42.6916|            23.353|2017-07-02 21:00:00|2017-07-03 21:00:00|      2298|          23|\n",
      "|42.6684|             23.32|2017-06-30 21:00:00|2017-07-01 21:00:00|      1959|          20|\n",
      "|42.6684|            23.353|2017-07-04 21:00:00|2017-07-05 21:00:00|       844|          20|\n",
      "|42.6916|            23.353|2017-07-01 21:00:00|2017-07-02 21:00:00|      2331|          20|\n",
      "|42.6452|            23.353|2017-07-01 21:00:00|2017-07-02 21:00:00|       605|          18|\n",
      "|42.6452|            23.254|2017-07-01 21:00:00|2017-07-02 21:00:00|      1168|          18|\n",
      "|42.6684|23.287000000000003|2017-07-02 21:00:00|2017-07-03 21:00:00|      2838|          17|\n",
      "|42.6684|23.287000000000003|2017-06-30 21:00:00|2017-07-01 21:00:00|      2373|          17|\n",
      "|42.6684|             23.32|2017-07-04 21:00:00|2017-07-05 21:00:00|      1413|          17|\n",
      "|42.6916|            23.386|2017-07-01 21:00:00|2017-07-02 21:00:00|      1152|          17|\n",
      "|42.6684|            23.353|2017-07-01 21:00:00|2017-07-02 21:00:00|       683|          15|\n",
      "+-------+------------------+-------------------+-------------------+----------+------------+\n",
      "only showing top 20 rows\n",
      "\n"
     ]
    }
   ],
   "source": [
    "analyzeOutliers('P1', stdevs_to_consider_as_outlier=3).show()"
   ]
  },
  {
   "cell_type": "markdown",
   "id": "compact-injury",
   "metadata": {},
   "source": [
    "Nesse caso, temos um perfil diferente de outliers, o que pode significar que a distribuição das observações de P1 é de cauda mais longa que a de temperatura."
   ]
  },
  {
   "cell_type": "code",
   "execution_count": 172,
   "id": "exterior-aging",
   "metadata": {},
   "outputs": [
    {
     "name": "stdout",
     "output_type": "stream",
     "text": [
      "+-----------+--------+\n",
      "|df2SensorId|count(1)|\n",
      "+-----------+--------+\n",
      "|       2229|     112|\n",
      "|       3737|       1|\n",
      "+-----------+--------+\n",
      "\n",
      "+-----------+-------------------+------+\n",
      "|df2SensorId|       df2Timestamp|    P1|\n",
      "+-----------+-------------------+------+\n",
      "|       3737|2017-07-03 02:45:04| 955.0|\n",
      "|       2229|2017-07-03 15:23:28| 926.4|\n",
      "|       2229|2017-07-03 15:47:54|850.07|\n",
      "|       2229|2017-07-03 15:18:35|820.17|\n",
      "|       2229|2017-07-03 15:57:40| 816.3|\n",
      "|       2229|2017-07-03 16:14:46| 777.2|\n",
      "|       2229|2017-07-03 08:50:00|757.03|\n",
      "|       2229|2017-07-03 15:16:09| 753.3|\n",
      "|       2229|2017-07-03 15:21:02|737.67|\n",
      "|       2229|2017-07-03 16:12:20|735.17|\n",
      "|       2229|2017-07-03 08:30:25|733.03|\n",
      "|       2229|2017-07-03 15:38:08|723.37|\n",
      "|       2229|2017-07-03 08:25:32|709.47|\n",
      "|       2229|2017-07-03 08:54:53| 707.7|\n",
      "|       2229|2017-07-03 07:07:22|702.77|\n",
      "|       2229|2017-07-03 08:45:07| 700.0|\n",
      "|       2229|2017-07-03 15:45:27|697.17|\n",
      "|       2229|2017-07-03 09:02:14|696.43|\n",
      "|       2229|2017-07-03 16:07:27|695.47|\n",
      "|       2229|2017-07-03 06:28:16| 690.3|\n",
      "+-----------+-------------------+------+\n",
      "only showing top 20 rows\n",
      "\n"
     ]
    }
   ],
   "source": [
    "outlierRows(feature='P1',\n",
    "               latBox=42.6916,\n",
    "               longBox=23.32,\n",
    "               start=\"2017-07-02 21:00:00\",\n",
    "               end=\"2017-07-03 21:00:00\",\n",
    "               stdevs_to_consider_as_outlier=3) \\\n",
    "    .groupBy(\"df2SensorId\") \\\n",
    "    .agg(f.count(\"*\")) \\\n",
    "    .show()\n",
    "\n",
    "outlierRows(feature='P1',\n",
    "               latBox=42.6916,\n",
    "               longBox=23.32,\n",
    "               start=\"2017-07-02 21:00:00\",\n",
    "               end=\"2017-07-03 21:00:00\",\n",
    "               stdevs_to_consider_as_outlier=3) \\\n",
    "    .select(['df2SensorId', 'df2Timestamp', 'P1']) \\\n",
    "    .orderBy(f.col('P1').desc()) \\\n",
    "    .show()"
   ]
  },
  {
   "cell_type": "markdown",
   "id": "entire-albert",
   "metadata": {},
   "source": [
    "Acima, podemos perceber que o sensor 2229 reportou níveis de P1 elevadíssimos de forma constante, o que pode indicar um alto nível de poluição na área na janela analisada. Já o sensor 3737 reportou um único evento fora do comum, o que pode sinalizar um defeito."
   ]
  },
  {
   "cell_type": "markdown",
   "id": "accepting-summary",
   "metadata": {},
   "source": [
    "Análises similares podem ser realizadas para P2, umidade e pressão, mas serão omitidas por brevidade."
   ]
  },
  {
   "cell_type": "markdown",
   "id": "dirty-deadline",
   "metadata": {},
   "source": [
    "Para a terceira parte, iremos fazer uma predição de P1 e P2 usando algoritmos de classificação. Isso pode ser útil para prever níveis de poluição de áreas que não possuam sensores de P1 e P2, que costumam ser mais caros que os sensores de temperatura, pressão e umidade."
   ]
  },
  {
   "cell_type": "code",
   "execution_count": 225,
   "id": "f69c3c1d",
   "metadata": {},
   "outputs": [],
   "source": [
    "df = joinedWithoutDuplicates \\\n",
    "    .withColumn(\"df1UnixTimestamp\", unix_timestamp(\"df1Timestamp\"))\\\n",
    "    .withColumn(\"df2UnixTimestamp\", unix_timestamp(\"df2Timestamp\"))\n",
    "\n",
    "class PClass:\n",
    "    def __init__(self, label, min, max=float('inf')):\n",
    "        self.label = label\n",
    "        self.min = min\n",
    "        self.max = max"
   ]
  },
  {
   "cell_type": "code",
   "execution_count": 226,
   "id": "6aa96338",
   "metadata": {},
   "outputs": [
    {
     "data": {
      "text/plain": [
       "(array([0.000e+00, 0.000e+00, 0.000e+00, 0.000e+00, 0.000e+00, 0.000e+00,\n",
       "        4.000e+00, 0.000e+00, 6.000e+00, 4.000e+00, 5.000e+00, 5.000e+00,\n",
       "        4.000e+00, 1.400e+01, 7.000e+00, 1.500e+01, 2.500e+01, 4.400e+01,\n",
       "        5.700e+01, 3.500e+01, 6.000e+01, 8.500e+01, 1.560e+02, 1.490e+02,\n",
       "        6.900e+01, 1.870e+02, 2.090e+02, 3.510e+02, 2.850e+02, 1.350e+02,\n",
       "        3.190e+02, 3.710e+02, 6.050e+02, 2.450e+02, 4.380e+02, 4.650e+02,\n",
       "        4.770e+02, 7.920e+02, 2.960e+02, 5.890e+02, 8.910e+02, 3.460e+02,\n",
       "        1.001e+03, 3.700e+02, 7.110e+02, 1.068e+03, 4.330e+02, 1.110e+03,\n",
       "        3.890e+02, 7.530e+02, 1.142e+03, 4.630e+02, 1.149e+03, 4.550e+02,\n",
       "        7.890e+02, 1.141e+03, 4.570e+02, 1.211e+03, 4.660e+02, 8.070e+02,\n",
       "        1.138e+03, 5.250e+02, 1.175e+03, 4.650e+02, 8.600e+02, 1.139e+03,\n",
       "        4.840e+02, 8.100e+02, 7.720e+02, 8.110e+02, 1.142e+03, 4.450e+02,\n",
       "        7.770e+02, 7.890e+02, 7.870e+02, 1.064e+03, 4.530e+02, 7.560e+02,\n",
       "        7.400e+02, 7.770e+02, 9.720e+02, 7.390e+02, 4.030e+02, 6.680e+02,\n",
       "        7.100e+02, 9.540e+02, 6.550e+02, 3.880e+02, 6.700e+02, 6.490e+02,\n",
       "        8.950e+02, 6.280e+02, 3.210e+02, 6.100e+02, 6.260e+02, 8.040e+02,\n",
       "        5.860e+02, 3.590e+02, 5.560e+02, 5.880e+02, 7.820e+02, 5.360e+02,\n",
       "        3.140e+02, 5.440e+02, 5.380e+02, 7.150e+02, 5.010e+02, 3.050e+02,\n",
       "        4.700e+02, 4.780e+02, 7.350e+02, 4.410e+02, 2.900e+02, 4.980e+02,\n",
       "        4.550e+02, 5.900e+02, 4.510e+02, 2.600e+02, 4.420e+02, 3.760e+02,\n",
       "        5.700e+02, 4.270e+02, 2.390e+02, 4.010e+02, 4.190e+02, 5.230e+02,\n",
       "        3.870e+02, 2.450e+02, 4.070e+02, 3.690e+02, 3.740e+02, 5.210e+02,\n",
       "        2.400e+02, 3.160e+02, 3.410e+02, 3.980e+02, 5.240e+02, 2.040e+02,\n",
       "        3.420e+02, 3.490e+02, 3.330e+02, 4.410e+02, 2.020e+02, 3.300e+02,\n",
       "        3.350e+02, 3.380e+02, 4.440e+02, 1.820e+02, 3.220e+02, 3.080e+02,\n",
       "        3.010e+02, 4.270e+02, 1.950e+02, 3.020e+02, 2.570e+02, 2.970e+02,\n",
       "        4.090e+02, 1.890e+02, 2.640e+02, 2.560e+02, 2.420e+02, 3.960e+02,\n",
       "        1.690e+02, 3.750e+02, 1.470e+02, 2.790e+02, 3.670e+02, 1.380e+02,\n",
       "        3.500e+02, 1.490e+02, 2.590e+02, 3.550e+02, 1.430e+02, 3.290e+02,\n",
       "        1.480e+02, 2.520e+02, 3.160e+02, 1.510e+02, 2.940e+02, 1.350e+02,\n",
       "        2.120e+02, 2.960e+02, 1.330e+02, 3.220e+02, 1.400e+02, 2.250e+02,\n",
       "        2.710e+02, 1.170e+02, 2.950e+02, 1.320e+02, 1.870e+02, 2.690e+02,\n",
       "        1.100e+02, 2.670e+02, 1.190e+02, 1.950e+02, 2.600e+02, 1.090e+02,\n",
       "        2.550e+02, 1.100e+02, 1.680e+02, 2.290e+02, 1.080e+02, 2.500e+02,\n",
       "        1.010e+02, 1.810e+02, 2.250e+02, 1.040e+02, 2.390e+02, 9.800e+01,\n",
       "        1.490e+02, 2.110e+02, 7.300e+01, 2.630e+02, 8.400e+01, 1.370e+02,\n",
       "        2.180e+02, 1.020e+02, 1.910e+02, 8.900e+01, 1.290e+02, 1.650e+02,\n",
       "        7.900e+01, 1.560e+02, 7.600e+01, 1.290e+02, 1.750e+02, 7.700e+01,\n",
       "        1.820e+02, 6.800e+01, 1.240e+02, 1.880e+02, 6.500e+01, 1.550e+02,\n",
       "        7.000e+01, 1.060e+02, 1.700e+02, 6.400e+01, 1.400e+02, 7.000e+01,\n",
       "        9.800e+01, 1.270e+02, 5.100e+01, 1.080e+02, 6.200e+01, 1.010e+02,\n",
       "        1.460e+02, 7.100e+01, 1.200e+02, 4.100e+01, 8.100e+01, 1.180e+02,\n",
       "        6.100e+01, 1.240e+02, 5.300e+01, 8.500e+01, 6.800e+01, 8.400e+01,\n",
       "        9.800e+01, 5.900e+01, 6.500e+01, 7.600e+01, 6.900e+01, 8.900e+01,\n",
       "        4.300e+01, 6.700e+01, 7.600e+01, 6.800e+01, 8.800e+01, 5.200e+01,\n",
       "        6.400e+01, 5.400e+01, 6.500e+01, 9.000e+01, 2.800e+01, 6.200e+01,\n",
       "        5.400e+01, 6.500e+01, 7.100e+01, 3.700e+01, 5.700e+01, 5.600e+01,\n",
       "        4.500e+01, 6.300e+01, 2.500e+01, 5.300e+01, 4.200e+01, 4.600e+01,\n",
       "        6.500e+01, 3.700e+01, 4.000e+01, 4.500e+01, 4.700e+01, 6.500e+01,\n",
       "        2.800e+01, 4.200e+01, 2.900e+01, 4.300e+01, 5.800e+01, 3.200e+01,\n",
       "        2.600e+01, 3.100e+01, 2.900e+01, 4.300e+01, 2.200e+01, 4.000e+01,\n",
       "        3.300e+01, 4.000e+01, 3.900e+01, 2.800e+01, 3.300e+01, 3.100e+01,\n",
       "        3.800e+01, 5.100e+01, 2.400e+01, 3.600e+01, 3.200e+01, 3.400e+01,\n",
       "        2.800e+01, 1.600e+01, 2.600e+01, 3.500e+01, 5.300e+01, 3.400e+01,\n",
       "        1.400e+01, 2.700e+01, 3.400e+01, 3.800e+01, 2.900e+01, 1.400e+01,\n",
       "        2.800e+01, 2.400e+01, 3.100e+01, 2.800e+01, 8.000e+00, 2.300e+01,\n",
       "        2.000e+01, 3.100e+01, 2.500e+01, 1.800e+01, 1.800e+01, 2.000e+01,\n",
       "        2.600e+01, 1.800e+01, 6.000e+00, 2.500e+01, 1.200e+01, 3.300e+01,\n",
       "        1.800e+01, 9.000e+00, 2.000e+01, 1.900e+01, 2.500e+01, 1.600e+01,\n",
       "        1.000e+01, 1.700e+01, 1.800e+01, 2.200e+01, 1.800e+01, 1.300e+01,\n",
       "        2.600e+01, 1.500e+01, 3.000e+01, 1.300e+01, 1.500e+01, 2.300e+01,\n",
       "        1.900e+01, 1.700e+01, 1.300e+01, 1.500e+01, 8.000e+00, 1.600e+01,\n",
       "        2.500e+01, 9.000e+00, 1.000e+01, 1.600e+01, 1.500e+01, 2.000e+01,\n",
       "        2.600e+01, 8.000e+00, 1.400e+01, 1.000e+01, 2.000e+01, 1.700e+01,\n",
       "        7.000e+00, 1.500e+01, 1.300e+01, 1.300e+01, 1.400e+01, 6.000e+00,\n",
       "        1.200e+01, 2.200e+01, 2.500e+01, 9.000e+00, 5.000e+00, 1.500e+01,\n",
       "        1.100e+01, 1.100e+01, 1.900e+01, 8.000e+00, 1.800e+01, 1.400e+01,\n",
       "        1.300e+01, 9.000e+00, 8.000e+00, 1.300e+01, 1.200e+01, 1.200e+01,\n",
       "        8.000e+00, 6.000e+00, 7.000e+00, 1.200e+01, 1.500e+01, 1.500e+01,\n",
       "        5.000e+00, 9.000e+00, 1.100e+01, 1.400e+01, 1.600e+01, 4.000e+00,\n",
       "        6.000e+00, 4.000e+00, 8.000e+00, 7.000e+00, 7.000e+00, 5.000e+00,\n",
       "        1.100e+01, 8.000e+00, 7.000e+00, 7.000e+00, 7.000e+00, 5.000e+00,\n",
       "        1.100e+01, 9.000e+00, 3.000e+00, 7.000e+00, 6.000e+00, 1.200e+01,\n",
       "        1.000e+01, 5.000e+00, 1.000e+01, 7.000e+00, 9.000e+00, 7.000e+00,\n",
       "        3.000e+00, 6.000e+00, 1.400e+01, 3.000e+00, 9.000e+00, 2.000e+00,\n",
       "        6.000e+00, 6.000e+00, 8.000e+00, 7.000e+00, 6.000e+00, 9.000e+00,\n",
       "        1.000e+01, 1.000e+01, 3.000e+00, 4.000e+00, 1.000e+01, 5.000e+00,\n",
       "        8.000e+00, 6.000e+00, 1.000e+00, 2.000e+00, 8.000e+00, 6.000e+00,\n",
       "        7.000e+00, 6.000e+00, 5.000e+00, 5.000e+00, 8.000e+00, 3.000e+00,\n",
       "        4.000e+00, 5.000e+00, 4.000e+00, 5.000e+00, 5.000e+00, 4.000e+00,\n",
       "        7.000e+00, 4.000e+00, 9.000e+00, 8.000e+00, 3.000e+00, 4.000e+00,\n",
       "        6.000e+00, 6.000e+00, 2.000e+00, 0.000e+00, 2.000e+00, 4.000e+00,\n",
       "        6.000e+00, 7.000e+00, 5.000e+00, 6.000e+00, 2.000e+00, 7.000e+00,\n",
       "        4.000e+00, 3.000e+00, 3.000e+00, 2.000e+00, 2.000e+00, 1.000e+00,\n",
       "        1.000e+00, 3.000e+00, 0.000e+00, 3.000e+00, 3.000e+00, 1.000e+00,\n",
       "        4.000e+00, 6.000e+00, 3.000e+00, 5.000e+00, 6.000e+00, 1.000e+00,\n",
       "        4.000e+00, 4.000e+00, 2.000e+00, 2.000e+00, 2.000e+00, 3.000e+00,\n",
       "        5.000e+00, 1.000e+00, 5.000e+00, 4.000e+00, 2.000e+00, 2.000e+00,\n",
       "        1.000e+00, 0.000e+00, 2.000e+00, 2.000e+00, 4.000e+00, 1.000e+00,\n",
       "        3.000e+00, 2.000e+00, 3.000e+00, 2.000e+00, 1.000e+00, 0.000e+00,\n",
       "        2.000e+00, 1.000e+00, 3.000e+00, 3.000e+00, 2.000e+00, 6.000e+00,\n",
       "        4.000e+00, 4.000e+00, 4.000e+00, 3.000e+00, 1.000e+00, 0.000e+00,\n",
       "        4.000e+00, 0.000e+00, 2.000e+00, 3.000e+00, 0.000e+00, 3.000e+00,\n",
       "        1.000e+00, 3.000e+00, 3.000e+00, 3.000e+00, 4.000e+00, 0.000e+00,\n",
       "        0.000e+00, 2.000e+00, 4.000e+00, 2.000e+00, 3.000e+00, 4.000e+00,\n",
       "        3.000e+00, 0.000e+00, 1.000e+00, 0.000e+00, 0.000e+00, 1.000e+00,\n",
       "        4.000e+00, 1.000e+00, 0.000e+00, 3.000e+00, 5.000e+00, 0.000e+00,\n",
       "        0.000e+00, 0.000e+00, 1.000e+00, 5.000e+00, 0.000e+00, 1.000e+00,\n",
       "        1.000e+00, 0.000e+00, 2.000e+00, 0.000e+00, 1.000e+00, 1.000e+00,\n",
       "        3.000e+00, 0.000e+00, 1.000e+00, 3.000e+00, 2.000e+00, 0.000e+00,\n",
       "        1.000e+00, 0.000e+00, 1.000e+00, 1.000e+00, 0.000e+00, 3.000e+00,\n",
       "        1.000e+00, 4.000e+00, 0.000e+00, 4.000e+00, 0.000e+00, 1.000e+00,\n",
       "        2.000e+00, 2.000e+00, 0.000e+00, 1.000e+00, 2.000e+00, 2.000e+00,\n",
       "        1.000e+00, 1.000e+00, 1.000e+00, 1.000e+00, 2.000e+00, 1.000e+00,\n",
       "        0.000e+00, 0.000e+00, 1.000e+00, 1.000e+00, 0.000e+00, 2.000e+00,\n",
       "        0.000e+00, 3.000e+00, 2.000e+00, 0.000e+00, 0.000e+00, 0.000e+00,\n",
       "        0.000e+00, 1.000e+00, 1.000e+00, 2.000e+00, 2.000e+00, 1.000e+00,\n",
       "        2.000e+00, 1.000e+00, 1.000e+00, 2.000e+00, 0.000e+00, 1.000e+00,\n",
       "        1.000e+00, 1.000e+00, 1.000e+00, 0.000e+00, 0.000e+00, 0.000e+00,\n",
       "        1.000e+00, 0.000e+00, 3.000e+00, 0.000e+00, 1.000e+00, 1.000e+00,\n",
       "        1.000e+00, 0.000e+00, 1.000e+00, 0.000e+00, 1.000e+00, 0.000e+00,\n",
       "        0.000e+00, 2.000e+00, 1.000e+00, 1.000e+00, 0.000e+00, 1.000e+00,\n",
       "        2.000e+00, 1.000e+00, 0.000e+00, 1.000e+00, 0.000e+00, 0.000e+00,\n",
       "        1.000e+00, 0.000e+00, 1.000e+00, 0.000e+00, 1.000e+00, 0.000e+00,\n",
       "        0.000e+00, 3.000e+00, 0.000e+00, 0.000e+00, 0.000e+00, 0.000e+00,\n",
       "        1.000e+00, 1.000e+00, 0.000e+00, 0.000e+00, 2.000e+00, 1.000e+00,\n",
       "        1.000e+00, 1.000e+00, 0.000e+00, 1.000e+00, 0.000e+00, 1.000e+00,\n",
       "        2.000e+00, 0.000e+00, 0.000e+00, 2.000e+00, 0.000e+00, 1.000e+00,\n",
       "        1.000e+00, 1.000e+00, 0.000e+00, 0.000e+00, 1.000e+00, 1.000e+00,\n",
       "        0.000e+00, 3.000e+00, 1.000e+00, 2.000e+00, 0.000e+00, 1.000e+00,\n",
       "        1.000e+00, 2.000e+00, 1.000e+00, 1.000e+00, 0.000e+00, 2.000e+00,\n",
       "        0.000e+00, 2.000e+00, 0.000e+00, 0.000e+00, 2.000e+00, 0.000e+00,\n",
       "        0.000e+00, 0.000e+00, 0.000e+00, 1.000e+00, 2.000e+00, 1.000e+00,\n",
       "        2.000e+00, 2.000e+00, 2.000e+00, 0.000e+00, 1.000e+00, 0.000e+00,\n",
       "        1.000e+00, 1.000e+00, 1.000e+00, 1.000e+00, 0.000e+00, 0.000e+00,\n",
       "        0.000e+00, 0.000e+00, 0.000e+00, 1.000e+00, 0.000e+00, 0.000e+00,\n",
       "        0.000e+00, 1.000e+00, 0.000e+00, 0.000e+00, 2.000e+00, 1.000e+00,\n",
       "        0.000e+00, 0.000e+00, 0.000e+00, 1.000e+00, 2.000e+00, 1.000e+00,\n",
       "        0.000e+00, 0.000e+00, 0.000e+00, 1.000e+00, 0.000e+00, 0.000e+00,\n",
       "        0.000e+00, 2.000e+00, 0.000e+00, 0.000e+00, 0.000e+00, 0.000e+00,\n",
       "        0.000e+00, 0.000e+00, 1.000e+00, 0.000e+00, 0.000e+00, 1.000e+00,\n",
       "        0.000e+00, 2.000e+00, 0.000e+00, 4.000e+00, 0.000e+00, 0.000e+00,\n",
       "        3.000e+00, 0.000e+00, 0.000e+00, 1.000e+00, 1.000e+00, 0.000e+00,\n",
       "        1.000e+00, 1.000e+00, 1.000e+00, 0.000e+00, 3.000e+00, 0.000e+00,\n",
       "        0.000e+00, 0.000e+00, 1.000e+00, 0.000e+00, 1.000e+00, 0.000e+00,\n",
       "        1.000e+00, 0.000e+00, 0.000e+00, 2.000e+00, 0.000e+00, 1.000e+00,\n",
       "        0.000e+00, 0.000e+00, 0.000e+00, 0.000e+00, 0.000e+00, 0.000e+00,\n",
       "        2.000e+00, 2.000e+00, 0.000e+00, 2.000e+00, 2.000e+00, 0.000e+00,\n",
       "        0.000e+00, 1.000e+00, 2.000e+00, 0.000e+00, 0.000e+00, 0.000e+00,\n",
       "        0.000e+00, 1.000e+00, 0.000e+00, 1.000e+00, 0.000e+00, 0.000e+00,\n",
       "        0.000e+00, 0.000e+00, 1.000e+00, 1.000e+00, 0.000e+00, 1.000e+00,\n",
       "        2.000e+00, 0.000e+00, 0.000e+00, 2.000e+00, 1.000e+00, 0.000e+00,\n",
       "        1.000e+00, 1.000e+00, 0.000e+00, 2.000e+00, 0.000e+00, 0.000e+00,\n",
       "        0.000e+00, 0.000e+00, 1.000e+00, 0.000e+00, 0.000e+00, 0.000e+00,\n",
       "        2.000e+00, 0.000e+00, 1.000e+00, 0.000e+00, 0.000e+00, 1.000e+00,\n",
       "        2.000e+00, 2.000e+00, 0.000e+00, 0.000e+00, 0.000e+00, 1.000e+00,\n",
       "        0.000e+00, 1.000e+00, 1.000e+00, 1.000e+00, 2.000e+00, 1.000e+00,\n",
       "        0.000e+00, 0.000e+00, 0.000e+00, 0.000e+00, 2.000e+00, 2.000e+00,\n",
       "        0.000e+00, 0.000e+00, 1.000e+00, 0.000e+00, 1.000e+00, 0.000e+00,\n",
       "        1.000e+00, 0.000e+00, 0.000e+00, 0.000e+00, 0.000e+00, 1.000e+00,\n",
       "        0.000e+00, 0.000e+00, 2.000e+00, 0.000e+00, 0.000e+00, 1.000e+00,\n",
       "        0.000e+00, 1.000e+00, 1.000e+00, 3.000e+00, 2.000e+00, 0.000e+00,\n",
       "        1.000e+00, 1.000e+00, 0.000e+00, 1.000e+00, 3.000e+00, 0.000e+00,\n",
       "        0.000e+00, 0.000e+00, 1.000e+00, 2.000e+00, 0.000e+00, 1.000e+00,\n",
       "        0.000e+00, 2.000e+00, 0.000e+00, 1.000e+00, 0.000e+00, 2.000e+00,\n",
       "        0.000e+00, 0.000e+00, 0.000e+00, 0.000e+00, 1.000e+00, 0.000e+00,\n",
       "        0.000e+00, 1.000e+00, 0.000e+00, 1.000e+00, 0.000e+00, 0.000e+00,\n",
       "        1.000e+00, 0.000e+00, 0.000e+00, 2.000e+00, 1.000e+00, 1.000e+00,\n",
       "        0.000e+00, 2.000e+00, 1.000e+00, 1.000e+00, 2.000e+00, 0.000e+00,\n",
       "        0.000e+00, 0.000e+00, 1.000e+00, 3.000e+00, 1.000e+00, 0.000e+00,\n",
       "        0.000e+00, 0.000e+00, 0.000e+00, 0.000e+00, 0.000e+00, 0.000e+00,\n",
       "        0.000e+00, 1.000e+00, 0.000e+00, 2.000e+00, 3.000e+00, 0.000e+00,\n",
       "        0.000e+00, 0.000e+00, 1.000e+00, 2.000e+00, 0.000e+00, 0.000e+00,\n",
       "        0.000e+00, 0.000e+00, 0.000e+00, 0.000e+00, 0.000e+00, 0.000e+00,\n",
       "        0.000e+00, 0.000e+00, 0.000e+00, 0.000e+00, 0.000e+00, 3.000e+00,\n",
       "        2.000e+00, 0.000e+00, 1.000e+00, 0.000e+00, 1.000e+00, 2.000e+00,\n",
       "        0.000e+00, 0.000e+00, 0.000e+00, 0.000e+00]),\n",
       " array([  0. ,   0.1,   0.2, ...,  99.8,  99.9, 100. ]),\n",
       " <BarContainer object of 1000 artists>)"
      ]
     },
     "execution_count": 226,
     "metadata": {},
     "output_type": "execute_result"
    },
    {
     "data": {
      "image/png": "[encoded data removed]",
      "text/plain": [
       "<Figure size 432x288 with 1 Axes>"
      ]
     },
     "metadata": {
      "needs_background": "light"
     },
     "output_type": "display_data"
    }
   ],
   "source": [
    "# Analisando histograma de P1 para decidir em quantos classes dividir\n",
    "from pyspark_dist_explore import hist\n",
    "fig, ax = plt.subplots()\n",
    "hist(ax, df.select('P1'), bins = 1000, color=['red'], range=(0, 100))"
   ]
  },
  {
   "cell_type": "code",
   "execution_count": 227,
   "id": "2a9a35c8",
   "metadata": {},
   "outputs": [
    {
     "data": {
      "text/plain": [
       "(array([0.000e+00, 0.000e+00, 0.000e+00, 0.000e+00, 0.000e+00, 2.000e+00,\n",
       "        5.000e+00, 1.000e+00, 1.500e+01, 6.000e+00, 4.000e+00, 2.000e+01,\n",
       "        5.000e+00, 3.800e+01, 1.900e+01, 4.200e+01, 8.000e+01, 7.900e+01,\n",
       "        1.900e+02, 6.000e+01, 1.740e+02, 2.130e+02, 5.000e+02, 4.090e+02,\n",
       "        2.280e+02, 5.660e+02, 6.250e+02, 1.210e+03, 9.010e+02, 4.400e+02,\n",
       "        1.012e+03, 1.106e+03, 1.772e+03, 5.910e+02, 1.222e+03, 1.287e+03,\n",
       "        1.344e+03, 2.120e+03, 6.900e+02, 1.407e+03, 2.236e+03, 7.300e+02,\n",
       "        2.323e+03, 7.630e+02, 1.586e+03, 2.395e+03, 8.370e+02, 2.435e+03,\n",
       "        7.830e+02, 1.632e+03, 2.433e+03, 8.190e+02, 2.278e+03, 7.630e+02,\n",
       "        1.569e+03, 2.205e+03, 6.910e+02, 2.135e+03, 7.230e+02, 1.331e+03,\n",
       "        1.860e+03, 6.250e+02, 1.769e+03, 6.150e+02, 1.155e+03, 1.729e+03,\n",
       "        5.920e+02, 1.133e+03, 1.073e+03, 1.101e+03, 1.594e+03, 5.140e+02,\n",
       "        9.550e+02, 9.610e+02, 9.140e+02, 1.405e+03, 4.260e+02, 8.220e+02,\n",
       "        8.330e+02, 7.480e+02, 1.098e+03, 6.690e+02, 3.550e+02, 6.730e+02,\n",
       "        6.210e+02, 8.730e+02, 5.750e+02, 3.090e+02, 5.220e+02, 4.700e+02,\n",
       "        7.570e+02, 4.980e+02, 2.300e+02, 4.560e+02, 4.540e+02, 5.710e+02,\n",
       "        3.890e+02, 1.920e+02, 3.700e+02, 3.480e+02, 4.940e+02, 3.120e+02,\n",
       "        1.740e+02, 2.680e+02, 2.790e+02, 3.810e+02, 2.340e+02, 1.080e+02,\n",
       "        2.280e+02, 2.010e+02, 2.950e+02, 1.820e+02, 1.250e+02, 1.810e+02,\n",
       "        1.710e+02, 2.930e+02, 1.710e+02, 7.800e+01, 1.600e+02, 1.280e+02,\n",
       "        1.890e+02, 1.450e+02, 7.500e+01, 1.150e+02, 1.300e+02, 1.630e+02,\n",
       "        1.200e+02, 4.600e+01, 9.800e+01, 8.100e+01, 8.700e+01, 1.160e+02,\n",
       "        4.600e+01, 8.700e+01, 8.800e+01, 9.100e+01, 1.210e+02, 3.600e+01,\n",
       "        7.900e+01, 8.600e+01, 5.900e+01, 1.080e+02, 3.600e+01, 6.800e+01,\n",
       "        8.100e+01, 6.100e+01, 1.040e+02, 3.300e+01, 7.000e+01, 6.500e+01,\n",
       "        7.800e+01, 8.700e+01, 3.600e+01, 6.300e+01, 6.400e+01, 7.000e+01,\n",
       "        1.070e+02, 2.800e+01, 8.800e+01, 5.400e+01, 8.200e+01, 1.000e+02,\n",
       "        3.100e+01, 1.060e+02, 4.200e+01, 5.000e+01, 9.600e+01, 4.200e+01,\n",
       "        9.100e+01, 4.100e+01, 6.300e+01, 1.040e+02, 3.300e+01, 9.800e+01,\n",
       "        3.600e+01, 5.200e+01, 9.300e+01, 5.000e+01, 1.010e+02, 3.300e+01,\n",
       "        7.200e+01, 9.900e+01, 4.100e+01, 1.120e+02, 4.700e+01, 7.500e+01,\n",
       "        9.800e+01, 3.700e+01, 8.500e+01, 4.100e+01, 6.500e+01, 9.200e+01,\n",
       "        3.700e+01, 9.600e+01, 3.100e+01, 6.100e+01, 8.500e+01, 3.700e+01,\n",
       "        1.000e+02, 2.400e+01, 5.600e+01, 9.600e+01, 2.100e+01, 9.700e+01,\n",
       "        3.100e+01, 5.700e+01, 7.100e+01, 3.700e+01, 7.600e+01, 3.000e+01,\n",
       "        6.300e+01, 8.400e+01, 3.100e+01, 8.100e+01, 2.500e+01, 4.700e+01,\n",
       "        7.700e+01, 2.700e+01, 7.200e+01, 3.400e+01, 5.500e+01, 6.800e+01,\n",
       "        2.500e+01, 7.100e+01, 3.000e+01, 4.700e+01, 5.800e+01, 2.800e+01,\n",
       "        8.200e+01, 2.900e+01, 3.800e+01, 7.100e+01, 2.900e+01, 5.900e+01,\n",
       "        2.000e+01, 2.900e+01, 5.800e+01, 1.500e+01, 6.700e+01, 1.900e+01,\n",
       "        3.900e+01, 4.600e+01, 2.300e+01, 5.000e+01, 1.900e+01, 3.300e+01,\n",
       "        5.200e+01, 1.000e+01, 5.800e+01, 2.600e+01, 4.100e+01, 3.500e+01,\n",
       "        2.000e+01, 4.900e+01, 2.200e+01, 3.100e+01, 3.600e+01, 4.100e+01,\n",
       "        4.600e+01, 2.300e+01, 2.300e+01, 3.100e+01, 2.900e+01, 3.600e+01,\n",
       "        1.800e+01, 2.800e+01, 2.700e+01, 2.300e+01, 3.500e+01, 2.300e+01,\n",
       "        2.700e+01, 3.200e+01, 2.700e+01, 4.300e+01, 1.100e+01, 2.400e+01,\n",
       "        2.500e+01, 2.600e+01, 3.300e+01, 1.800e+01, 2.800e+01, 2.500e+01,\n",
       "        1.900e+01, 3.400e+01, 1.100e+01, 2.400e+01, 2.600e+01, 2.400e+01,\n",
       "        3.700e+01, 1.500e+01, 1.300e+01, 2.700e+01, 1.700e+01, 2.600e+01,\n",
       "        1.300e+01, 1.900e+01, 1.200e+01, 2.500e+01, 2.600e+01, 1.400e+01,\n",
       "        1.100e+01, 2.500e+01, 1.600e+01, 2.700e+01, 8.000e+00, 1.700e+01,\n",
       "        1.800e+01, 1.800e+01, 3.100e+01, 9.000e+00, 1.700e+01, 2.000e+01,\n",
       "        1.000e+01, 2.800e+01, 1.000e+01, 1.900e+01, 2.000e+01, 1.000e+01,\n",
       "        1.700e+01, 1.200e+01, 9.000e+00, 1.200e+01, 2.100e+01, 1.600e+01,\n",
       "        6.000e+00, 1.700e+01, 1.200e+01, 1.300e+01, 1.000e+01, 4.000e+00,\n",
       "        7.000e+00, 1.200e+01, 1.900e+01, 1.400e+01, 5.000e+00, 8.000e+00,\n",
       "        9.000e+00, 1.400e+01, 1.700e+01, 3.000e+00, 7.000e+00, 1.300e+01,\n",
       "        9.000e+00, 1.000e+01, 9.000e+00, 1.000e+01, 9.000e+00, 9.000e+00,\n",
       "        1.100e+01, 3.000e+00, 6.000e+00, 9.000e+00, 7.000e+00, 4.000e+00,\n",
       "        4.000e+00, 6.000e+00, 7.000e+00, 7.000e+00, 9.000e+00, 4.000e+00,\n",
       "        4.000e+00, 8.000e+00, 3.000e+00, 7.000e+00, 2.000e+00, 2.000e+00,\n",
       "        2.000e+00, 7.000e+00, 7.000e+00, 2.000e+00, 8.000e+00, 2.000e+00,\n",
       "        1.000e+01, 5.000e+00, 1.000e+00, 3.000e+00, 1.000e+01, 1.200e+01,\n",
       "        2.000e+00, 1.000e+00, 3.000e+00, 4.000e+00, 5.000e+00, 5.000e+00,\n",
       "        1.000e+00, 1.000e+00, 4.000e+00, 8.000e+00, 3.000e+00, 1.000e+00,\n",
       "        3.000e+00, 4.000e+00, 6.000e+00, 1.000e+00, 1.000e+00, 1.000e+00,\n",
       "        1.000e+00, 4.000e+00, 1.000e+00, 0.000e+00, 4.000e+00, 2.000e+00,\n",
       "        4.000e+00, 2.000e+00, 2.000e+00, 4.000e+00, 1.000e+00, 6.000e+00,\n",
       "        3.000e+00, 1.000e+00, 3.000e+00, 2.000e+00, 9.000e+00, 1.000e+00,\n",
       "        0.000e+00, 2.000e+00, 4.000e+00, 1.000e+00, 5.000e+00, 1.000e+00,\n",
       "        1.000e+00, 4.000e+00, 1.000e+00, 0.000e+00, 3.000e+00, 4.000e+00,\n",
       "        2.000e+00, 4.000e+00, 2.000e+00, 0.000e+00, 5.000e+00, 1.000e+00,\n",
       "        2.000e+00, 1.000e+00, 0.000e+00, 0.000e+00, 1.000e+00, 3.000e+00,\n",
       "        0.000e+00, 3.000e+00, 6.000e+00, 0.000e+00, 0.000e+00, 0.000e+00,\n",
       "        1.000e+00, 0.000e+00, 0.000e+00, 3.000e+00, 1.000e+00, 1.000e+00,\n",
       "        1.000e+00, 1.000e+00, 2.000e+00, 2.000e+00, 2.000e+00, 1.000e+00,\n",
       "        2.000e+00, 2.000e+00, 2.000e+00, 0.000e+00, 2.000e+00, 2.000e+00,\n",
       "        0.000e+00, 2.000e+00, 1.000e+00, 2.000e+00, 0.000e+00, 0.000e+00,\n",
       "        1.000e+00, 0.000e+00, 2.000e+00, 0.000e+00, 0.000e+00, 0.000e+00,\n",
       "        1.000e+00, 1.000e+00, 0.000e+00, 1.000e+00, 0.000e+00, 0.000e+00,\n",
       "        1.000e+00, 1.000e+00, 3.000e+00, 2.000e+00, 0.000e+00, 3.000e+00,\n",
       "        1.000e+00, 1.000e+00, 0.000e+00, 0.000e+00, 1.000e+00, 1.000e+00,\n",
       "        1.000e+00, 0.000e+00, 0.000e+00, 0.000e+00, 0.000e+00, 2.000e+00,\n",
       "        0.000e+00, 0.000e+00, 0.000e+00, 0.000e+00, 0.000e+00, 2.000e+00,\n",
       "        2.000e+00, 0.000e+00, 4.000e+00, 0.000e+00, 4.000e+00, 2.000e+00,\n",
       "        0.000e+00, 1.000e+00, 2.000e+00, 0.000e+00, 1.000e+00, 2.000e+00,\n",
       "        0.000e+00, 0.000e+00, 1.000e+00, 0.000e+00, 0.000e+00, 3.000e+00,\n",
       "        1.000e+00, 1.000e+00, 1.000e+00, 1.000e+00, 1.000e+00, 0.000e+00,\n",
       "        0.000e+00, 2.000e+00, 2.000e+00, 0.000e+00, 2.000e+00, 1.000e+00,\n",
       "        2.000e+00, 0.000e+00, 1.000e+00, 0.000e+00, 0.000e+00, 1.000e+00,\n",
       "        1.000e+00, 0.000e+00, 1.000e+00, 0.000e+00, 2.000e+00, 2.000e+00,\n",
       "        0.000e+00, 2.000e+00, 0.000e+00, 0.000e+00, 3.000e+00, 1.000e+00,\n",
       "        1.000e+00, 0.000e+00, 2.000e+00, 0.000e+00, 0.000e+00, 1.000e+00,\n",
       "        1.000e+00, 0.000e+00, 1.000e+00, 0.000e+00, 4.000e+00, 0.000e+00,\n",
       "        2.000e+00, 0.000e+00, 0.000e+00, 2.000e+00, 0.000e+00, 0.000e+00,\n",
       "        1.000e+00, 2.000e+00, 1.000e+00, 1.000e+00, 0.000e+00, 0.000e+00,\n",
       "        1.000e+00, 0.000e+00, 1.000e+00, 0.000e+00, 1.000e+00, 1.000e+00,\n",
       "        0.000e+00, 0.000e+00, 0.000e+00, 1.000e+00, 0.000e+00, 1.000e+00,\n",
       "        2.000e+00, 0.000e+00, 0.000e+00, 2.000e+00, 0.000e+00, 0.000e+00,\n",
       "        1.000e+00, 2.000e+00, 1.000e+00, 1.000e+00, 1.000e+00, 2.000e+00,\n",
       "        0.000e+00, 0.000e+00, 0.000e+00, 0.000e+00, 1.000e+00, 1.000e+00,\n",
       "        0.000e+00, 0.000e+00, 0.000e+00, 0.000e+00, 2.000e+00, 0.000e+00,\n",
       "        2.000e+00, 0.000e+00, 0.000e+00, 0.000e+00, 2.000e+00, 0.000e+00,\n",
       "        1.000e+00, 0.000e+00, 1.000e+00, 0.000e+00, 5.000e+00, 1.000e+00,\n",
       "        1.000e+00, 0.000e+00, 1.000e+00, 1.000e+00, 2.000e+00, 0.000e+00,\n",
       "        0.000e+00, 0.000e+00, 0.000e+00, 0.000e+00, 1.000e+00, 1.000e+00,\n",
       "        0.000e+00, 0.000e+00, 0.000e+00, 1.000e+00, 2.000e+00, 0.000e+00,\n",
       "        1.000e+00, 1.000e+00, 4.000e+00, 0.000e+00, 0.000e+00, 3.000e+00,\n",
       "        1.000e+00, 1.000e+00, 0.000e+00, 0.000e+00, 0.000e+00, 0.000e+00,\n",
       "        0.000e+00, 0.000e+00, 2.000e+00, 0.000e+00, 1.000e+00, 0.000e+00,\n",
       "        1.000e+00, 1.000e+00, 1.000e+00, 1.000e+00, 1.000e+00, 1.000e+00,\n",
       "        1.000e+00, 0.000e+00, 0.000e+00, 1.000e+00, 1.000e+00, 0.000e+00,\n",
       "        2.000e+00, 0.000e+00, 0.000e+00, 2.000e+00, 0.000e+00, 2.000e+00,\n",
       "        0.000e+00, 2.000e+00, 3.000e+00, 2.000e+00, 0.000e+00, 0.000e+00,\n",
       "        1.000e+00, 2.000e+00, 0.000e+00, 2.000e+00, 3.000e+00, 0.000e+00,\n",
       "        1.000e+00, 0.000e+00, 1.000e+00, 0.000e+00, 0.000e+00, 0.000e+00,\n",
       "        1.000e+00, 1.000e+00, 0.000e+00, 1.000e+00, 1.000e+00, 0.000e+00,\n",
       "        0.000e+00, 0.000e+00, 0.000e+00, 0.000e+00, 0.000e+00, 0.000e+00,\n",
       "        0.000e+00, 1.000e+00, 1.000e+00, 0.000e+00, 0.000e+00, 0.000e+00,\n",
       "        1.000e+00, 0.000e+00, 0.000e+00, 1.000e+00, 0.000e+00, 0.000e+00,\n",
       "        0.000e+00, 1.000e+00, 0.000e+00, 0.000e+00, 0.000e+00, 1.000e+00,\n",
       "        1.000e+00, 0.000e+00, 0.000e+00, 0.000e+00, 0.000e+00, 0.000e+00,\n",
       "        1.000e+00, 2.000e+00, 1.000e+00, 0.000e+00, 0.000e+00, 1.000e+00,\n",
       "        0.000e+00, 0.000e+00, 1.000e+00, 0.000e+00, 1.000e+00, 0.000e+00,\n",
       "        2.000e+00, 0.000e+00, 1.000e+00, 2.000e+00, 0.000e+00, 0.000e+00,\n",
       "        2.000e+00, 0.000e+00, 3.000e+00, 0.000e+00, 0.000e+00, 1.000e+00,\n",
       "        0.000e+00, 0.000e+00, 1.000e+00, 1.000e+00, 0.000e+00, 1.000e+00,\n",
       "        1.000e+00, 0.000e+00, 1.000e+00, 1.000e+00, 0.000e+00, 1.000e+00,\n",
       "        1.000e+00, 0.000e+00, 1.000e+00, 1.000e+00, 1.000e+00, 0.000e+00,\n",
       "        0.000e+00, 1.000e+00, 0.000e+00, 0.000e+00, 0.000e+00, 0.000e+00,\n",
       "        1.000e+00, 0.000e+00, 1.000e+00, 1.000e+00, 2.000e+00, 1.000e+00,\n",
       "        0.000e+00, 1.000e+00, 1.000e+00, 0.000e+00, 0.000e+00, 1.000e+00,\n",
       "        2.000e+00, 0.000e+00, 0.000e+00, 0.000e+00, 0.000e+00, 0.000e+00,\n",
       "        0.000e+00, 3.000e+00, 0.000e+00, 1.000e+00, 0.000e+00, 0.000e+00,\n",
       "        1.000e+00, 1.000e+00, 1.000e+00, 1.000e+00, 0.000e+00, 0.000e+00,\n",
       "        1.000e+00, 0.000e+00, 2.000e+00, 2.000e+00, 0.000e+00, 0.000e+00,\n",
       "        2.000e+00, 1.000e+00, 0.000e+00, 0.000e+00, 0.000e+00, 0.000e+00,\n",
       "        1.000e+00, 0.000e+00, 1.000e+00, 2.000e+00, 1.000e+00, 0.000e+00,\n",
       "        0.000e+00, 1.000e+00, 0.000e+00, 0.000e+00, 0.000e+00, 0.000e+00,\n",
       "        1.000e+00, 0.000e+00, 2.000e+00, 0.000e+00, 0.000e+00, 1.000e+00,\n",
       "        0.000e+00, 0.000e+00, 3.000e+00, 0.000e+00, 1.000e+00, 0.000e+00,\n",
       "        0.000e+00, 1.000e+00, 0.000e+00, 0.000e+00, 3.000e+00, 1.000e+00,\n",
       "        2.000e+00, 0.000e+00, 1.000e+00, 0.000e+00, 0.000e+00, 0.000e+00,\n",
       "        1.000e+00, 0.000e+00, 0.000e+00, 0.000e+00, 0.000e+00, 0.000e+00,\n",
       "        0.000e+00, 1.000e+00, 1.000e+00, 0.000e+00, 0.000e+00, 0.000e+00,\n",
       "        1.000e+00, 0.000e+00, 0.000e+00, 0.000e+00, 0.000e+00, 2.000e+00,\n",
       "        0.000e+00, 0.000e+00, 0.000e+00, 2.000e+00, 1.000e+00, 1.000e+00,\n",
       "        0.000e+00, 0.000e+00, 0.000e+00, 0.000e+00, 0.000e+00, 1.000e+00,\n",
       "        0.000e+00, 2.000e+00, 0.000e+00, 1.000e+00, 2.000e+00, 0.000e+00,\n",
       "        1.000e+00, 0.000e+00, 0.000e+00, 0.000e+00, 0.000e+00, 0.000e+00,\n",
       "        0.000e+00, 0.000e+00, 0.000e+00, 0.000e+00, 0.000e+00, 0.000e+00,\n",
       "        0.000e+00, 1.000e+00, 0.000e+00, 0.000e+00, 0.000e+00, 0.000e+00,\n",
       "        0.000e+00, 0.000e+00, 0.000e+00, 0.000e+00, 0.000e+00, 1.000e+00,\n",
       "        1.000e+00, 0.000e+00, 2.000e+00, 0.000e+00, 0.000e+00, 1.000e+00,\n",
       "        0.000e+00, 0.000e+00, 0.000e+00, 0.000e+00, 1.000e+00, 0.000e+00,\n",
       "        0.000e+00, 0.000e+00, 0.000e+00, 0.000e+00, 0.000e+00, 0.000e+00,\n",
       "        0.000e+00, 0.000e+00, 0.000e+00, 1.000e+00, 1.000e+00, 1.000e+00,\n",
       "        0.000e+00, 0.000e+00, 0.000e+00, 0.000e+00, 0.000e+00, 0.000e+00,\n",
       "        0.000e+00, 0.000e+00, 0.000e+00, 0.000e+00, 0.000e+00, 0.000e+00,\n",
       "        0.000e+00, 1.000e+00, 0.000e+00, 0.000e+00, 1.000e+00, 0.000e+00,\n",
       "        0.000e+00, 0.000e+00, 0.000e+00, 0.000e+00, 0.000e+00, 0.000e+00,\n",
       "        0.000e+00, 0.000e+00, 0.000e+00, 0.000e+00, 1.000e+00, 0.000e+00,\n",
       "        0.000e+00, 0.000e+00, 0.000e+00, 0.000e+00, 1.000e+00, 1.000e+00,\n",
       "        0.000e+00, 0.000e+00, 0.000e+00, 1.000e+00, 0.000e+00, 0.000e+00,\n",
       "        0.000e+00, 0.000e+00, 0.000e+00, 1.000e+00, 0.000e+00, 0.000e+00,\n",
       "        0.000e+00, 1.000e+00, 0.000e+00, 0.000e+00, 0.000e+00, 0.000e+00,\n",
       "        0.000e+00, 1.000e+00, 0.000e+00, 0.000e+00]),\n",
       " array([  0. ,   0.1,   0.2, ...,  99.8,  99.9, 100. ]),\n",
       " <BarContainer object of 1000 artists>)"
      ]
     },
     "execution_count": 227,
     "metadata": {},
     "output_type": "execute_result"
    },
    {
     "data": {
      "image/png": "[encoded data removed]",
      "text/plain": [
       "<Figure size 432x288 with 1 Axes>"
      ]
     },
     "metadata": {
      "needs_background": "light"
     },
     "output_type": "display_data"
    }
   ],
   "source": [
    "# Analisando histograma de P2 para decidir em quantos classes dividir\n",
    "fig, ax = plt.subplots()\n",
    "hist(ax, df.select('P2'), bins = 1000, color=['red'], range=(0, 100))"
   ]
  },
  {
   "cell_type": "code",
   "execution_count": 228,
   "id": "74fcaa81",
   "metadata": {},
   "outputs": [
    {
     "name": "stdout",
     "output_type": "stream",
     "text": [
      "+-----+---------+---------+\n",
      "|   P1|  P1Class|P1Indexed|\n",
      "+-----+---------+---------+\n",
      "|12.33|low <= 20|      1.0|\n",
      "|11.17|low <= 20|      1.0|\n",
      "|12.23|low <= 20|      1.0|\n",
      "| 12.1|low <= 20|      1.0|\n",
      "|  8.6|low <= 10|      0.0|\n",
      "| 8.37|low <= 10|      0.0|\n",
      "| 8.23|low <= 10|      0.0|\n",
      "| 13.3|low <= 20|      1.0|\n",
      "|  9.3|low <= 10|      0.0|\n",
      "|  7.8|low <= 10|      0.0|\n",
      "|14.37|low <= 20|      1.0|\n",
      "|11.23|low <= 20|      1.0|\n",
      "| 9.07|low <= 10|      0.0|\n",
      "| 11.2|low <= 20|      1.0|\n",
      "| 10.5|low <= 20|      1.0|\n",
      "|10.17|low <= 20|      1.0|\n",
      "| 13.2|low <= 20|      1.0|\n",
      "|14.43|low <= 20|      1.0|\n",
      "| 9.53|low <= 10|      0.0|\n",
      "| 9.93|low <= 10|      0.0|\n",
      "+-----+---------+---------+\n",
      "only showing top 20 rows\n",
      "\n"
     ]
    }
   ],
   "source": [
    "# Definindo classes de P1\n",
    "\n",
    "P1Classes = [\n",
    "    PClass(\"low <= 10\", -1, 10),\n",
    "    PClass(\"low <= 20\", 10, 20),\n",
    "    PClass(\"low <= 30\", 20, 30),\n",
    "    PClass(\"low <= 40\", 30, 40),\n",
    "    PClass(\"low <= 50\", 40, 50),\n",
    "    PClass(\"medium \", 50, 75),\n",
    "    PClass(\"high\", 75, 100),\n",
    "    PClass(\"very high\", 100),\n",
    "]\n",
    "\n",
    "def getP1Class(value):\n",
    "    for P1Class in P1Classes:\n",
    "        if value > P1Class.min and value <= P1Class.max:\n",
    "            return P1Class.label\n",
    "\n",
    "# Preenchendo as classes no dataframe\n",
    "getBandUdf = udf(getP1Class, StringType())\n",
    "dfWithP1Class = df.withColumn('P1Class', getBandUdf(df['P1']))\n",
    "\n",
    "# Indexando\n",
    "indexer = StringIndexer(inputCol=\"P1Class\", outputCol=\"P1Indexed\")\n",
    "indexedP1Class = indexer.fit(dfWithP1Class).transform(dfWithP1Class)\n",
    "\n",
    "\n",
    "# Testando\n",
    "indexedP1Class.select('P1', 'P1Class', 'P1Indexed').show(20)"
   ]
  },
  {
   "cell_type": "code",
   "execution_count": 229,
   "id": "canadian-marker",
   "metadata": {},
   "outputs": [
    {
     "name": "stdout",
     "output_type": "stream",
     "text": [
      "+---------+--------+\n",
      "|P1Indexed|count(1)|\n",
      "+---------+--------+\n",
      "|      0.0|   50582|\n",
      "|      7.0|     148|\n",
      "|      1.0|   32300|\n",
      "|      4.0|     706|\n",
      "|      3.0|    2157|\n",
      "|      2.0|    9508|\n",
      "|      6.0|     338|\n",
      "|      5.0|     345|\n",
      "+---------+--------+\n",
      "\n"
     ]
    }
   ],
   "source": [
    "indexedP1Class.select('P1', 'P1Class', 'P1Indexed').groupBy(\"P1Indexed\").agg(f.count(\"*\")).show(20)"
   ]
  },
  {
   "cell_type": "code",
   "execution_count": 230,
   "id": "69b39bd3",
   "metadata": {},
   "outputs": [],
   "source": [
    "# Definindo classes de P2\n",
    "\n",
    "P2Classes = [\n",
    "    PClass(\"low <= 10\", -1, 10),\n",
    "    PClass(\"low <= 20\", 10, 20),\n",
    "    PClass(\"low <= 30\", 20, 30),\n",
    "    PClass(\"medium \", 30, 54),\n",
    "    PClass(\"high\", 54, 70),\n",
    "    PClass(\"very high\", 70),\n",
    "]\n",
    "\n",
    "def getP2Class(value):\n",
    "    for P2Class in P2Classes:\n",
    "        if value > P2Class.min and value <= P2Class.max:\n",
    "            return P2Class.label\n",
    "\n",
    "# Preenchendo as classes no dataframe\n",
    "getBandUdf = udf(getP2Class, StringType())\n",
    "dfWithP2Class = df.withColumn('P2Class', getBandUdf(df['P2']))\n",
    "\n",
    "# Indexando\n",
    "indexer = StringIndexer(inputCol=\"P2Class\", outputCol=\"P2Indexed\")\n",
    "indexedP2Class = indexer.fit(dfWithP2Class).transform(dfWithP2Class)"
   ]
  },
  {
   "cell_type": "code",
   "execution_count": 231,
   "id": "computational-justice",
   "metadata": {},
   "outputs": [
    {
     "name": "stdout",
     "output_type": "stream",
     "text": [
      "+---------+--------+\n",
      "|P2Indexed|count(1)|\n",
      "+---------+--------+\n",
      "|      0.0|   80466|\n",
      "|      1.0|   10365|\n",
      "|      4.0|     398|\n",
      "|      3.0|    1066|\n",
      "|      2.0|    3665|\n",
      "|      5.0|     124|\n",
      "+---------+--------+\n",
      "\n"
     ]
    }
   ],
   "source": [
    "indexedP2Class.select('P2', 'P2Class', 'P2Indexed').groupBy(\"P2Indexed\").agg(f.count(\"*\")).show(20)"
   ]
  },
  {
   "cell_type": "code",
   "execution_count": 232,
   "id": "460fd06c",
   "metadata": {},
   "outputs": [],
   "source": [
    "def performClassification(df, inputCols, originalCol, labelCol, featuresCol):\n",
    "  # Criando a coluna de features\n",
    "  assembler = VectorAssembler(inputCols=inputCols, outputCol=featuresCol)\n",
    "  transformedDf = assembler.transform(df)\n",
    "\n",
    "  # Definindo amostra de treino e de teste\n",
    "  [train, test] = transformedDf.randomSplit([0.8, 0.2])\n",
    "  \n",
    "  # Criando classificador\n",
    "  classifier = RandomForestClassifier(labelCol=labelCol, featuresCol=featuresCol)\n",
    "  # classifier = MultilayerPerceptronClassifier(labelCol=labelCol, layers=[len(featuresCol)+1, 8, 8])\n",
    "  # # classifier = LinearRegression(labelCol=target, featuresCol=\"features\")\n",
    "  # # classifier = NaiveBayes(labelCol=target, featuresCol=\"features\")\n",
    "  # # classifier = DecisionTreeRegressor(labelCol=target, featuresCol=\"features\")\n",
    "  # # classifier =  RandomForestRegressor(labelCol=target, featuresCol=\"features\")\n",
    "  # # classifier = GeneralizedLinearRegression(labelCol=target,featuresCol=\"features\")\n",
    "  \n",
    "  # Criando pipeline\n",
    "  pipeline = Pipeline(stages=[classifier])\n",
    "\n",
    "  # Treinando o modelo\n",
    "  model = pipeline.fit(train)\n",
    "\n",
    "  # Fazendo as predições\n",
    "  predictions = model.transform(test)\n",
    "\n",
    "  # Calculando a precisão ponderada\n",
    "  evaluation = MulticlassClassificationEvaluator(labelCol=labelCol, predictionCol=\"prediction\", metricName=\"weightedPrecision\")\n",
    "  weightedPrecision = evaluation.evaluate(predictions)\n",
    "    \n",
    "  # Calculando o recall ponderado\n",
    "  evaluation = MulticlassClassificationEvaluator(labelCol=labelCol, predictionCol=\"prediction\", metricName=\"weightedRecall\")\n",
    "  weightedRecall = evaluation.evaluate(predictions)\n",
    "\n",
    "  # Mostrando resultados\n",
    "  print(f\"WeightedPrecision = {weightedPrecision}\")\n",
    "  print(f\"WeightedRecall = {weightedRecall}\")\n",
    "  # predictions.select(originalCol, labelCol, \"prediction\").show()"
   ]
  },
  {
   "cell_type": "code",
   "execution_count": 233,
   "id": "0155ec12",
   "metadata": {},
   "outputs": [
    {
     "name": "stderr",
     "output_type": "stream",
     "text": [
      "\r",
      "[Stage 2032:>                                                       (0 + 1) / 1]\r",
      "\r",
      "                                                                                \r"
     ]
    },
    {
     "name": "stdout",
     "output_type": "stream",
     "text": [
      "WeightedPrecision = 0.6464466201201311\n",
      "WeightedRecall = 0.6956927867151013\n"
     ]
    }
   ],
   "source": [
    "# Machine learning pra P1\n",
    "inputColsP1 = ['pressure', 'temperature', 'humidity', 'df1UnixTimestamp', 'df1Lat', 'df1Long']\n",
    "performClassification(indexedP1Class, inputColsP1, \"P1\", \"P1Indexed\", \"features\")"
   ]
  },
  {
   "cell_type": "code",
   "execution_count": 234,
   "id": "e8fc4343",
   "metadata": {},
   "outputs": [
    {
     "name": "stderr",
     "output_type": "stream",
     "text": [
      "\r",
      "[Stage 2070:>                                                       (0 + 1) / 1]\r",
      "\r",
      "                                                                                \r"
     ]
    },
    {
     "name": "stdout",
     "output_type": "stream",
     "text": [
      "WeightedPrecision = 0.8695462505367565\n",
      "WeightedRecall = 0.8862229102167182\n"
     ]
    }
   ],
   "source": [
    "# Machine learning pra P2\n",
    "inputColsP2 = ['pressure', 'temperature', 'humidity', 'df1UnixTimestamp', 'df1Lat', 'df1Long']\n",
    "performClassification(indexedP2Class, inputColsP2, \"P2\", \"P2Indexed\", \"features\")"
   ]
  }
 ],
 "metadata": {
  "kernelspec": {
   "display_name": "Python 3 (ipykernel)",
   "language": "python",
   "name": "python3"
  },
  "language_info": {
   "codemirror_mode": {
    "name": "ipython",
    "version": 3
   },
   "file_extension": ".py",
   "mimetype": "text/x-python",
   "name": "python",
   "nbconvert_exporter": "python",
   "pygments_lexer": "ipython3",
   "version": "3.9.7"
  }
 },
 "nbformat": 4,
 "nbformat_minor": 5
}
