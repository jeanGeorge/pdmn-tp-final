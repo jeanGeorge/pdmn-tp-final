{
 "cells": [
  {
   "cell_type": "code",
   "execution_count": 1,
   "id": "05a637f2",
   "metadata": {},
   "outputs": [],
   "source": [
    "# Jean setup:\n",
    "#import findspark\n",
    "#findspark.init()\n",
    "\n",
    "#pathBme = \"C:\\SofiaAirQuality\\Bme\"\n",
    "#pathSds = \"C:\\SofiaAirQuality\\Sds\""
   ]
  },
  {
   "cell_type": "code",
   "execution_count": 2,
   "id": "a2e727c3",
   "metadata": {},
   "outputs": [],
   "source": [
    "# Luiz setup\n",
    "pathBme = \"/home/luiz/SofiaAirQuality/OneMonthBme\"\n",
    "pathSds = \"/home/luiz/SofiaAirQuality/OneMonthSds\""
   ]
  },
  {
   "cell_type": "code",
   "execution_count": 3,
   "id": "e2314335",
   "metadata": {},
   "outputs": [],
   "source": [
    "import numpy as np\n",
    "\n",
    "from pyspark.ml import Pipeline\n",
    "from pyspark.ml.stat import Correlation\n",
    "from pyspark.ml.feature import VectorAssembler, StringIndexer\n",
    "from pyspark.ml.evaluation import MulticlassClassificationEvaluator\n",
    "\n",
    "from pyspark.sql import SparkSession, Window\n",
    "from pyspark.sql.types import StructType, StringType, DoubleType, ArrayType, IntegerType\n",
    "from pyspark.sql.functions import col, unix_timestamp, expr, avg, udf\n",
    "import pyspark.sql.functions as f\n",
    "\n",
    "from pyspark.ml.classification import NaiveBayes, RandomForestClassifier, MultilayerPerceptronClassifier\n",
    "from pyspark.ml.regression import LinearRegression, RandomForestRegressor, GeneralizedLinearRegression, DecisionTreeRegressor\n",
    "\n",
    "import matplotlib.pyplot as plt\n"
   ]
  },
  {
   "cell_type": "code",
   "execution_count": 4,
   "id": "1ac46f9b",
   "metadata": {},
   "outputs": [
    {
     "name": "stderr",
     "output_type": "stream",
     "text": [
      "22/02/21 20:21:00 WARN Utils: Your hostname, luiz-B450M-GAMING resolves to a loopback address: 127.0.1.1; using 192.168.0.44 instead (on interface enp8s0)\n",
      "22/02/21 20:21:00 WARN Utils: Set SPARK_LOCAL_IP if you need to bind to another address\n",
      "Using Spark's default log4j profile: org/apache/spark/log4j-defaults.properties\n",
      "Setting default log level to \"WARN\".\n",
      "To adjust logging level use sc.setLogLevel(newLevel). For SparkR, use setLogLevel(newLevel).\n",
      "22/02/21 20:21:00 WARN NativeCodeLoader: Unable to load native-hadoop library for your platform... using builtin-java classes where applicable\n"
     ]
    }
   ],
   "source": [
    "# Configuração\n",
    "spark = SparkSession \\\n",
    "    .builder \\\n",
    "    .master(\"local[12]\") \\\n",
    "    .appName(\"tp_final_jean_luiz\").getOrCreate()\n",
    "\n",
    "df1Schema = StructType() \\\n",
    "    .add(\"_c0\", \"integer\") \\\n",
    "    .add(\"sensor_id\", \"integer\") \\\n",
    "    .add(\"location\", \"integer\") \\\n",
    "    .add(\"lat\", \"double\") \\\n",
    "    .add(\"long\", \"double\") \\\n",
    "    .add(\"timestamp\", \"timestamp\") \\\n",
    "    .add(\"pressure\", \"double\") \\\n",
    "    .add(\"temperature\", \"double\") \\\n",
    "    .add(\"humidity\", \"double\") \\\n",
    "\n",
    "df2Schema = StructType() \\\n",
    "    .add(\"_c0\", \"integer\") \\\n",
    "    .add(\"sensor_id\", \"integer\") \\\n",
    "    .add(\"location\", \"integer\") \\\n",
    "    .add(\"lat\", \"double\") \\\n",
    "    .add(\"long\", \"double\") \\\n",
    "    .add(\"timestamp\", \"timestamp\") \\\n",
    "    .add(\"P1\", \"double\") \\\n",
    "    .add(\"P2\", \"double\") \\\n",
    "\n",
    "df1 = spark.read.schema(df1Schema).format(\"csv\").load(pathBme, header=True)\n",
    "df2 = spark.read.schema(df2Schema).format(\"csv\").load(pathSds, header=True)"
   ]
  },
  {
   "cell_type": "code",
   "execution_count": 5,
   "id": "twenty-service",
   "metadata": {},
   "outputs": [],
   "source": [
    "df1 = df1 \\\n",
    "    .withColumn(\"df1SensorId\", df1.sensor_id) \\\n",
    "    .withColumn(\"df1Location\", df1.location) \\\n",
    "    .withColumn(\"df1Lat\", df1.lat) \\\n",
    "    .withColumn(\"df1Long\", df1.long) \\\n",
    "    .withColumn(\"df1Timestamp\", df1.timestamp) \\\n",
    "    .withColumn(\"df1Id\", df1.sensor_id).limit(300000)\n",
    "\n",
    "df2 = df2 \\\n",
    "    .withColumn(\"df2SensorId\", df2.sensor_id) \\\n",
    "    .withColumn(\"df2Location\", df2.location) \\\n",
    "    .withColumn(\"df2Lat\", df2.lat) \\\n",
    "    .withColumn(\"df2Long\", df2.long) \\\n",
    "    .withColumn(\"df2Timestamp\", df2.timestamp) \\\n",
    "    .withColumn(\"df2Id\", df2.sensor_id).limit(300000)"
   ]
  },
  {
   "cell_type": "code",
   "execution_count": 6,
   "id": "north-seven",
   "metadata": {},
   "outputs": [
    {
     "name": "stderr",
     "output_type": "stream",
     "text": [
      "                                                                                \r"
     ]
    },
    {
     "name": "stdout",
     "output_type": "stream",
     "text": [
      "300000\n",
      "300000\n"
     ]
    }
   ],
   "source": [
    "print(df1.count())\n",
    "print(df2.count())"
   ]
  },
  {
   "cell_type": "markdown",
   "id": "young-occupation",
   "metadata": {},
   "source": [
    "Para analisar os dados no contexto macro, vamos realizar um join entre os dados dos sensores de tipos diferentes.\n",
    "Após análise exploratória inicial, identificamos que os sensores ficam em pontos compartilhados, de forma que mesmo que sensores dos dois tipos (SDS e BME) compartilham a coluna \"location\". Dessa forma, podemos fazer um join por location, e também pegar reports próximos na linha do tempo, para manter uma noção de temporalidade na análise dos dados."
   ]
  },
  {
   "cell_type": "code",
   "execution_count": 7,
   "id": "arranged-harassment",
   "metadata": {},
   "outputs": [
    {
     "name": "stderr",
     "output_type": "stream",
     "text": [
      "22/02/21 20:21:05 WARN package: Truncated the string representation of a plan since it was too large. This behavior can be adjusted by setting 'spark.sql.debug.maxToStringFields'.\n",
      "22/02/21 20:21:06 WARN CSVHeaderChecker: CSV header does not conform to the schema.\n",
      " Header: , sensor_id, location, lat, lon, timestamp, P1, P2\n",
      " Schema: _c0, sensor_id, location, lat, long, timestamp, P1, P2\n",
      "Expected: _c0 but found: \n",
      "CSV file: file:///home/luiz/SofiaAirQuality/OneMonthSds/2017-07_sds011sof.csv\n",
      "22/02/21 20:21:06 WARN CSVHeaderChecker: CSV header does not conform to the schema.\n",
      " Header: , sensor_id, location, lat, lon, timestamp, pressure, temperature, humidity\n",
      " Schema: _c0, sensor_id, location, lat, long, timestamp, pressure, temperature, humidity\n",
      "Expected: _c0 but found: \n",
      "CSV file: file:///home/luiz/SofiaAirQuality/OneMonthBme/2017-07_bme280sof.csv\n",
      "[Stage 8:>                                                          (0 + 1) / 1]\r"
     ]
    },
    {
     "name": "stdout",
     "output_type": "stream",
     "text": [
      "194786\n"
     ]
    },
    {
     "name": "stderr",
     "output_type": "stream",
     "text": [
      "\r",
      "                                                                                \r"
     ]
    }
   ],
   "source": [
    "joinedWithoutDuplicates = df1.join(\n",
    "  df2,\n",
    "  expr(\"\"\"\n",
    "    df1Location = df2Location AND\n",
    "    df1Timestamp <= df2Timestamp + interval 1 minutes AND\n",
    "    df1Timestamp >= df2Timestamp - interval 1 minutes\n",
    "    \"\"\")\n",
    ").dropDuplicates(['df1Id', 'df1Timestamp'])\n",
    "\n",
    "joinedWithoutDuplicates.persist()\n",
    "\n",
    "print(joinedWithoutDuplicates.count())"
   ]
  },
  {
   "cell_type": "markdown",
   "id": "liquid-think",
   "metadata": {},
   "source": [
    "Abaixo, uma amostra do dataframe resultante do join:"
   ]
  },
  {
   "cell_type": "code",
   "execution_count": 8,
   "id": "injured-combine",
   "metadata": {},
   "outputs": [
    {
     "name": "stdout",
     "output_type": "stream",
     "text": [
      "+-----+-------------------+-----------+-----+-------------------+-----------+--------+-----------+--------+-----+----+\n",
      "|df1Id|       df1Timestamp|df1Location|df2Id|       df2Timestamp|df2Location|pressure|temperature|humidity|   P1|  P2|\n",
      "+-----+-------------------+-----------+-----+-------------------+-----------+--------+-----------+--------+-----+----+\n",
      "| 2266|2017-07-01 00:00:07|       1140| 2265|2017-07-01 00:00:06|       1140|95270.27|      23.46|   62.48|25.33|6.57|\n",
      "| 2266|2017-07-01 00:02:33|       1140| 2265|2017-07-01 00:02:33|       1140|95266.66|      23.37|    63.4| 15.7|6.27|\n",
      "| 2266|2017-07-01 00:05:00|       1140| 2265|2017-07-01 00:04:59|       1140|95258.14|      23.37|   63.22|18.17| 6.6|\n",
      "| 2266|2017-07-01 00:07:26|       1140| 2265|2017-07-01 00:07:26|       1140|95267.81|      23.23|   63.07| 15.9|6.83|\n",
      "| 2266|2017-07-01 00:09:53|       1140| 2265|2017-07-01 00:09:52|       1140|95267.84|      23.25|   63.37|13.67|5.97|\n",
      "| 2266|2017-07-01 00:12:19|       1140| 2265|2017-07-01 00:12:19|       1140| 95269.0|      23.13|   63.87|12.83| 5.8|\n",
      "| 2266|2017-07-01 00:14:46|       1140| 2265|2017-07-01 00:14:45|       1140|95262.76|      23.47|   62.36| 10.4|5.93|\n",
      "| 2266|2017-07-01 00:17:12|       1140| 2265|2017-07-01 00:17:12|       1140|95267.28|      23.38|   62.78| 8.77| 5.9|\n",
      "| 2266|2017-07-01 00:19:39|       1140| 2265|2017-07-01 00:19:38|       1140|95263.94|      23.22|   63.79| 17.1| 7.3|\n",
      "| 2266|2017-07-01 00:22:05|       1140| 2265|2017-07-01 00:22:05|       1140|95260.13|      23.27|   62.17| 11.4| 7.0|\n",
      "| 2266|2017-07-01 00:24:32|       1140| 2265|2017-07-01 00:24:31|       1140|95261.49|      23.14|   61.95|11.13|6.63|\n",
      "| 2266|2017-07-01 00:26:58|       1140| 2265|2017-07-01 00:26:58|       1140|95266.64|      23.48|    61.1|15.67| 6.3|\n",
      "| 2266|2017-07-01 00:29:25|       1140| 2265|2017-07-01 00:29:25|       1140|95270.53|      23.12|   62.33| 28.8| 7.1|\n",
      "| 2266|2017-07-01 00:31:51|       1140| 2265|2017-07-01 00:31:51|       1140|95267.34|       22.6|   63.81| 18.1| 7.7|\n",
      "| 2266|2017-07-01 00:34:18|       1140| 2265|2017-07-01 00:34:18|       1140|95269.88|      22.74|   64.41|13.57|6.43|\n",
      "| 2266|2017-07-01 00:36:44|       1140| 2265|2017-07-01 00:36:44|       1140|95274.63|      22.69|    64.7|11.23| 7.8|\n",
      "| 2266|2017-07-01 00:39:11|       1140| 2265|2017-07-01 00:39:11|       1140|95269.38|      22.55|   64.74|21.27| 8.2|\n",
      "| 2266|2017-07-01 00:41:37|       1140| 2265|2017-07-01 00:41:37|       1140|95279.29|      21.54|   69.15|17.07| 7.7|\n",
      "| 2266|2017-07-01 00:44:04|       1140| 2265|2017-07-01 00:44:04|       1140|95279.28|      22.09|   67.28|12.47| 7.5|\n",
      "| 2266|2017-07-01 00:46:31|       1140| 2265|2017-07-01 00:46:30|       1140|95273.33|       22.2|   65.82| 13.1|7.33|\n",
      "+-----+-------------------+-----------+-----+-------------------+-----------+--------+-----------+--------+-----+----+\n",
      "only showing top 20 rows\n",
      "\n"
     ]
    }
   ],
   "source": [
    "columnsOfInterest = ['df1Id', 'df1Timestamp', 'df1Location', 'df2Id', 'df2Timestamp', 'df2Location', 'pressure', 'temperature', 'humidity', 'P1', 'P2']\n",
    "\n",
    "joinedWithoutDuplicates.filter(joinedWithoutDuplicates.df1Id == 2266) \\\n",
    "    .select(*columnsOfInterest).show(20)"
   ]
  },
  {
   "cell_type": "markdown",
   "id": "secure-collectible",
   "metadata": {},
   "source": [
    "É interessante observar também que os ids dos sensores que entram no join são consecutivos, e eles reportam dados em tempos muito similares:"
   ]
  },
  {
   "cell_type": "code",
   "execution_count": 9,
   "id": "prime-enforcement",
   "metadata": {},
   "outputs": [
    {
     "name": "stdout",
     "output_type": "stream",
     "text": [
      "+-------------------+-----------------+\n",
      "|avg(timestampDelta)|avg(idDifference)|\n",
      "+-------------------+-----------------+\n",
      "|-0.6576139968991611|             -1.0|\n",
      "+-------------------+-----------------+\n",
      "\n"
     ]
    }
   ],
   "source": [
    "joinedWithoutDuplicates \\\n",
    "    .withColumn(\"timestampDelta\", joinedWithoutDuplicates.df2Timestamp.cast(\"long\") - joinedWithoutDuplicates.df1Timestamp.cast(\"long\")) \\\n",
    "    .withColumn(\"idDifference\", joinedWithoutDuplicates.df2Id - joinedWithoutDuplicates.df1Id) \\\n",
    "    .agg(\n",
    "        avg(\"timestampDelta\"),\n",
    "        avg(\"idDifference\")\n",
    "    ).show()"
   ]
  },
  {
   "cell_type": "markdown",
   "id": "announced-floating",
   "metadata": {},
   "source": [
    "Na primeira questão, vamos expandir a análise exploratória e verificar a correlação dos dados de interesse (temperature, humidity, pressure, P1 e P2) do dataframe resultante do join. Queremos definir uma base para a análise das questões 2 e principalmente 3, podendo definir quais as melhores estratégias para o uso de ML para previsão de alguma dessas features."
   ]
  },
  {
   "cell_type": "code",
   "execution_count": 10,
   "id": "50154996",
   "metadata": {},
   "outputs": [
    {
     "name": "stderr",
     "output_type": "stream",
     "text": [
      "/home/luiz/.local/lib/python3.9/site-packages/pyspark/sql/context.py:125: FutureWarning: Deprecated in 3.0.0. Use SparkSession.builder.getOrCreate() instead.\n",
      "  warnings.warn(\n",
      "/tmp/ipykernel_34841/810265125.py:25: UserWarning: FixedFormatter should only be used together with FixedLocator\n",
      "  ax.set_xticklabels(['']+attr)\n",
      "/tmp/ipykernel_34841/810265125.py:26: UserWarning: FixedFormatter should only be used together with FixedLocator\n",
      "  ax.set_yticklabels(['']+attr)\n"
     ]
    },
    {
     "data": {
      "image/png": "[encoded data removed]",
      "text/plain": [
       "<Figure size 432x288 with 2 Axes>"
      ]
     },
     "metadata": {
      "needs_background": "light"
     },
     "output_type": "display_data"
    },
    {
     "name": "stdout",
     "output_type": "stream",
     "text": [
      "+--------------------+--------------------+-------------------+--------------------+--------------------+\n",
      "|            pressure|         temperature|           humidity|                  P1|                  P2|\n",
      "+--------------------+--------------------+-------------------+--------------------+--------------------+\n",
      "|                 1.0|-0.08667545471041302|0.00947986284953607|-0.03073825470087...|-0.00710770953502...|\n",
      "|-0.08667545471041302|                 1.0|-0.7709968148906584|-0.05068491810720727|-0.10690026748576167|\n",
      "| 0.00947986284953607| -0.7709968148906584|                1.0| 0.10319988430830693| 0.14523873743642393|\n",
      "|-0.03073825470087...|-0.05068491810720727|0.10319988430830693|                 1.0|   0.934337542417328|\n",
      "|-0.00710770953502...|-0.10690026748576167|0.14523873743642393|   0.934337542417328|                 1.0|\n",
      "+--------------------+--------------------+-------------------+--------------------+--------------------+\n",
      "\n"
     ]
    }
   ],
   "source": [
    "# 1. Realizar uma análise da correlação entre os atributos presentes na base de dados \n",
    "# (pressão, temperatura, humidade, P1 (PM10) e P2 (PM2,5)).\n",
    "\n",
    "# Filtrando apenas as colunas desejadas\n",
    "columns = ['pressure','temperature','humidity', 'P1', 'P2']\n",
    "df_filtered = joinedWithoutDuplicates.select(*columns)\n",
    "df_filtered = df_filtered.filter(df_filtered.pressure.isNotNull())\n",
    "df_filtered = df_filtered.filter(df_filtered.temperature.isNotNull())\n",
    "df_filtered = df_filtered.filter(df_filtered.humidity.isNotNull())\n",
    "\n",
    "# Criando coluna de vector\n",
    "vector_column = \"vector_column\"\n",
    "assembler = VectorAssembler(inputCols=df_filtered.columns, outputCol=vector_column)\n",
    "df_vector = assembler.transform(df_filtered).select(vector_column)\n",
    "\n",
    "# Obtendo matriz de correlação\n",
    "matrix = Correlation.corr(df_vector, vector_column).collect()[0][0]\n",
    "corrmatrix = matrix.toArray().tolist()\n",
    "\n",
    "# Plotando\n",
    "def plot_correlation_matrix(correlations,attr,fig_no):\n",
    "    fig=plt.figure(fig_no)\n",
    "    ax=fig.add_subplot(111)\n",
    "    ax.set_title(\"Correlation Matrix\")\n",
    "    ax.set_xticklabels(['']+attr)\n",
    "    ax.set_yticklabels(['']+attr)\n",
    "    cax=ax.matshow(correlations,vmax=1,vmin=-1)\n",
    "    fig.colorbar(cax)\n",
    "    plt.show()\n",
    "plot_correlation_matrix(corrmatrix, columns, 234)\n",
    "\n",
    "spark.createDataFrame(corrmatrix,columns).show() "
   ]
  },
  {
   "cell_type": "markdown",
   "id": "characteristic-compromise",
   "metadata": {},
   "source": [
    "Pode-se perceber que temperatura e humidade possuem correlação negativa alta, o que indica que altas temperaturas estão relacionadas com baixos valores de humidade, e vice-versa. Além disso, há uma correlação positiva bastante próxima à 1 entre P1 e P2, o que indica que os valores de qualidade do ar andam juntos, pois muito provavelmente podem ser explicados por um fenômeno subjacente comum (emissão de poluentes).\n",
    "\n",
    "É bastante interessante analisar os dados de sensores e tentar montar um modelo de previsão, mas dados de sensores defeituosos podem prejudicar o poder de previsão de modelos de ML. Com isso, o objetivo da segunda parte é analisar a presença de outliers no dataset, fazendo análises agrupadas por localização e por tempo de evento.\n",
    "\n",
    "A ideia principal é obter as coordenadas do \"bounding box\" da cidade de Sofia, e subdividir os eventos dos sensores da cidade em retângulos discretos (quadrantes), para realizar análises de outliers agrupando por quadrantes."
   ]
  },
  {
   "cell_type": "code",
   "execution_count": 11,
   "id": "embedded-syntax",
   "metadata": {},
   "outputs": [
    {
     "name": "stdout",
     "output_type": "stream",
     "text": [
      "Min latitude = 42.622, max latitude = 42.738, min longitude = 23.254, maxLongitude = 23.419\n"
     ]
    }
   ],
   "source": [
    "onlyCoords = joinedWithoutDuplicates.select([\"df1Lat\", \"df1Long\"])\n",
    "\n",
    "minLat = onlyCoords.agg(f.min(\"df1Lat\")).first()[0]\n",
    "maxLat = onlyCoords.agg(f.max(\"df1Lat\")).first()[0]\n",
    "\n",
    "minLong = onlyCoords.agg(f.min(\"df1Long\")).first()[0]\n",
    "maxLong = onlyCoords.agg(f.max(\"df1Long\")).first()[0]\n",
    "\n",
    "print(f\"Min latitude = {minLat}, max latitude = {maxLat}, min longitude = {minLong}, maxLongitude = {maxLong}\")"
   ]
  },
  {
   "cell_type": "code",
   "execution_count": 12,
   "id": "referenced-healing",
   "metadata": {},
   "outputs": [
    {
     "name": "stdout",
     "output_type": "stream",
     "text": [
      "Delta latitude: 0.11599999999999966\n",
      "Delta longitude: 0.16499999999999915\n",
      "[42.622  42.6452 42.6684 42.6916 42.7148]\n",
      "[23.254 23.287 23.32  23.353 23.386]\n"
     ]
    }
   ],
   "source": [
    "print(f\"Delta latitude: {maxLat - minLat}\")\n",
    "print(f\"Delta longitude: {maxLong - minLong}\")\n",
    "\n",
    "latBounds = np.linspace(minLat, maxLat, num=5, endpoint=False)\n",
    "longBounds = np.linspace(minLong, maxLong, num=5, endpoint=False)\n",
    "\n",
    "print(latBounds)\n",
    "print(longBounds)"
   ]
  },
  {
   "cell_type": "code",
   "execution_count": 13,
   "id": "legal-stake",
   "metadata": {},
   "outputs": [],
   "source": [
    "def latGrouper(latitude):\n",
    "    closestLowerLat = float(latBounds[0])\n",
    "    for lat in latBounds:\n",
    "        if float(lat) < latitude:\n",
    "            closestLowerLat = float(lat)\n",
    "        else:\n",
    "            break\n",
    "\n",
    "    return closestLowerLat\n",
    "\n",
    "def longGrouper(longitude):\n",
    "    closestLowerLong = float(longBounds[0])\n",
    "    for lon in longBounds:\n",
    "        if float(lon) < longitude:\n",
    "            closestLowerLong = float(lon)\n",
    "        else:\n",
    "            break\n",
    "    return closestLowerLong"
   ]
  },
  {
   "cell_type": "markdown",
   "id": "structural-oliver",
   "metadata": {},
   "source": [
    "Acima foram definidos os limites inferiores de latitude e longitude dos quadrantes, e cada registro será associado à latitude/longitude que for menor e mais próxima à latitude/longitude do evento reportado pelo sensor. Com isso, teremos ao todo 25 possíveis quadrantes. Abaixo, os dados são agrupados (\"latBox\" e \"longBox\"), e é calculada uma simples agregação"
   ]
  },
  {
   "cell_type": "code",
   "execution_count": 14,
   "id": "passing-monster",
   "metadata": {},
   "outputs": [
    {
     "name": "stderr",
     "output_type": "stream",
     "text": [
      "\r",
      "[Stage 44:>                                                         (0 + 1) / 1]\r"
     ]
    },
    {
     "name": "stdout",
     "output_type": "stream",
     "text": [
      "+-------+------------------+-----+-------------+------------------+-------------+\n",
      "| latBox|           longBox|count|max(humidity)|     avg(humidity)|min(humidity)|\n",
      "+-------+------------------+-----+-------------+------------------+-------------+\n",
      "|42.6684|            23.254| 4798|        100.0| 55.45748645268849|        18.91|\n",
      "|42.6452|            23.386| 5275|         86.7| 44.81075639810426|         5.73|\n",
      "| 42.622|            23.386| 5464|        81.63| 45.82687957540261|        13.73|\n",
      "|42.7148|23.287000000000003| 5489|        95.63| 54.37498633630908|         8.76|\n",
      "| 42.622|            23.254| 5535|        95.98| 53.77117073170709|         11.5|\n",
      "|42.6452|23.287000000000003| 5538|        90.16| 50.28439689418558|        15.39|\n",
      "|42.6684|            23.386| 5553|        92.48| 53.28947775976947|        13.07|\n",
      "|42.7148|            23.254| 5554|        94.79| 55.09993158084269|        16.93|\n",
      "| 42.622|            23.353| 5557|        93.88| 54.73114090336521|        14.81|\n",
      "|42.6916|23.287000000000003| 5558|        77.25|47.082763584023226|         16.6|\n",
      "| 42.622|23.287000000000003| 5564|        96.63| 53.06200934579417|         9.07|\n",
      "|42.6452|            23.353| 5733|        98.19|51.267472527472606|         5.24|\n",
      "|42.6684|            23.353| 7067|        92.88| 50.58575491722095|         7.81|\n",
      "|42.6452|            23.254|10767|        89.77| 24.90602767716167|          0.0|\n",
      "|42.6916|            23.386|10946|        100.0|52.902843961264445|        10.09|\n",
      "|42.6452|             23.32|14417|        93.88|39.592699590760844|          0.0|\n",
      "|42.6684|             23.32|17976|        93.92| 50.31911604361377|         8.85|\n",
      "|42.6916|            23.353|18930|        94.84| 49.52560169043822|         7.39|\n",
      "|42.6916|             23.32|22014|        93.46| 50.31422458435522|         3.59|\n",
      "|42.6684|23.287000000000003|27051|        94.66| 48.97865328453631|        11.99|\n",
      "+-------+------------------+-----+-------------+------------------+-------------+\n",
      "\n"
     ]
    },
    {
     "name": "stderr",
     "output_type": "stream",
     "text": [
      "\r",
      "                                                                                \r"
     ]
    }
   ],
   "source": [
    "withBoxData = joinedWithoutDuplicates \\\n",
    "    .withColumn(\"latBox\", udf(latGrouper)(onlyCoords.df1Lat)) \\\n",
    "    .withColumn(\"longBox\", udf(longGrouper)(onlyCoords.df1Long))\n",
    "\n",
    "groupedByBox = withBoxData.groupBy(\"latBox\", \"longBox\")\n",
    "\n",
    "groupedByBox \\\n",
    "    .agg(\n",
    "        f.count(\"*\").alias(\"count\"),\n",
    "        f.max(\"humidity\"),\n",
    "        f.avg(\"humidity\"),\n",
    "        f.min(\"humidity\")\n",
    "    ) \\\n",
    "    .orderBy(\"count\") \\\n",
    "    .show()"
   ]
  },
  {
   "cell_type": "markdown",
   "id": "everyday-manitoba",
   "metadata": {},
   "source": [
    "Abaixo, são definidas três funções de análise de outliers.\n",
    "Todas elas recebem uma feature como parâmetro, e a quantidade de desvios padrões de distância da média para que uma observação seja considerada um outlier.\n",
    "\n",
    "A primeira função agrupa a quantidade de outliers considerando tanto a divisão de quadrantes quanto uma janela de tempo de 1 dia, computando média e desvio padrão dentro dessas subdivisões para filtrar a quantidade de observações que ficam fora do range de X desvios padrão da média.\n",
    "\n",
    "A segunda funciona de forma parecida, desconsiderando as subdivisões de tempo, e a terceira da mesma forma, porém sem fazer qualquer subdivisão do dado.\n",
    "\n",
    "Com isso, podemos ter agrupamentos mais gerais e mais específicos de outliers, e podemos analisar todas as features de interesse de forma dinâmica."
   ]
  },
  {
   "cell_type": "code",
   "execution_count": 16,
   "id": "referenced-netscape",
   "metadata": {},
   "outputs": [],
   "source": [
    "cnt_cond = lambda cond: f.sum(f.when(cond, 1).otherwise(0))\n",
    "\n",
    "def analyzeOutliers(feature, stdevs_to_consider_as_outlier):\n",
    "    windowSpec = Window.partitionBy(\"latBox\", \"longBox\", f.window(\"df1Timestamp\", \"86400 seconds\"))\n",
    "    return withBoxData \\\n",
    "        .withColumn(f\"{feature}StandardDeviation\", f.stddev_samp(feature).over(\n",
    "            windowSpec\n",
    "        )) \\\n",
    "        .withColumn(f\"{feature}Average\", f.avg(feature).over(\n",
    "            windowSpec\n",
    "        )) \\\n",
    "        .withColumn(\"lowerBound\",\n",
    "            f.expr(f\"{feature}Average - ({stdevs_to_consider_as_outlier} * {feature}StandardDeviation)\")) \\\n",
    "        .withColumn(\"upperBound\",\n",
    "            f.expr(f\"{feature}Average + ({stdevs_to_consider_as_outlier} * {feature}StandardDeviation)\")) \\\n",
    "        .groupBy(\"latBox\", \"longBox\", f.window(\"df1Timestamp\", \"86400 seconds\")) \\\n",
    "        .agg(\n",
    "            f.max(feature),\n",
    "            f.min(feature),\n",
    "            f.avg(feature),\n",
    "            f.count(\"*\").alias(\"totalCount\"),\n",
    "            cnt_cond((f.col(feature) < f.col('lowerBound')) | (f.col(feature) > f.col('upperBound'))).alias('outlierCount'),\n",
    "            f.stddev_samp(feature)\n",
    "        ) \\\n",
    "        .orderBy(f.expr(\"outlierCount\").desc()) \\\n",
    "        .select([\"latBox\", \"longBox\", \"window.start\", \"window.end\", \"totalCount\", \"outlierCount\"])\n",
    "\n",
    "def analyzeOutliersNoTime(feature, stdevs_to_consider_as_outlier):\n",
    "    windowSpecNoTime = Window.partitionBy(\"latBox\", \"longBox\")\n",
    "    return withBoxData \\\n",
    "        .withColumn(f\"{feature}StandardDeviation\", f.stddev_samp(feature).over(\n",
    "            windowSpecNoTime\n",
    "        )) \\\n",
    "        .withColumn(f\"{feature}Average\", f.avg(feature).over(\n",
    "            windowSpecNoTime\n",
    "        )) \\\n",
    "        .withColumn(\"lowerBound\",\n",
    "            f.expr(f\"{feature}Average - ({stdevs_to_consider_as_outlier} * {feature}StandardDeviation)\")) \\\n",
    "        .withColumn(\"upperBound\",\n",
    "            f.expr(f\"{feature}Average + ({stdevs_to_consider_as_outlier} * {feature}StandardDeviation)\")) \\\n",
    "        .groupBy(\"latBox\", \"longBox\") \\\n",
    "        .agg(\n",
    "            f.max(feature),\n",
    "            f.min(feature),\n",
    "            f.avg(feature),\n",
    "            f.count(\"*\").alias(\"totalCount\"),\n",
    "            cnt_cond((f.col(feature) < f.col('lowerBound')) | (f.col(feature) > f.col('upperBound'))).alias('outlierCount'),\n",
    "            f.stddev_samp(feature)\n",
    "        ) \\\n",
    "        .orderBy(f.expr(\"outlierCount\").desc()) \\\n",
    "        .select([\"latBox\", \"longBox\", \"totalCount\", \"outlierCount\"])\n",
    "\n",
    "def analyzeOutliersNoGrouping(feature, stdevs_to_consider_as_outlier):\n",
    "    average = withBoxData \\\n",
    "        .groupBy().agg(f.avg(feature)) \\\n",
    "        .take(1)[0][0]\n",
    "    stdev = withBoxData \\\n",
    "        .groupBy().agg(f.stddev_samp(feature)) \\\n",
    "        .take(1)[0][0]\n",
    "    \n",
    "    return withBoxData \\\n",
    "        .withColumn(f\"{feature}Average\", f.lit(average)) \\\n",
    "        .withColumn(f\"{feature}StandardDeviation\", f.lit(stdev)) \\\n",
    "        .withColumn(\"lowerBound\",\n",
    "            f.expr(f\"{feature}Average - ({stdevs_to_consider_as_outlier} * {feature}StandardDeviation)\")) \\\n",
    "        .withColumn(\"upperBound\",\n",
    "            f.expr(f\"{feature}Average + ({stdevs_to_consider_as_outlier} * {feature}StandardDeviation)\")) \\\n",
    "        .groupBy() \\\n",
    "            .agg(\n",
    "                f.max(feature),\n",
    "                f.min(feature),\n",
    "                f.avg(feature),\n",
    "                f.count(\"*\").alias(\"totalCount\"),\n",
    "                cnt_cond((f.col(feature) < f.col('lowerBound')) | (f.col(feature) > f.col('upperBound'))).alias('outlierCount'),\n",
    "                f.stddev_samp(feature)\n",
    "            ) \\\n",
    "            .orderBy(f.expr(\"outlierCount\").desc()) \\\n",
    "            .select([\"totalCount\", \"outlierCount\"])"
   ]
  },
  {
   "cell_type": "markdown",
   "id": "experienced-parker",
   "metadata": {},
   "source": [
    "Inicialmente, vamos analisar a temperatura, sob a ótica das três funções:"
   ]
  },
  {
   "cell_type": "code",
   "execution_count": 17,
   "id": "cognitive-acceptance",
   "metadata": {},
   "outputs": [
    {
     "name": "stdout",
     "output_type": "stream",
     "text": [
      "+----------+------------+\n",
      "|totalCount|outlierCount|\n",
      "+----------+------------+\n",
      "|    194786|         974|\n",
      "+----------+------------+\n",
      "\n"
     ]
    }
   ],
   "source": [
    "analyzeOutliersNoGrouping('temperature', stdevs_to_consider_as_outlier=3).show()"
   ]
  },
  {
   "cell_type": "markdown",
   "id": "incoming-context",
   "metadata": {},
   "source": [
    "Quando a análise é feita sem agrupamento, temos uma proporção bastante baixa de outliers dentro de todas as observações registradas no dataset."
   ]
  },
  {
   "cell_type": "code",
   "execution_count": 18,
   "id": "behavioral-surgery",
   "metadata": {},
   "outputs": [
    {
     "name": "stderr",
     "output_type": "stream",
     "text": [
      "\r",
      "[Stage 60:>                                                         (0 + 1) / 1]\r"
     ]
    },
    {
     "name": "stdout",
     "output_type": "stream",
     "text": [
      "+-------+------------------+----------+------------+\n",
      "| latBox|           longBox|totalCount|outlierCount|\n",
      "+-------+------------------+----------+------------+\n",
      "|42.6916|             23.32|     22014|         352|\n",
      "| 42.622|23.287000000000003|      5564|          57|\n",
      "|42.6684|             23.32|     17976|          40|\n",
      "|42.6916|            23.353|     18930|          37|\n",
      "|42.6452|            23.254|     10767|          34|\n",
      "| 42.622|            23.254|      5535|          29|\n",
      "|42.6452|             23.32|     14417|          14|\n",
      "|42.6452|            23.353|      5733|          14|\n",
      "|42.6684|23.287000000000003|     27051|          14|\n",
      "| 42.622|            23.353|      5557|           5|\n",
      "|42.6684|            23.353|      7067|           5|\n",
      "|42.6452|            23.386|      5275|           4|\n",
      "|42.6684|            23.386|      5553|           1|\n",
      "| 42.622|            23.386|      5464|           0|\n",
      "|42.6684|            23.254|      4798|           0|\n",
      "|42.6452|23.287000000000003|      5538|           0|\n",
      "|42.6916|23.287000000000003|      5558|           0|\n",
      "|42.7148|23.287000000000003|      5489|           0|\n",
      "|42.6916|            23.386|     10946|           0|\n",
      "|42.7148|            23.254|      5554|           0|\n",
      "+-------+------------------+----------+------------+\n",
      "\n"
     ]
    },
    {
     "name": "stderr",
     "output_type": "stream",
     "text": [
      "\r",
      "                                                                                \r"
     ]
    }
   ],
   "source": [
    "analyzeOutliersNoTime('temperature', stdevs_to_consider_as_outlier=3).show()"
   ]
  },
  {
   "cell_type": "markdown",
   "id": "fewer-lewis",
   "metadata": {},
   "source": [
    "Ao realizar a análise levando em consideração os quadrantes, temos um perfil diferente de quantidade de outliers,\n",
    "que começam a se agrupar em determinados quadrantes, o que pode significar que alguns sensores específicos estão com problemas (ou que algum evento no mundo real está aumentando/abaixando muito a temperatura reportada por alguns sensores)."
   ]
  },
  {
   "cell_type": "code",
   "execution_count": 19,
   "id": "pregnant-qualification",
   "metadata": {},
   "outputs": [
    {
     "name": "stderr",
     "output_type": "stream",
     "text": [
      "\r",
      "[Stage 67:>                                                         (0 + 1) / 1]\r"
     ]
    },
    {
     "name": "stdout",
     "output_type": "stream",
     "text": [
      "+-------+------------------+-------------------+-------------------+----------+------------+\n",
      "| latBox|           longBox|              start|                end|totalCount|outlierCount|\n",
      "+-------+------------------+-------------------+-------------------+----------+------------+\n",
      "|42.6916|             23.32|2017-07-01 21:00:00|2017-07-02 21:00:00|      2348|          82|\n",
      "|42.6916|             23.32|2017-07-07 21:00:00|2017-07-08 21:00:00|      2359|          77|\n",
      "|42.6916|             23.32|2017-07-04 21:00:00|2017-07-05 21:00:00|      2237|          60|\n",
      "|42.6916|             23.32|2017-07-06 21:00:00|2017-07-07 21:00:00|      2344|          59|\n",
      "|42.6916|             23.32|2017-07-09 21:00:00|2017-07-10 21:00:00|      1461|          42|\n",
      "|42.6916|             23.32|2017-06-30 21:00:00|2017-07-01 21:00:00|      1881|          33|\n",
      "|42.6916|             23.32|2017-07-05 21:00:00|2017-07-06 21:00:00|      2342|          30|\n",
      "|42.6916|             23.32|2017-07-08 21:00:00|2017-07-09 21:00:00|      2355|          23|\n",
      "|42.6684|             23.32|2017-07-07 21:00:00|2017-07-08 21:00:00|      1872|          20|\n",
      "|42.6916|             23.32|2017-07-03 21:00:00|2017-07-04 21:00:00|      2354|          14|\n",
      "|42.6684|             23.32|2017-07-01 21:00:00|2017-07-02 21:00:00|      1940|          14|\n",
      "| 42.622|            23.254|2017-07-08 21:00:00|2017-07-09 21:00:00|       589|          11|\n",
      "| 42.622|23.287000000000003|2017-07-03 21:00:00|2017-07-04 21:00:00|       590|          11|\n",
      "| 42.622|23.287000000000003|2017-07-06 21:00:00|2017-07-07 21:00:00|       587|          10|\n",
      "|42.6684|            23.353|2017-07-04 21:00:00|2017-07-05 21:00:00|       961|           8|\n",
      "| 42.622|23.287000000000003|2017-07-08 21:00:00|2017-07-09 21:00:00|       589|           8|\n",
      "| 42.622|23.287000000000003|2017-07-01 21:00:00|2017-07-02 21:00:00|       588|           7|\n",
      "| 42.622|23.287000000000003|2017-07-07 21:00:00|2017-07-08 21:00:00|       589|           5|\n",
      "|42.6684|             23.32|2017-07-08 21:00:00|2017-07-09 21:00:00|      1920|           3|\n",
      "|42.6684|             23.32|2017-07-03 21:00:00|2017-07-04 21:00:00|      1770|           3|\n",
      "+-------+------------------+-------------------+-------------------+----------+------------+\n",
      "only showing top 20 rows\n",
      "\n"
     ]
    },
    {
     "name": "stderr",
     "output_type": "stream",
     "text": [
      "\r",
      "                                                                                \r"
     ]
    }
   ],
   "source": [
    "analyzeOutliers('temperature', stdevs_to_consider_as_outlier=3).show()"
   ]
  },
  {
   "cell_type": "markdown",
   "id": "empty-stock",
   "metadata": {},
   "source": [
    "Ao aumentar a granularidade da análise, novamente temos um perfil distinto, que aponta qual quadrante e em qual dia mais eventos outliers aconteceram. Podemos determinar qual sensor reportou valores extremais:"
   ]
  },
  {
   "cell_type": "code",
   "execution_count": 21,
   "id": "duplicate-seven",
   "metadata": {},
   "outputs": [],
   "source": [
    "def getOutlierRows(feature, latBox, longBox, start, end, stdevs_to_consider_as_outlier):\n",
    "    dates = (start, end)\n",
    "    average = withBoxData \\\n",
    "        .groupBy().agg(f.avg(feature)) \\\n",
    "        .take(1)[0][0]\n",
    "    stdev = withBoxData \\\n",
    "        .groupBy().agg(f.stddev_samp(feature)) \\\n",
    "        .take(1)[0][0]\n",
    "    return withBoxData \\\n",
    "        .withColumn(f\"{feature}Average\", f.lit(average)) \\\n",
    "        .withColumn(f\"{feature}StandardDeviation\", f.lit(stdev)) \\\n",
    "        .withColumn(\"lowerBound\",\n",
    "            f.expr(f\"{feature}Average - ({stdevs_to_consider_as_outlier} * {feature}StandardDeviation)\")) \\\n",
    "        .withColumn(\"upperBound\",\n",
    "            f.expr(f\"{feature}Average + ({stdevs_to_consider_as_outlier} * {feature}StandardDeviation)\")) \\\n",
    "        .filter((f.col(feature) < f.col('lowerBound')) | (f.col(feature) > f.col('upperBound'))) \\\n",
    "        .filter(f.col(\"latBox\") == latBox) \\\n",
    "        .filter(f.col(\"longBox\") == longBox) \\\n",
    "        .filter(f.col(\"df2Timestamp\").between(*dates))\n",
    "\n",
    "def outlierRows(feature, stdevs_to_consider_as_outlier, latBox, longBox, start, end):\n",
    "    dates = (start, end)\n",
    "    windowSpec = Window.partitionBy(\"latBox\", \"longBox\", f.window(\"df1Timestamp\", \"86400 seconds\"))\n",
    "    return withBoxData \\\n",
    "        .withColumn(f\"{feature}StandardDeviation\", f.stddev_samp(feature).over(\n",
    "            windowSpec\n",
    "        )) \\\n",
    "        .withColumn(f\"{feature}Average\", f.avg(feature).over(\n",
    "            windowSpec\n",
    "        )) \\\n",
    "        .withColumn(\"lowerBound\",\n",
    "            f.expr(f\"{feature}Average - ({stdevs_to_consider_as_outlier} * {feature}StandardDeviation)\")) \\\n",
    "        .withColumn(\"upperBound\",\n",
    "            f.expr(f\"{feature}Average + ({stdevs_to_consider_as_outlier} * {feature}StandardDeviation)\")) \\\n",
    "        .filter((f.col(feature) < f.col('lowerBound')) | (f.col(feature) > f.col('upperBound'))) \\\n",
    "        .filter(f.col(\"latBox\") == latBox) \\\n",
    "        .filter(f.col(\"longBox\") == longBox) \\\n",
    "        .filter(f.col(\"df1Timestamp\").between(*dates))"
   ]
  },
  {
   "cell_type": "code",
   "execution_count": 22,
   "id": "patent-child",
   "metadata": {},
   "outputs": [
    {
     "name": "stderr",
     "output_type": "stream",
     "text": [
      "                                                                                \r"
     ]
    },
    {
     "name": "stdout",
     "output_type": "stream",
     "text": [
      "+-----------+--------+\n",
      "|df1SensorId|count(1)|\n",
      "+-----------+--------+\n",
      "|       3500|      65|\n",
      "|       3738|      17|\n",
      "+-----------+--------+\n",
      "\n"
     ]
    },
    {
     "name": "stderr",
     "output_type": "stream",
     "text": [
      "\r",
      "[Stage 103:>                                                        (0 + 1) / 1]\r"
     ]
    },
    {
     "name": "stdout",
     "output_type": "stream",
     "text": [
      "+-----------+-------------------+-----------+\n",
      "|df1SensorId|       df1Timestamp|temperature|\n",
      "+-----------+-------------------+-----------+\n",
      "|       3500|2017-07-02 14:08:55|       49.9|\n",
      "|       3500|2017-07-02 14:11:22|      49.77|\n",
      "|       3500|2017-07-02 14:23:34|      49.64|\n",
      "|       3500|2017-07-02 14:13:48|      49.63|\n",
      "|       3500|2017-07-02 14:16:15|       49.6|\n",
      "|       3500|2017-07-02 14:04:02|      49.59|\n",
      "|       3500|2017-07-02 14:06:29|       49.5|\n",
      "|       3500|2017-07-02 13:51:50|      49.37|\n",
      "|       3500|2017-07-02 13:54:16|      49.32|\n",
      "|       3500|2017-07-02 14:01:36|      49.29|\n",
      "|       3500|2017-07-02 14:26:01|      49.29|\n",
      "|       3500|2017-07-02 13:49:23|      49.27|\n",
      "|       3500|2017-07-02 13:20:05|      49.25|\n",
      "|       3500|2017-07-02 13:44:30|      49.25|\n",
      "|       3500|2017-07-02 13:22:32|      49.24|\n",
      "|       3500|2017-07-02 13:46:57|      49.19|\n",
      "|       3500|2017-07-02 14:18:41|      49.14|\n",
      "|       3500|2017-07-02 13:29:52|      49.12|\n",
      "|       3500|2017-07-02 13:27:25|      49.08|\n",
      "|       3500|2017-07-02 13:39:37|      49.07|\n",
      "+-----------+-------------------+-----------+\n",
      "only showing top 20 rows\n",
      "\n"
     ]
    },
    {
     "name": "stderr",
     "output_type": "stream",
     "text": [
      "\r",
      "                                                                                \r"
     ]
    }
   ],
   "source": [
    "outlierRows(feature='temperature',\n",
    "               latBox=42.6916,\n",
    "               longBox=23.32,\n",
    "               start=\"2017-07-01 21:00:00\",\n",
    "               end=\"2017-07-02 21:00:00\",\n",
    "               stdevs_to_consider_as_outlier=3) \\\n",
    "    .groupBy(\"df1SensorId\") \\\n",
    "    .agg(f.count(\"*\")) \\\n",
    "    .show()\n",
    "\n",
    "outlierRows(feature='temperature',\n",
    "               latBox=42.6916,\n",
    "               longBox=23.32,\n",
    "               start=\"2017-07-01 21:00:00\",\n",
    "               end=\"2017-07-02 21:00:00\",\n",
    "               stdevs_to_consider_as_outlier=3) \\\n",
    "    .select(['df1SensorId', 'df1Timestamp', 'temperature']) \\\n",
    "    .orderBy(f.col('temperature').desc()) \\\n",
    "    .show()"
   ]
  },
  {
   "cell_type": "markdown",
   "id": "cosmetic-jones",
   "metadata": {},
   "source": [
    "Podemos perceber que de fato há várias observações com temperaturas altamente elevadas, o que pode configurar um defeito no sensor ou alguma situação real no momento das observações.\n",
    "\n",
    "Podemos conduzir uma análise parecida para os sensores que reportam partículas P1:"
   ]
  },
  {
   "cell_type": "code",
   "execution_count": 23,
   "id": "qualified-brooklyn",
   "metadata": {},
   "outputs": [
    {
     "name": "stdout",
     "output_type": "stream",
     "text": [
      "+----------+------------+\n",
      "|totalCount|outlierCount|\n",
      "+----------+------------+\n",
      "|    194786|         619|\n",
      "+----------+------------+\n",
      "\n"
     ]
    }
   ],
   "source": [
    "analyzeOutliersNoGrouping('P1', stdevs_to_consider_as_outlier=3).show()"
   ]
  },
  {
   "cell_type": "code",
   "execution_count": 24,
   "id": "nutritional-pittsburgh",
   "metadata": {},
   "outputs": [
    {
     "name": "stderr",
     "output_type": "stream",
     "text": [
      "\r",
      "[Stage 124:>                                                        (0 + 1) / 1]\r"
     ]
    },
    {
     "name": "stdout",
     "output_type": "stream",
     "text": [
      "+-------+------------------+----------+------------+\n",
      "| latBox|           longBox|totalCount|outlierCount|\n",
      "+-------+------------------+----------+------------+\n",
      "|42.6916|             23.32|     22014|         211|\n",
      "|42.6916|            23.353|     18930|         190|\n",
      "|42.6452|            23.254|     10767|         162|\n",
      "|42.6684|            23.353|      7067|         147|\n",
      "| 42.622|            23.254|      5535|         120|\n",
      "|42.6452|             23.32|     14417|         117|\n",
      "|42.6684|             23.32|     17976|         110|\n",
      "| 42.622|            23.353|      5557|         108|\n",
      "|42.6452|23.287000000000003|      5538|          99|\n",
      "|42.6684|            23.386|      5553|          77|\n",
      "|42.6684|            23.254|      4798|          60|\n",
      "|42.6452|            23.353|      5733|          60|\n",
      "|42.6916|23.287000000000003|      5558|          57|\n",
      "|42.7148|23.287000000000003|      5489|          57|\n",
      "|42.6452|            23.386|      5275|          54|\n",
      "|42.6684|23.287000000000003|     27051|          29|\n",
      "|42.6916|            23.386|     10946|          29|\n",
      "| 42.622|23.287000000000003|      5564|          14|\n",
      "| 42.622|            23.386|      5464|          12|\n",
      "|42.7148|            23.254|      5554|           9|\n",
      "+-------+------------------+----------+------------+\n",
      "\n"
     ]
    },
    {
     "name": "stderr",
     "output_type": "stream",
     "text": [
      "\r",
      "                                                                                \r"
     ]
    }
   ],
   "source": [
    "analyzeOutliersNoTime('P1', stdevs_to_consider_as_outlier=3).show()"
   ]
  },
  {
   "cell_type": "code",
   "execution_count": 25,
   "id": "mysterious-renewal",
   "metadata": {},
   "outputs": [
    {
     "name": "stderr",
     "output_type": "stream",
     "text": [
      "\r",
      "[Stage 131:>                                                        (0 + 1) / 1]\r"
     ]
    },
    {
     "name": "stdout",
     "output_type": "stream",
     "text": [
      "+-------+------------------+-------------------+-------------------+----------+------------+\n",
      "| latBox|           longBox|              start|                end|totalCount|outlierCount|\n",
      "+-------+------------------+-------------------+-------------------+----------+------------+\n",
      "|42.6916|             23.32|2017-07-02 21:00:00|2017-07-03 21:00:00|      2333|         113|\n",
      "|42.6916|             23.32|2017-07-03 21:00:00|2017-07-04 21:00:00|      2354|          90|\n",
      "|42.6684|23.287000000000003|2017-07-03 21:00:00|2017-07-04 21:00:00|      2681|          47|\n",
      "|42.6916|             23.32|2017-07-01 21:00:00|2017-07-02 21:00:00|      2348|          44|\n",
      "|42.6684|23.287000000000003|2017-07-07 21:00:00|2017-07-08 21:00:00|      2933|          35|\n",
      "|42.6916|            23.353|2017-07-07 21:00:00|2017-07-08 21:00:00|      1755|          31|\n",
      "|42.6916|            23.353|2017-07-06 21:00:00|2017-07-07 21:00:00|      1732|          31|\n",
      "|42.6684|             23.32|2017-07-01 21:00:00|2017-07-02 21:00:00|      1940|          30|\n",
      "|42.6452|             23.32|2017-07-01 21:00:00|2017-07-02 21:00:00|      1166|          29|\n",
      "|42.6916|            23.353|2017-07-04 21:00:00|2017-07-05 21:00:00|      1947|          28|\n",
      "|42.6916|            23.353|2017-07-03 21:00:00|2017-07-04 21:00:00|      2335|          27|\n",
      "|42.6916|             23.32|2017-07-08 21:00:00|2017-07-09 21:00:00|      2355|          27|\n",
      "|42.6916|             23.32|2017-07-05 21:00:00|2017-07-06 21:00:00|      2342|          27|\n",
      "|42.6684|             23.32|2017-07-04 21:00:00|2017-07-05 21:00:00|      1769|          26|\n",
      "|42.6684|             23.32|2017-07-07 21:00:00|2017-07-08 21:00:00|      1872|          26|\n",
      "|42.6916|            23.353|2017-07-08 21:00:00|2017-07-09 21:00:00|      1757|          25|\n",
      "|42.6684|23.287000000000003|2017-07-05 21:00:00|2017-07-06 21:00:00|      2757|          25|\n",
      "|42.6452|             23.32|2017-07-03 21:00:00|2017-07-04 21:00:00|      1254|          24|\n",
      "|42.6916|            23.353|2017-07-02 21:00:00|2017-07-03 21:00:00|      2298|          23|\n",
      "|42.6452|            23.254|2017-07-06 21:00:00|2017-07-07 21:00:00|      1172|          21|\n",
      "+-------+------------------+-------------------+-------------------+----------+------------+\n",
      "only showing top 20 rows\n",
      "\n"
     ]
    },
    {
     "name": "stderr",
     "output_type": "stream",
     "text": [
      "\r",
      "                                                                                \r"
     ]
    }
   ],
   "source": [
    "analyzeOutliers('P1', stdevs_to_consider_as_outlier=3).show()"
   ]
  },
  {
   "cell_type": "markdown",
   "id": "intensive-solid",
   "metadata": {},
   "source": [
    "Nesse caso, temos um perfil diferente de outliers, o que pode significar que a distribuição das observações de P1 é de cauda mais longa que a de temperatura."
   ]
  },
  {
   "cell_type": "code",
   "execution_count": 26,
   "id": "collective-installation",
   "metadata": {},
   "outputs": [
    {
     "name": "stderr",
     "output_type": "stream",
     "text": [
      "                                                                                \r"
     ]
    },
    {
     "name": "stdout",
     "output_type": "stream",
     "text": [
      "+-----------+--------+\n",
      "|df2SensorId|count(1)|\n",
      "+-----------+--------+\n",
      "|       2229|     112|\n",
      "|       3737|       1|\n",
      "+-----------+--------+\n",
      "\n"
     ]
    },
    {
     "name": "stderr",
     "output_type": "stream",
     "text": [
      "\r",
      "[Stage 167:>                                                        (0 + 1) / 1]\r"
     ]
    },
    {
     "name": "stdout",
     "output_type": "stream",
     "text": [
      "+-----------+-------------------+------+\n",
      "|df2SensorId|       df2Timestamp|    P1|\n",
      "+-----------+-------------------+------+\n",
      "|       3737|2017-07-03 02:45:04| 955.0|\n",
      "|       2229|2017-07-03 15:23:28| 926.4|\n",
      "|       2229|2017-07-03 15:47:54|850.07|\n",
      "|       2229|2017-07-03 15:18:35|820.17|\n",
      "|       2229|2017-07-03 15:57:40| 816.3|\n",
      "|       2229|2017-07-03 16:14:46| 777.2|\n",
      "|       2229|2017-07-03 08:50:00|757.03|\n",
      "|       2229|2017-07-03 15:16:09| 753.3|\n",
      "|       2229|2017-07-03 15:21:02|737.67|\n",
      "|       2229|2017-07-03 16:12:20|735.17|\n",
      "|       2229|2017-07-03 08:30:25|733.03|\n",
      "|       2229|2017-07-03 15:38:08|723.37|\n",
      "|       2229|2017-07-03 08:25:32|709.47|\n",
      "|       2229|2017-07-03 08:54:53| 707.7|\n",
      "|       2229|2017-07-03 07:07:22|702.77|\n",
      "|       2229|2017-07-03 08:45:07| 700.0|\n",
      "|       2229|2017-07-03 15:45:27|697.17|\n",
      "|       2229|2017-07-03 09:02:14|696.43|\n",
      "|       2229|2017-07-03 16:07:27|695.47|\n",
      "|       2229|2017-07-03 06:28:16| 690.3|\n",
      "+-----------+-------------------+------+\n",
      "only showing top 20 rows\n",
      "\n"
     ]
    },
    {
     "name": "stderr",
     "output_type": "stream",
     "text": [
      "\r",
      "                                                                                \r"
     ]
    }
   ],
   "source": [
    "outlierRows(feature='P1',\n",
    "               latBox=42.6916,\n",
    "               longBox=23.32,\n",
    "               start=\"2017-07-02 21:00:00\",\n",
    "               end=\"2017-07-03 21:00:00\",\n",
    "               stdevs_to_consider_as_outlier=3) \\\n",
    "    .groupBy(\"df2SensorId\") \\\n",
    "    .agg(f.count(\"*\")) \\\n",
    "    .show()\n",
    "\n",
    "outlierRows(feature='P1',\n",
    "               latBox=42.6916,\n",
    "               longBox=23.32,\n",
    "               start=\"2017-07-02 21:00:00\",\n",
    "               end=\"2017-07-03 21:00:00\",\n",
    "               stdevs_to_consider_as_outlier=3) \\\n",
    "    .select(['df2SensorId', 'df2Timestamp', 'P1']) \\\n",
    "    .orderBy(f.col('P1').desc()) \\\n",
    "    .show()"
   ]
  },
  {
   "cell_type": "markdown",
   "id": "devoted-battery",
   "metadata": {},
   "source": [
    "Acima, podemos perceber que o sensor 2229 reportou níveis de P1 elevadíssimos de forma constante, o que pode indicar um alto nível de poluição na área na janela analisada. Já o sensor 3737 reportou um único evento fora do comum, o que pode sinalizar um defeito."
   ]
  },
  {
   "cell_type": "markdown",
   "id": "clear-environment",
   "metadata": {},
   "source": [
    "Análises similares podem ser realizadas para P2, umidade e pressão, mas serão omitidas por brevidade."
   ]
  },
  {
   "cell_type": "markdown",
   "id": "greenhouse-transcription",
   "metadata": {},
   "source": [
    "Para a terceira parte, iremos fazer uma predição de P1 e P2 usando algoritmos de classificação. Isso pode ser útil para prever níveis de poluição de áreas que não possuam sensores de P1 e P2, que costumam ser mais caros que os sensores de temperatura, pressão e umidade."
   ]
  },
  {
   "cell_type": "code",
   "execution_count": 27,
   "id": "f69c3c1d",
   "metadata": {},
   "outputs": [],
   "source": [
    "df = joinedWithoutDuplicates \\\n",
    "    .withColumn(\"df1UnixTimestamp\", unix_timestamp(\"df1Timestamp\"))\\\n",
    "    .withColumn(\"df2UnixTimestamp\", unix_timestamp(\"df2Timestamp\"))\n",
    "\n",
    "class PClass:\n",
    "    def __init__(self, label, min, max=float('inf')):\n",
    "        self.label = label\n",
    "        self.min = min\n",
    "        self.max = max"
   ]
  },
  {
   "cell_type": "code",
   "execution_count": 28,
   "id": "6aa96338",
   "metadata": {},
   "outputs": [
    {
     "data": {
      "text/plain": [
       "(array([0.000e+00, 0.000e+00, 0.000e+00, 0.000e+00, 0.000e+00, 0.000e+00,\n",
       "        4.000e+00, 0.000e+00, 6.000e+00, 4.000e+00, 6.000e+00, 6.000e+00,\n",
       "        4.000e+00, 2.200e+01, 7.000e+00, 2.000e+01, 3.300e+01, 5.500e+01,\n",
       "        9.700e+01, 5.700e+01, 1.070e+02, 1.510e+02, 3.150e+02, 2.620e+02,\n",
       "        1.590e+02, 3.700e+02, 4.030e+02, 6.990e+02, 5.920e+02, 3.010e+02,\n",
       "        6.430e+02, 7.640e+02, 1.237e+03, 4.910e+02, 9.280e+02, 9.530e+02,\n",
       "        1.009e+03, 1.614e+03, 5.960e+02, 1.263e+03, 1.863e+03, 6.980e+02,\n",
       "        2.029e+03, 7.110e+02, 1.438e+03, 2.110e+03, 8.110e+02, 2.215e+03,\n",
       "        7.910e+02, 1.553e+03, 2.354e+03, 9.000e+02, 2.360e+03, 8.970e+02,\n",
       "        1.658e+03, 2.292e+03, 9.240e+02, 2.465e+03, 8.950e+02, 1.672e+03,\n",
       "        2.340e+03, 9.840e+02, 2.434e+03, 9.770e+02, 1.722e+03, 2.346e+03,\n",
       "        9.600e+02, 1.679e+03, 1.682e+03, 1.623e+03, 2.434e+03, 9.350e+02,\n",
       "        1.678e+03, 1.704e+03, 1.675e+03, 2.361e+03, 9.650e+02, 1.683e+03,\n",
       "        1.638e+03, 1.693e+03, 2.277e+03, 1.630e+03, 9.410e+02, 1.528e+03,\n",
       "        1.629e+03, 2.268e+03, 1.533e+03, 8.770e+02, 1.555e+03, 1.446e+03,\n",
       "        2.068e+03, 1.438e+03, 7.830e+02, 1.413e+03, 1.383e+03, 1.930e+03,\n",
       "        1.360e+03, 8.120e+02, 1.306e+03, 1.366e+03, 1.764e+03, 1.279e+03,\n",
       "        7.450e+02, 1.260e+03, 1.279e+03, 1.610e+03, 1.165e+03, 7.050e+02,\n",
       "        1.125e+03, 1.135e+03, 1.697e+03, 1.079e+03, 6.640e+02, 1.148e+03,\n",
       "        1.089e+03, 1.416e+03, 1.058e+03, 6.040e+02, 1.027e+03, 9.470e+02,\n",
       "        1.387e+03, 9.630e+02, 5.610e+02, 9.580e+02, 9.470e+02, 1.223e+03,\n",
       "        9.050e+02, 5.090e+02, 9.380e+02, 8.990e+02, 8.710e+02, 1.189e+03,\n",
       "        5.210e+02, 7.640e+02, 7.960e+02, 8.630e+02, 1.114e+03, 4.600e+02,\n",
       "        7.420e+02, 7.950e+02, 7.430e+02, 9.770e+02, 4.360e+02, 7.200e+02,\n",
       "        7.240e+02, 7.260e+02, 9.550e+02, 3.930e+02, 6.730e+02, 6.590e+02,\n",
       "        6.580e+02, 9.050e+02, 3.770e+02, 5.990e+02, 5.540e+02, 5.900e+02,\n",
       "        8.140e+02, 3.770e+02, 5.370e+02, 5.140e+02, 4.890e+02, 7.960e+02,\n",
       "        3.180e+02, 7.250e+02, 2.800e+02, 5.060e+02, 6.900e+02, 2.850e+02,\n",
       "        6.680e+02, 2.940e+02, 4.850e+02, 6.620e+02, 2.600e+02, 6.070e+02,\n",
       "        2.660e+02, 4.280e+02, 5.530e+02, 2.650e+02, 5.650e+02, 2.340e+02,\n",
       "        4.030e+02, 5.270e+02, 2.290e+02, 5.740e+02, 2.370e+02, 3.710e+02,\n",
       "        4.880e+02, 2.240e+02, 4.910e+02, 2.140e+02, 3.160e+02, 4.600e+02,\n",
       "        1.930e+02, 4.760e+02, 2.120e+02, 3.160e+02, 4.200e+02, 1.860e+02,\n",
       "        4.330e+02, 1.910e+02, 2.620e+02, 4.020e+02, 1.590e+02, 3.900e+02,\n",
       "        1.680e+02, 2.950e+02, 3.570e+02, 1.580e+02, 3.600e+02, 1.610e+02,\n",
       "        2.250e+02, 3.350e+02, 1.180e+02, 3.630e+02, 1.340e+02, 2.170e+02,\n",
       "        3.370e+02, 1.440e+02, 2.850e+02, 1.380e+02, 2.020e+02, 2.660e+02,\n",
       "        1.090e+02, 2.290e+02, 1.240e+02, 1.950e+02, 2.640e+02, 1.100e+02,\n",
       "        2.590e+02, 9.700e+01, 1.780e+02, 2.460e+02, 9.900e+01, 2.160e+02,\n",
       "        1.020e+02, 1.520e+02, 2.380e+02, 9.200e+01, 2.020e+02, 1.070e+02,\n",
       "        1.420e+02, 1.820e+02, 8.400e+01, 1.680e+02, 8.400e+01, 1.420e+02,\n",
       "        2.040e+02, 9.800e+01, 1.630e+02, 6.100e+01, 1.090e+02, 1.560e+02,\n",
       "        8.300e+01, 1.680e+02, 6.700e+01, 1.140e+02, 9.000e+01, 1.000e+02,\n",
       "        1.300e+02, 7.400e+01, 8.700e+01, 9.900e+01, 8.900e+01, 1.250e+02,\n",
       "        6.200e+01, 8.600e+01, 9.600e+01, 8.800e+01, 1.170e+02, 6.400e+01,\n",
       "        8.600e+01, 7.000e+01, 8.100e+01, 1.150e+02, 3.600e+01, 7.700e+01,\n",
       "        6.700e+01, 8.000e+01, 9.200e+01, 4.700e+01, 6.900e+01, 6.200e+01,\n",
       "        5.100e+01, 8.200e+01, 2.800e+01, 6.200e+01, 5.300e+01, 5.900e+01,\n",
       "        8.300e+01, 4.600e+01, 5.000e+01, 5.800e+01, 6.300e+01, 7.700e+01,\n",
       "        3.500e+01, 5.000e+01, 4.300e+01, 4.500e+01, 6.900e+01, 3.600e+01,\n",
       "        3.800e+01, 4.400e+01, 4.400e+01, 5.400e+01, 2.700e+01, 5.100e+01,\n",
       "        4.100e+01, 4.900e+01, 6.100e+01, 3.700e+01, 4.100e+01, 3.800e+01,\n",
       "        4.600e+01, 6.800e+01, 3.000e+01, 4.400e+01, 4.000e+01, 3.900e+01,\n",
       "        4.100e+01, 2.300e+01, 2.900e+01, 4.200e+01, 6.100e+01, 4.100e+01,\n",
       "        1.900e+01, 3.300e+01, 4.200e+01, 4.500e+01, 4.000e+01, 1.900e+01,\n",
       "        3.400e+01, 2.900e+01, 4.100e+01, 3.600e+01, 1.100e+01, 3.100e+01,\n",
       "        2.500e+01, 3.300e+01, 3.300e+01, 2.000e+01, 2.500e+01, 2.800e+01,\n",
       "        3.400e+01, 2.600e+01, 9.000e+00, 2.900e+01, 1.600e+01, 4.100e+01,\n",
       "        2.200e+01, 1.000e+01, 2.700e+01, 2.100e+01, 3.400e+01, 1.700e+01,\n",
       "        1.200e+01, 2.200e+01, 2.200e+01, 2.800e+01, 2.100e+01, 1.600e+01,\n",
       "        2.900e+01, 2.400e+01, 3.400e+01, 1.700e+01, 1.600e+01, 2.900e+01,\n",
       "        2.400e+01, 2.200e+01, 1.800e+01, 2.000e+01, 1.400e+01, 1.900e+01,\n",
       "        2.600e+01, 1.400e+01, 1.000e+01, 1.800e+01, 2.200e+01, 2.300e+01,\n",
       "        2.900e+01, 1.300e+01, 1.700e+01, 1.400e+01, 2.100e+01, 2.000e+01,\n",
       "        9.000e+00, 1.500e+01, 1.500e+01, 1.600e+01, 1.600e+01, 8.000e+00,\n",
       "        1.300e+01, 2.700e+01, 3.000e+01, 1.100e+01, 6.000e+00, 2.000e+01,\n",
       "        1.400e+01, 1.600e+01, 2.000e+01, 8.000e+00, 2.100e+01, 1.900e+01,\n",
       "        2.000e+01, 1.100e+01, 9.000e+00, 1.300e+01, 1.400e+01, 1.800e+01,\n",
       "        8.000e+00, 7.000e+00, 1.400e+01, 1.300e+01, 1.800e+01, 1.500e+01,\n",
       "        5.000e+00, 9.000e+00, 1.500e+01, 1.600e+01, 1.900e+01, 5.000e+00,\n",
       "        1.000e+01, 5.000e+00, 9.000e+00, 9.000e+00, 9.000e+00, 6.000e+00,\n",
       "        1.400e+01, 1.200e+01, 8.000e+00, 7.000e+00, 9.000e+00, 5.000e+00,\n",
       "        1.600e+01, 1.300e+01, 4.000e+00, 8.000e+00, 7.000e+00, 1.700e+01,\n",
       "        1.100e+01, 9.000e+00, 1.200e+01, 1.000e+01, 1.100e+01, 8.000e+00,\n",
       "        3.000e+00, 7.000e+00, 1.900e+01, 5.000e+00, 1.300e+01, 4.000e+00,\n",
       "        8.000e+00, 7.000e+00, 1.100e+01, 8.000e+00, 7.000e+00, 1.100e+01,\n",
       "        1.100e+01, 1.400e+01, 4.000e+00, 5.000e+00, 1.200e+01, 7.000e+00,\n",
       "        1.200e+01, 7.000e+00, 1.000e+00, 2.000e+00, 8.000e+00, 8.000e+00,\n",
       "        7.000e+00, 8.000e+00, 6.000e+00, 5.000e+00, 9.000e+00, 7.000e+00,\n",
       "        5.000e+00, 6.000e+00, 9.000e+00, 6.000e+00, 7.000e+00, 5.000e+00,\n",
       "        8.000e+00, 5.000e+00, 1.100e+01, 1.200e+01, 3.000e+00, 6.000e+00,\n",
       "        8.000e+00, 8.000e+00, 6.000e+00, 0.000e+00, 4.000e+00, 8.000e+00,\n",
       "        9.000e+00, 9.000e+00, 7.000e+00, 9.000e+00, 3.000e+00, 8.000e+00,\n",
       "        5.000e+00, 3.000e+00, 4.000e+00, 7.000e+00, 4.000e+00, 2.000e+00,\n",
       "        1.000e+00, 3.000e+00, 4.000e+00, 5.000e+00, 3.000e+00, 2.000e+00,\n",
       "        6.000e+00, 6.000e+00, 4.000e+00, 6.000e+00, 9.000e+00, 1.000e+00,\n",
       "        6.000e+00, 4.000e+00, 2.000e+00, 5.000e+00, 3.000e+00, 4.000e+00,\n",
       "        6.000e+00, 1.000e+00, 5.000e+00, 4.000e+00, 3.000e+00, 3.000e+00,\n",
       "        1.000e+00, 1.000e+00, 4.000e+00, 4.000e+00, 5.000e+00, 2.000e+00,\n",
       "        3.000e+00, 2.000e+00, 4.000e+00, 3.000e+00, 1.000e+00, 2.000e+00,\n",
       "        2.000e+00, 2.000e+00, 3.000e+00, 4.000e+00, 2.000e+00, 8.000e+00,\n",
       "        6.000e+00, 7.000e+00, 4.000e+00, 6.000e+00, 1.000e+00, 2.000e+00,\n",
       "        8.000e+00, 0.000e+00, 3.000e+00, 3.000e+00, 1.000e+00, 5.000e+00,\n",
       "        1.000e+00, 3.000e+00, 5.000e+00, 3.000e+00, 5.000e+00, 0.000e+00,\n",
       "        1.000e+00, 2.000e+00, 4.000e+00, 2.000e+00, 4.000e+00, 6.000e+00,\n",
       "        3.000e+00, 0.000e+00, 4.000e+00, 0.000e+00, 1.000e+00, 1.000e+00,\n",
       "        5.000e+00, 1.000e+00, 1.000e+00, 4.000e+00, 6.000e+00, 0.000e+00,\n",
       "        0.000e+00, 1.000e+00, 2.000e+00, 5.000e+00, 2.000e+00, 1.000e+00,\n",
       "        1.000e+00, 2.000e+00, 2.000e+00, 0.000e+00, 4.000e+00, 1.000e+00,\n",
       "        3.000e+00, 0.000e+00, 2.000e+00, 3.000e+00, 3.000e+00, 1.000e+00,\n",
       "        1.000e+00, 0.000e+00, 1.000e+00, 1.000e+00, 0.000e+00, 4.000e+00,\n",
       "        1.000e+00, 4.000e+00, 0.000e+00, 4.000e+00, 1.000e+00, 2.000e+00,\n",
       "        2.000e+00, 3.000e+00, 0.000e+00, 2.000e+00, 2.000e+00, 2.000e+00,\n",
       "        1.000e+00, 2.000e+00, 1.000e+00, 2.000e+00, 2.000e+00, 1.000e+00,\n",
       "        1.000e+00, 2.000e+00, 2.000e+00, 2.000e+00, 0.000e+00, 2.000e+00,\n",
       "        1.000e+00, 3.000e+00, 2.000e+00, 2.000e+00, 2.000e+00, 0.000e+00,\n",
       "        0.000e+00, 1.000e+00, 2.000e+00, 2.000e+00, 2.000e+00, 1.000e+00,\n",
       "        2.000e+00, 1.000e+00, 2.000e+00, 3.000e+00, 0.000e+00, 1.000e+00,\n",
       "        1.000e+00, 2.000e+00, 1.000e+00, 0.000e+00, 0.000e+00, 0.000e+00,\n",
       "        1.000e+00, 1.000e+00, 4.000e+00, 1.000e+00, 1.000e+00, 1.000e+00,\n",
       "        2.000e+00, 0.000e+00, 1.000e+00, 0.000e+00, 1.000e+00, 0.000e+00,\n",
       "        0.000e+00, 2.000e+00, 2.000e+00, 1.000e+00, 2.000e+00, 1.000e+00,\n",
       "        3.000e+00, 2.000e+00, 1.000e+00, 1.000e+00, 0.000e+00, 0.000e+00,\n",
       "        1.000e+00, 2.000e+00, 3.000e+00, 0.000e+00, 1.000e+00, 0.000e+00,\n",
       "        0.000e+00, 5.000e+00, 0.000e+00, 1.000e+00, 0.000e+00, 0.000e+00,\n",
       "        1.000e+00, 1.000e+00, 2.000e+00, 0.000e+00, 2.000e+00, 2.000e+00,\n",
       "        2.000e+00, 2.000e+00, 1.000e+00, 2.000e+00, 0.000e+00, 1.000e+00,\n",
       "        2.000e+00, 0.000e+00, 0.000e+00, 3.000e+00, 0.000e+00, 2.000e+00,\n",
       "        1.000e+00, 1.000e+00, 0.000e+00, 0.000e+00, 2.000e+00, 1.000e+00,\n",
       "        0.000e+00, 3.000e+00, 2.000e+00, 3.000e+00, 0.000e+00, 2.000e+00,\n",
       "        1.000e+00, 2.000e+00, 2.000e+00, 1.000e+00, 1.000e+00, 2.000e+00,\n",
       "        0.000e+00, 4.000e+00, 0.000e+00, 0.000e+00, 2.000e+00, 0.000e+00,\n",
       "        2.000e+00, 0.000e+00, 0.000e+00, 1.000e+00, 2.000e+00, 1.000e+00,\n",
       "        2.000e+00, 2.000e+00, 2.000e+00, 0.000e+00, 2.000e+00, 0.000e+00,\n",
       "        1.000e+00, 1.000e+00, 1.000e+00, 1.000e+00, 0.000e+00, 1.000e+00,\n",
       "        1.000e+00, 0.000e+00, 0.000e+00, 1.000e+00, 0.000e+00, 0.000e+00,\n",
       "        0.000e+00, 2.000e+00, 0.000e+00, 1.000e+00, 2.000e+00, 2.000e+00,\n",
       "        0.000e+00, 0.000e+00, 0.000e+00, 2.000e+00, 2.000e+00, 1.000e+00,\n",
       "        1.000e+00, 1.000e+00, 0.000e+00, 1.000e+00, 0.000e+00, 0.000e+00,\n",
       "        0.000e+00, 2.000e+00, 0.000e+00, 0.000e+00, 0.000e+00, 0.000e+00,\n",
       "        1.000e+00, 0.000e+00, 1.000e+00, 0.000e+00, 0.000e+00, 2.000e+00,\n",
       "        0.000e+00, 4.000e+00, 0.000e+00, 5.000e+00, 1.000e+00, 0.000e+00,\n",
       "        3.000e+00, 0.000e+00, 0.000e+00, 1.000e+00, 1.000e+00, 1.000e+00,\n",
       "        1.000e+00, 1.000e+00, 2.000e+00, 0.000e+00, 4.000e+00, 0.000e+00,\n",
       "        1.000e+00, 0.000e+00, 2.000e+00, 1.000e+00, 2.000e+00, 0.000e+00,\n",
       "        1.000e+00, 0.000e+00, 1.000e+00, 3.000e+00, 0.000e+00, 1.000e+00,\n",
       "        0.000e+00, 0.000e+00, 1.000e+00, 0.000e+00, 0.000e+00, 0.000e+00,\n",
       "        3.000e+00, 2.000e+00, 0.000e+00, 2.000e+00, 2.000e+00, 0.000e+00,\n",
       "        0.000e+00, 1.000e+00, 2.000e+00, 1.000e+00, 0.000e+00, 1.000e+00,\n",
       "        1.000e+00, 3.000e+00, 1.000e+00, 2.000e+00, 0.000e+00, 0.000e+00,\n",
       "        0.000e+00, 1.000e+00, 1.000e+00, 1.000e+00, 1.000e+00, 1.000e+00,\n",
       "        4.000e+00, 0.000e+00, 0.000e+00, 3.000e+00, 3.000e+00, 0.000e+00,\n",
       "        1.000e+00, 1.000e+00, 0.000e+00, 3.000e+00, 0.000e+00, 0.000e+00,\n",
       "        0.000e+00, 1.000e+00, 2.000e+00, 0.000e+00, 0.000e+00, 0.000e+00,\n",
       "        2.000e+00, 0.000e+00, 1.000e+00, 0.000e+00, 0.000e+00, 1.000e+00,\n",
       "        2.000e+00, 2.000e+00, 0.000e+00, 0.000e+00, 0.000e+00, 3.000e+00,\n",
       "        0.000e+00, 1.000e+00, 1.000e+00, 1.000e+00, 2.000e+00, 1.000e+00,\n",
       "        0.000e+00, 0.000e+00, 0.000e+00, 1.000e+00, 2.000e+00, 2.000e+00,\n",
       "        0.000e+00, 1.000e+00, 1.000e+00, 0.000e+00, 2.000e+00, 0.000e+00,\n",
       "        1.000e+00, 0.000e+00, 0.000e+00, 0.000e+00, 0.000e+00, 2.000e+00,\n",
       "        0.000e+00, 0.000e+00, 2.000e+00, 0.000e+00, 0.000e+00, 1.000e+00,\n",
       "        0.000e+00, 1.000e+00, 1.000e+00, 3.000e+00, 2.000e+00, 0.000e+00,\n",
       "        3.000e+00, 1.000e+00, 0.000e+00, 1.000e+00, 3.000e+00, 0.000e+00,\n",
       "        1.000e+00, 0.000e+00, 1.000e+00, 2.000e+00, 0.000e+00, 1.000e+00,\n",
       "        0.000e+00, 2.000e+00, 0.000e+00, 3.000e+00, 0.000e+00, 2.000e+00,\n",
       "        1.000e+00, 0.000e+00, 0.000e+00, 0.000e+00, 1.000e+00, 0.000e+00,\n",
       "        0.000e+00, 1.000e+00, 0.000e+00, 1.000e+00, 0.000e+00, 0.000e+00,\n",
       "        1.000e+00, 0.000e+00, 0.000e+00, 2.000e+00, 1.000e+00, 1.000e+00,\n",
       "        0.000e+00, 2.000e+00, 1.000e+00, 1.000e+00, 3.000e+00, 0.000e+00,\n",
       "        0.000e+00, 1.000e+00, 1.000e+00, 3.000e+00, 1.000e+00, 0.000e+00,\n",
       "        0.000e+00, 0.000e+00, 0.000e+00, 0.000e+00, 0.000e+00, 0.000e+00,\n",
       "        0.000e+00, 1.000e+00, 0.000e+00, 2.000e+00, 3.000e+00, 0.000e+00,\n",
       "        0.000e+00, 0.000e+00, 1.000e+00, 2.000e+00, 0.000e+00, 0.000e+00,\n",
       "        0.000e+00, 0.000e+00, 1.000e+00, 0.000e+00, 0.000e+00, 0.000e+00,\n",
       "        0.000e+00, 0.000e+00, 0.000e+00, 0.000e+00, 0.000e+00, 3.000e+00,\n",
       "        3.000e+00, 1.000e+00, 1.000e+00, 0.000e+00, 1.000e+00, 2.000e+00,\n",
       "        0.000e+00, 0.000e+00, 0.000e+00, 0.000e+00]),\n",
       " array([  0. ,   0.1,   0.2, ...,  99.8,  99.9, 100. ]),\n",
       " <BarContainer object of 1000 artists>)"
      ]
     },
     "execution_count": 28,
     "metadata": {},
     "output_type": "execute_result"
    },
    {
     "data": {
      "image/png": "[encoded data removed]",
      "text/plain": [
       "<Figure size 432x288 with 1 Axes>"
      ]
     },
     "metadata": {
      "needs_background": "light"
     },
     "output_type": "display_data"
    }
   ],
   "source": [
    "# Analisando histograma de P1 para decidir em quantos classes dividir\n",
    "from pyspark_dist_explore import hist\n",
    "fig, ax = plt.subplots()\n",
    "hist(ax, df.select('P1'), bins = 1000, color=['red'], range=(0, 100))"
   ]
  },
  {
   "cell_type": "code",
   "execution_count": 29,
   "id": "2a9a35c8",
   "metadata": {},
   "outputs": [
    {
     "data": {
      "text/plain": [
       "(array([0.000e+00, 0.000e+00, 0.000e+00, 0.000e+00, 0.000e+00, 2.000e+00,\n",
       "        5.000e+00, 1.000e+00, 1.500e+01, 7.000e+00, 6.000e+00, 2.700e+01,\n",
       "        6.000e+00, 4.400e+01, 2.200e+01, 6.100e+01, 1.010e+02, 1.190e+02,\n",
       "        2.970e+02, 1.080e+02, 2.990e+02, 4.050e+02, 8.500e+02, 7.150e+02,\n",
       "        3.650e+02, 9.590e+02, 1.099e+03, 2.075e+03, 1.505e+03, 7.400e+02,\n",
       "        1.780e+03, 1.860e+03, 2.991e+03, 9.920e+02, 2.077e+03, 2.236e+03,\n",
       "        2.318e+03, 3.609e+03, 1.162e+03, 2.419e+03, 3.762e+03, 1.215e+03,\n",
       "        3.917e+03, 1.266e+03, 2.595e+03, 4.118e+03, 1.367e+03, 4.134e+03,\n",
       "        1.339e+03, 2.714e+03, 4.150e+03, 1.397e+03, 3.995e+03, 1.261e+03,\n",
       "        2.706e+03, 3.915e+03, 1.218e+03, 3.806e+03, 1.300e+03, 2.516e+03,\n",
       "        3.574e+03, 1.167e+03, 3.476e+03, 1.163e+03, 2.254e+03, 3.532e+03,\n",
       "        1.196e+03, 2.288e+03, 2.252e+03, 2.210e+03, 3.317e+03, 1.108e+03,\n",
       "        2.062e+03, 2.124e+03, 2.010e+03, 3.013e+03, 9.870e+02, 1.898e+03,\n",
       "        1.892e+03, 1.722e+03, 2.527e+03, 1.586e+03, 8.320e+02, 1.590e+03,\n",
       "        1.534e+03, 2.089e+03, 1.441e+03, 7.430e+02, 1.394e+03, 1.299e+03,\n",
       "        1.904e+03, 1.228e+03, 6.200e+02, 1.195e+03, 1.196e+03, 1.706e+03,\n",
       "        1.116e+03, 6.040e+02, 1.064e+03, 1.018e+03, 1.517e+03, 9.550e+02,\n",
       "        4.910e+02, 9.160e+02, 8.580e+02, 1.293e+03, 8.230e+02, 4.220e+02,\n",
       "        7.780e+02, 7.530e+02, 1.098e+03, 6.970e+02, 4.200e+02, 7.370e+02,\n",
       "        6.600e+02, 9.560e+02, 6.190e+02, 3.440e+02, 6.180e+02, 5.750e+02,\n",
       "        8.370e+02, 5.630e+02, 2.870e+02, 4.700e+02, 4.890e+02, 7.080e+02,\n",
       "        4.860e+02, 2.010e+02, 4.310e+02, 3.890e+02, 3.950e+02, 5.420e+02,\n",
       "        2.220e+02, 4.100e+02, 3.740e+02, 3.830e+02, 5.080e+02, 1.720e+02,\n",
       "        3.130e+02, 3.190e+02, 2.820e+02, 4.250e+02, 1.480e+02, 2.800e+02,\n",
       "        2.750e+02, 2.720e+02, 4.010e+02, 1.180e+02, 2.490e+02, 2.120e+02,\n",
       "        2.310e+02, 3.220e+02, 1.210e+02, 2.060e+02, 2.050e+02, 1.890e+02,\n",
       "        2.870e+02, 9.500e+01, 1.960e+02, 1.590e+02, 2.050e+02, 2.610e+02,\n",
       "        9.000e+01, 2.550e+02, 9.000e+01, 1.560e+02, 2.280e+02, 9.800e+01,\n",
       "        2.360e+02, 8.800e+01, 1.410e+02, 2.210e+02, 7.900e+01, 2.160e+02,\n",
       "        8.600e+01, 1.260e+02, 2.000e+02, 9.100e+01, 2.020e+02, 6.200e+01,\n",
       "        1.390e+02, 1.760e+02, 6.400e+01, 2.020e+02, 7.500e+01, 1.180e+02,\n",
       "        1.810e+02, 6.400e+01, 1.520e+02, 5.900e+01, 1.030e+02, 1.530e+02,\n",
       "        6.100e+01, 1.570e+02, 4.600e+01, 1.030e+02, 1.250e+02, 5.500e+01,\n",
       "        1.550e+02, 3.900e+01, 8.600e+01, 1.460e+02, 3.300e+01, 1.410e+02,\n",
       "        5.000e+01, 9.100e+01, 1.090e+02, 4.500e+01, 1.030e+02, 4.400e+01,\n",
       "        8.000e+01, 1.210e+02, 4.200e+01, 1.070e+02, 3.300e+01, 5.600e+01,\n",
       "        1.030e+02, 3.900e+01, 1.040e+02, 4.200e+01, 7.500e+01, 9.700e+01,\n",
       "        2.700e+01, 1.040e+02, 3.800e+01, 5.800e+01, 8.400e+01, 3.300e+01,\n",
       "        9.500e+01, 4.000e+01, 4.800e+01, 9.200e+01, 3.300e+01, 7.100e+01,\n",
       "        2.600e+01, 3.400e+01, 7.500e+01, 1.800e+01, 8.000e+01, 2.500e+01,\n",
       "        4.900e+01, 5.400e+01, 2.600e+01, 6.100e+01, 2.700e+01, 4.500e+01,\n",
       "        6.500e+01, 1.300e+01, 6.800e+01, 3.000e+01, 4.700e+01, 5.000e+01,\n",
       "        2.200e+01, 6.100e+01, 2.800e+01, 3.500e+01, 4.400e+01, 4.700e+01,\n",
       "        6.200e+01, 2.400e+01, 3.100e+01, 3.800e+01, 3.700e+01, 4.200e+01,\n",
       "        1.900e+01, 2.900e+01, 3.400e+01, 2.700e+01, 3.900e+01, 2.700e+01,\n",
       "        3.600e+01, 3.600e+01, 3.100e+01, 4.900e+01, 1.500e+01, 3.500e+01,\n",
       "        2.900e+01, 3.000e+01, 4.100e+01, 2.000e+01, 2.900e+01, 2.900e+01,\n",
       "        2.700e+01, 3.700e+01, 1.200e+01, 3.100e+01, 2.800e+01, 2.800e+01,\n",
       "        4.600e+01, 1.600e+01, 1.700e+01, 3.000e+01, 2.100e+01, 2.800e+01,\n",
       "        1.700e+01, 2.300e+01, 1.600e+01, 2.800e+01, 3.300e+01, 1.700e+01,\n",
       "        2.000e+01, 2.900e+01, 1.800e+01, 3.600e+01, 1.300e+01, 1.900e+01,\n",
       "        2.100e+01, 2.100e+01, 3.600e+01, 1.000e+01, 1.900e+01, 2.300e+01,\n",
       "        1.300e+01, 3.100e+01, 1.300e+01, 2.000e+01, 2.200e+01, 1.500e+01,\n",
       "        2.200e+01, 1.200e+01, 1.200e+01, 1.400e+01, 2.500e+01, 2.000e+01,\n",
       "        6.000e+00, 1.900e+01, 1.400e+01, 2.100e+01, 1.100e+01, 5.000e+00,\n",
       "        7.000e+00, 1.500e+01, 2.200e+01, 1.700e+01, 5.000e+00, 1.000e+01,\n",
       "        1.200e+01, 2.000e+01, 1.800e+01, 5.000e+00, 1.000e+01, 1.700e+01,\n",
       "        1.000e+01, 1.400e+01, 1.000e+01, 1.100e+01, 1.000e+01, 1.200e+01,\n",
       "        1.700e+01, 3.000e+00, 8.000e+00, 1.300e+01, 1.100e+01, 4.000e+00,\n",
       "        6.000e+00, 9.000e+00, 8.000e+00, 1.100e+01, 1.200e+01, 9.000e+00,\n",
       "        4.000e+00, 1.200e+01, 6.000e+00, 8.000e+00, 7.000e+00, 4.000e+00,\n",
       "        6.000e+00, 1.200e+01, 1.100e+01, 2.000e+00, 8.000e+00, 3.000e+00,\n",
       "        1.100e+01, 9.000e+00, 1.000e+00, 4.000e+00, 1.200e+01, 1.600e+01,\n",
       "        5.000e+00, 1.000e+00, 4.000e+00, 4.000e+00, 8.000e+00, 7.000e+00,\n",
       "        2.000e+00, 3.000e+00, 1.000e+01, 9.000e+00, 6.000e+00, 1.000e+00,\n",
       "        5.000e+00, 5.000e+00, 7.000e+00, 2.000e+00, 2.000e+00, 2.000e+00,\n",
       "        2.000e+00, 5.000e+00, 5.000e+00, 1.000e+00, 6.000e+00, 3.000e+00,\n",
       "        8.000e+00, 2.000e+00, 3.000e+00, 5.000e+00, 1.000e+00, 7.000e+00,\n",
       "        5.000e+00, 1.000e+00, 4.000e+00, 2.000e+00, 1.100e+01, 3.000e+00,\n",
       "        1.000e+00, 3.000e+00, 4.000e+00, 3.000e+00, 5.000e+00, 1.000e+00,\n",
       "        2.000e+00, 4.000e+00, 2.000e+00, 0.000e+00, 4.000e+00, 7.000e+00,\n",
       "        3.000e+00, 4.000e+00, 3.000e+00, 1.000e+00, 6.000e+00, 2.000e+00,\n",
       "        4.000e+00, 1.000e+00, 1.000e+00, 0.000e+00, 2.000e+00, 4.000e+00,\n",
       "        0.000e+00, 4.000e+00, 7.000e+00, 4.000e+00, 2.000e+00, 2.000e+00,\n",
       "        2.000e+00, 0.000e+00, 1.000e+00, 4.000e+00, 3.000e+00, 1.000e+00,\n",
       "        1.000e+00, 2.000e+00, 3.000e+00, 2.000e+00, 2.000e+00, 1.000e+00,\n",
       "        3.000e+00, 2.000e+00, 4.000e+00, 2.000e+00, 2.000e+00, 2.000e+00,\n",
       "        1.000e+00, 3.000e+00, 1.000e+00, 4.000e+00, 0.000e+00, 0.000e+00,\n",
       "        2.000e+00, 0.000e+00, 2.000e+00, 3.000e+00, 0.000e+00, 1.000e+00,\n",
       "        1.000e+00, 2.000e+00, 1.000e+00, 4.000e+00, 2.000e+00, 1.000e+00,\n",
       "        2.000e+00, 2.000e+00, 4.000e+00, 4.000e+00, 0.000e+00, 3.000e+00,\n",
       "        2.000e+00, 2.000e+00, 0.000e+00, 1.000e+00, 2.000e+00, 3.000e+00,\n",
       "        4.000e+00, 2.000e+00, 1.000e+00, 1.000e+00, 0.000e+00, 2.000e+00,\n",
       "        2.000e+00, 0.000e+00, 2.000e+00, 0.000e+00, 2.000e+00, 4.000e+00,\n",
       "        2.000e+00, 0.000e+00, 5.000e+00, 1.000e+00, 4.000e+00, 2.000e+00,\n",
       "        0.000e+00, 1.000e+00, 2.000e+00, 0.000e+00, 2.000e+00, 3.000e+00,\n",
       "        0.000e+00, 1.000e+00, 1.000e+00, 0.000e+00, 1.000e+00, 4.000e+00,\n",
       "        2.000e+00, 1.000e+00, 1.000e+00, 2.000e+00, 2.000e+00, 0.000e+00,\n",
       "        0.000e+00, 4.000e+00, 2.000e+00, 1.000e+00, 2.000e+00, 1.000e+00,\n",
       "        3.000e+00, 0.000e+00, 1.000e+00, 0.000e+00, 0.000e+00, 2.000e+00,\n",
       "        1.000e+00, 0.000e+00, 1.000e+00, 0.000e+00, 2.000e+00, 2.000e+00,\n",
       "        0.000e+00, 2.000e+00, 1.000e+00, 1.000e+00, 3.000e+00, 1.000e+00,\n",
       "        1.000e+00, 0.000e+00, 2.000e+00, 0.000e+00, 1.000e+00, 1.000e+00,\n",
       "        1.000e+00, 0.000e+00, 1.000e+00, 0.000e+00, 4.000e+00, 0.000e+00,\n",
       "        2.000e+00, 0.000e+00, 0.000e+00, 2.000e+00, 0.000e+00, 0.000e+00,\n",
       "        1.000e+00, 4.000e+00, 1.000e+00, 1.000e+00, 1.000e+00, 1.000e+00,\n",
       "        1.000e+00, 0.000e+00, 1.000e+00, 1.000e+00, 2.000e+00, 1.000e+00,\n",
       "        0.000e+00, 1.000e+00, 0.000e+00, 1.000e+00, 0.000e+00, 1.000e+00,\n",
       "        2.000e+00, 0.000e+00, 0.000e+00, 3.000e+00, 0.000e+00, 0.000e+00,\n",
       "        1.000e+00, 3.000e+00, 3.000e+00, 1.000e+00, 1.000e+00, 3.000e+00,\n",
       "        1.000e+00, 0.000e+00, 2.000e+00, 0.000e+00, 1.000e+00, 1.000e+00,\n",
       "        0.000e+00, 1.000e+00, 0.000e+00, 1.000e+00, 2.000e+00, 1.000e+00,\n",
       "        3.000e+00, 0.000e+00, 0.000e+00, 1.000e+00, 2.000e+00, 0.000e+00,\n",
       "        2.000e+00, 0.000e+00, 1.000e+00, 0.000e+00, 5.000e+00, 1.000e+00,\n",
       "        1.000e+00, 1.000e+00, 1.000e+00, 1.000e+00, 2.000e+00, 0.000e+00,\n",
       "        0.000e+00, 1.000e+00, 0.000e+00, 0.000e+00, 1.000e+00, 1.000e+00,\n",
       "        0.000e+00, 1.000e+00, 0.000e+00, 1.000e+00, 2.000e+00, 0.000e+00,\n",
       "        1.000e+00, 1.000e+00, 4.000e+00, 2.000e+00, 0.000e+00, 3.000e+00,\n",
       "        1.000e+00, 3.000e+00, 0.000e+00, 0.000e+00, 1.000e+00, 0.000e+00,\n",
       "        0.000e+00, 0.000e+00, 2.000e+00, 0.000e+00, 1.000e+00, 0.000e+00,\n",
       "        2.000e+00, 1.000e+00, 1.000e+00, 1.000e+00, 1.000e+00, 1.000e+00,\n",
       "        1.000e+00, 0.000e+00, 0.000e+00, 1.000e+00, 3.000e+00, 0.000e+00,\n",
       "        2.000e+00, 0.000e+00, 0.000e+00, 2.000e+00, 0.000e+00, 2.000e+00,\n",
       "        0.000e+00, 2.000e+00, 3.000e+00, 2.000e+00, 1.000e+00, 1.000e+00,\n",
       "        1.000e+00, 2.000e+00, 0.000e+00, 2.000e+00, 4.000e+00, 0.000e+00,\n",
       "        2.000e+00, 0.000e+00, 1.000e+00, 0.000e+00, 0.000e+00, 0.000e+00,\n",
       "        1.000e+00, 1.000e+00, 0.000e+00, 1.000e+00, 1.000e+00, 0.000e+00,\n",
       "        0.000e+00, 1.000e+00, 0.000e+00, 0.000e+00, 0.000e+00, 0.000e+00,\n",
       "        0.000e+00, 2.000e+00, 2.000e+00, 0.000e+00, 2.000e+00, 0.000e+00,\n",
       "        1.000e+00, 0.000e+00, 0.000e+00, 1.000e+00, 0.000e+00, 1.000e+00,\n",
       "        0.000e+00, 2.000e+00, 0.000e+00, 0.000e+00, 0.000e+00, 1.000e+00,\n",
       "        2.000e+00, 1.000e+00, 0.000e+00, 0.000e+00, 1.000e+00, 1.000e+00,\n",
       "        1.000e+00, 2.000e+00, 1.000e+00, 0.000e+00, 0.000e+00, 2.000e+00,\n",
       "        0.000e+00, 0.000e+00, 1.000e+00, 0.000e+00, 1.000e+00, 0.000e+00,\n",
       "        2.000e+00, 0.000e+00, 1.000e+00, 2.000e+00, 0.000e+00, 0.000e+00,\n",
       "        2.000e+00, 1.000e+00, 4.000e+00, 0.000e+00, 0.000e+00, 2.000e+00,\n",
       "        0.000e+00, 0.000e+00, 1.000e+00, 1.000e+00, 0.000e+00, 3.000e+00,\n",
       "        2.000e+00, 0.000e+00, 2.000e+00, 2.000e+00, 0.000e+00, 2.000e+00,\n",
       "        1.000e+00, 0.000e+00, 1.000e+00, 1.000e+00, 1.000e+00, 0.000e+00,\n",
       "        0.000e+00, 1.000e+00, 0.000e+00, 0.000e+00, 0.000e+00, 0.000e+00,\n",
       "        1.000e+00, 0.000e+00, 1.000e+00, 1.000e+00, 3.000e+00, 1.000e+00,\n",
       "        0.000e+00, 1.000e+00, 1.000e+00, 0.000e+00, 0.000e+00, 1.000e+00,\n",
       "        2.000e+00, 0.000e+00, 0.000e+00, 0.000e+00, 0.000e+00, 0.000e+00,\n",
       "        0.000e+00, 3.000e+00, 0.000e+00, 1.000e+00, 0.000e+00, 0.000e+00,\n",
       "        2.000e+00, 1.000e+00, 1.000e+00, 1.000e+00, 0.000e+00, 0.000e+00,\n",
       "        2.000e+00, 0.000e+00, 2.000e+00, 2.000e+00, 1.000e+00, 0.000e+00,\n",
       "        2.000e+00, 2.000e+00, 0.000e+00, 0.000e+00, 0.000e+00, 0.000e+00,\n",
       "        1.000e+00, 0.000e+00, 1.000e+00, 2.000e+00, 1.000e+00, 1.000e+00,\n",
       "        0.000e+00, 1.000e+00, 1.000e+00, 0.000e+00, 0.000e+00, 0.000e+00,\n",
       "        1.000e+00, 0.000e+00, 2.000e+00, 0.000e+00, 0.000e+00, 1.000e+00,\n",
       "        0.000e+00, 0.000e+00, 3.000e+00, 0.000e+00, 1.000e+00, 0.000e+00,\n",
       "        0.000e+00, 1.000e+00, 0.000e+00, 0.000e+00, 3.000e+00, 1.000e+00,\n",
       "        2.000e+00, 0.000e+00, 1.000e+00, 0.000e+00, 0.000e+00, 1.000e+00,\n",
       "        1.000e+00, 0.000e+00, 0.000e+00, 0.000e+00, 0.000e+00, 0.000e+00,\n",
       "        0.000e+00, 1.000e+00, 1.000e+00, 0.000e+00, 0.000e+00, 0.000e+00,\n",
       "        1.000e+00, 0.000e+00, 0.000e+00, 0.000e+00, 0.000e+00, 2.000e+00,\n",
       "        0.000e+00, 0.000e+00, 1.000e+00, 2.000e+00, 1.000e+00, 1.000e+00,\n",
       "        0.000e+00, 0.000e+00, 0.000e+00, 2.000e+00, 0.000e+00, 2.000e+00,\n",
       "        0.000e+00, 2.000e+00, 0.000e+00, 1.000e+00, 2.000e+00, 0.000e+00,\n",
       "        1.000e+00, 0.000e+00, 0.000e+00, 0.000e+00, 0.000e+00, 0.000e+00,\n",
       "        0.000e+00, 0.000e+00, 0.000e+00, 0.000e+00, 0.000e+00, 0.000e+00,\n",
       "        0.000e+00, 1.000e+00, 0.000e+00, 0.000e+00, 0.000e+00, 0.000e+00,\n",
       "        0.000e+00, 0.000e+00, 0.000e+00, 0.000e+00, 1.000e+00, 1.000e+00,\n",
       "        1.000e+00, 0.000e+00, 2.000e+00, 0.000e+00, 0.000e+00, 1.000e+00,\n",
       "        0.000e+00, 1.000e+00, 0.000e+00, 0.000e+00, 1.000e+00, 0.000e+00,\n",
       "        0.000e+00, 0.000e+00, 0.000e+00, 0.000e+00, 0.000e+00, 0.000e+00,\n",
       "        0.000e+00, 0.000e+00, 0.000e+00, 1.000e+00, 1.000e+00, 1.000e+00,\n",
       "        0.000e+00, 0.000e+00, 0.000e+00, 0.000e+00, 0.000e+00, 0.000e+00,\n",
       "        0.000e+00, 0.000e+00, 0.000e+00, 0.000e+00, 0.000e+00, 0.000e+00,\n",
       "        0.000e+00, 1.000e+00, 0.000e+00, 0.000e+00, 1.000e+00, 0.000e+00,\n",
       "        0.000e+00, 0.000e+00, 0.000e+00, 0.000e+00, 0.000e+00, 0.000e+00,\n",
       "        0.000e+00, 0.000e+00, 0.000e+00, 0.000e+00, 1.000e+00, 0.000e+00,\n",
       "        0.000e+00, 0.000e+00, 0.000e+00, 0.000e+00, 1.000e+00, 1.000e+00,\n",
       "        0.000e+00, 0.000e+00, 0.000e+00, 1.000e+00, 0.000e+00, 0.000e+00,\n",
       "        0.000e+00, 0.000e+00, 0.000e+00, 1.000e+00, 0.000e+00, 0.000e+00,\n",
       "        0.000e+00, 1.000e+00, 0.000e+00, 0.000e+00, 0.000e+00, 0.000e+00,\n",
       "        0.000e+00, 1.000e+00, 0.000e+00, 0.000e+00]),\n",
       " array([  0. ,   0.1,   0.2, ...,  99.8,  99.9, 100. ]),\n",
       " <BarContainer object of 1000 artists>)"
      ]
     },
     "execution_count": 29,
     "metadata": {},
     "output_type": "execute_result"
    },
    {
     "data": {
      "image/png": "[encoded data removed]",
      "text/plain": [
       "<Figure size 432x288 with 1 Axes>"
      ]
     },
     "metadata": {
      "needs_background": "light"
     },
     "output_type": "display_data"
    }
   ],
   "source": [
    "# Analisando histograma de P2 para decidir em quantos classes dividir\n",
    "fig, ax = plt.subplots()\n",
    "hist(ax, df.select('P2'), bins = 1000, color=['red'], range=(0, 100))"
   ]
  },
  {
   "cell_type": "code",
   "execution_count": 30,
   "id": "74fcaa81",
   "metadata": {},
   "outputs": [
    {
     "name": "stdout",
     "output_type": "stream",
     "text": [
      "+-----+---------+---------+\n",
      "|   P1|  P1Class|P1Indexed|\n",
      "+-----+---------+---------+\n",
      "|12.33|low <= 20|      1.0|\n",
      "|11.17|low <= 20|      1.0|\n",
      "|12.23|low <= 20|      1.0|\n",
      "| 12.1|low <= 20|      1.0|\n",
      "|  8.6|low <= 10|      0.0|\n",
      "| 8.37|low <= 10|      0.0|\n",
      "| 8.23|low <= 10|      0.0|\n",
      "| 13.3|low <= 20|      1.0|\n",
      "|  9.3|low <= 10|      0.0|\n",
      "|  7.8|low <= 10|      0.0|\n",
      "|14.37|low <= 20|      1.0|\n",
      "|11.23|low <= 20|      1.0|\n",
      "| 9.07|low <= 10|      0.0|\n",
      "| 11.2|low <= 20|      1.0|\n",
      "| 10.5|low <= 20|      1.0|\n",
      "|10.17|low <= 20|      1.0|\n",
      "| 13.2|low <= 20|      1.0|\n",
      "|14.43|low <= 20|      1.0|\n",
      "| 9.53|low <= 10|      0.0|\n",
      "| 9.93|low <= 10|      0.0|\n",
      "+-----+---------+---------+\n",
      "only showing top 20 rows\n",
      "\n"
     ]
    }
   ],
   "source": [
    "# Definindo classes de P1\n",
    "\n",
    "P1Classes = [\n",
    "    PClass(\"low <= 10\", -1, 10),\n",
    "    PClass(\"low <= 20\", 10, 20),\n",
    "    PClass(\"low <= 30\", 20, 30),\n",
    "    PClass(\"low <= 40\", 30, 40),\n",
    "    PClass(\"low <= 50\", 40, 50),\n",
    "    PClass(\"medium \", 50, 75),\n",
    "    PClass(\"high\", 75, 100),\n",
    "    PClass(\"very high\", 100),\n",
    "]\n",
    "\n",
    "def getP1Class(value):\n",
    "    for P1Class in P1Classes:\n",
    "        if value > P1Class.min and value <= P1Class.max:\n",
    "            return P1Class.label\n",
    "\n",
    "# Preenchendo as classes no dataframe\n",
    "getBandUdf = udf(getP1Class, StringType())\n",
    "dfWithP1Class = df.withColumn('P1Class', getBandUdf(df['P1']))\n",
    "\n",
    "# Indexando\n",
    "indexer = StringIndexer(inputCol=\"P1Class\", outputCol=\"P1Indexed\")\n",
    "indexedP1Class = indexer.fit(dfWithP1Class).transform(dfWithP1Class)\n",
    "\n",
    "\n",
    "# Testando\n",
    "indexedP1Class.select('P1', 'P1Class', 'P1Indexed').show(20)"
   ]
  },
  {
   "cell_type": "code",
   "execution_count": 31,
   "id": "conservative-injury",
   "metadata": {},
   "outputs": [
    {
     "name": "stdout",
     "output_type": "stream",
     "text": [
      "+---------+--------+\n",
      "|P1Indexed|count(1)|\n",
      "+---------+--------+\n",
      "|      0.0|  107398|\n",
      "|      7.0|     206|\n",
      "|      1.0|   69051|\n",
      "|      4.0|     902|\n",
      "|      3.0|    2707|\n",
      "|      2.0|   13603|\n",
      "|      6.0|     422|\n",
      "|      5.0|     497|\n",
      "+---------+--------+\n",
      "\n"
     ]
    }
   ],
   "source": [
    "indexedP1Class.select('P1', 'P1Class', 'P1Indexed').groupBy(\"P1Indexed\").agg(f.count(\"*\")).show(20)"
   ]
  },
  {
   "cell_type": "code",
   "execution_count": 32,
   "id": "69b39bd3",
   "metadata": {},
   "outputs": [],
   "source": [
    "# Definindo classes de P2\n",
    "\n",
    "P2Classes = [\n",
    "    PClass(\"low <= 10\", -1, 10),\n",
    "    PClass(\"low <= 20\", 10, 20),\n",
    "    PClass(\"low <= 30\", 20, 30),\n",
    "    PClass(\"medium \", 30, 54),\n",
    "    PClass(\"high\", 54, 70),\n",
    "    PClass(\"very high\", 70),\n",
    "]\n",
    "\n",
    "def getP2Class(value):\n",
    "    for P2Class in P2Classes:\n",
    "        if value > P2Class.min and value <= P2Class.max:\n",
    "            return P2Class.label\n",
    "\n",
    "# Preenchendo as classes no dataframe\n",
    "getBandUdf = udf(getP2Class, StringType())\n",
    "dfWithP2Class = df.withColumn('P2Class', getBandUdf(df['P2']))\n",
    "\n",
    "# Indexando\n",
    "indexer = StringIndexer(inputCol=\"P2Class\", outputCol=\"P2Indexed\")\n",
    "indexedP2Class = indexer.fit(dfWithP2Class).transform(dfWithP2Class)"
   ]
  },
  {
   "cell_type": "code",
   "execution_count": 33,
   "id": "upset-martial",
   "metadata": {},
   "outputs": [
    {
     "name": "stdout",
     "output_type": "stream",
     "text": [
      "+---------+--------+\n",
      "|P2Indexed|count(1)|\n",
      "+---------+--------+\n",
      "|      0.0|  154366|\n",
      "|      1.0|   33632|\n",
      "|      4.0|     482|\n",
      "|      3.0|    1427|\n",
      "|      2.0|    4716|\n",
      "|      5.0|     163|\n",
      "+---------+--------+\n",
      "\n"
     ]
    }
   ],
   "source": [
    "indexedP2Class.select('P2', 'P2Class', 'P2Indexed').groupBy(\"P2Indexed\").agg(f.count(\"*\")).show(20)"
   ]
  },
  {
   "cell_type": "code",
   "execution_count": 34,
   "id": "460fd06c",
   "metadata": {},
   "outputs": [],
   "source": [
    "def performClassification(df, inputCols, originalCol, labelCol, featuresCol):\n",
    "  # Criando a coluna de features\n",
    "  assembler = VectorAssembler(inputCols=inputCols, outputCol=featuresCol)\n",
    "  transformedDf = assembler.transform(df)\n",
    "\n",
    "  # Definindo amostra de treino e de teste\n",
    "  [train, test] = transformedDf.randomSplit([0.8, 0.2])\n",
    "  \n",
    "  # Criando classificador\n",
    "  classifier = RandomForestClassifier(labelCol=labelCol, featuresCol=featuresCol)\n",
    "  # classifier = MultilayerPerceptronClassifier(labelCol=labelCol, layers=[len(featuresCol)+1, 8, 8])\n",
    "  # # classifier = LinearRegression(labelCol=target, featuresCol=\"features\")\n",
    "  # # classifier = NaiveBayes(labelCol=target, featuresCol=\"features\")\n",
    "  # # classifier = DecisionTreeRegressor(labelCol=target, featuresCol=\"features\")\n",
    "  # # classifier =  RandomForestRegressor(labelCol=target, featuresCol=\"features\")\n",
    "  # # classifier = GeneralizedLinearRegression(labelCol=target,featuresCol=\"features\")\n",
    "  \n",
    "  # Criando pipeline\n",
    "  pipeline = Pipeline(stages=[classifier])\n",
    "\n",
    "  # Treinando o modelo\n",
    "  model = pipeline.fit(train)\n",
    "\n",
    "  # Fazendo as predições\n",
    "  predictions = model.transform(test)\n",
    "\n",
    "  # Calculando a precisão ponderada\n",
    "  evaluation = MulticlassClassificationEvaluator(labelCol=labelCol, predictionCol=\"prediction\", metricName=\"weightedPrecision\")\n",
    "  weightedPrecision = evaluation.evaluate(predictions)\n",
    "    \n",
    "  # Calculando o recall ponderado\n",
    "  evaluation = MulticlassClassificationEvaluator(labelCol=labelCol, predictionCol=\"prediction\", metricName=\"weightedRecall\")\n",
    "  weightedRecall = evaluation.evaluate(predictions)\n",
    "\n",
    "  # Mostrando resultados\n",
    "  print(f\"WeightedPrecision = {weightedPrecision}\")\n",
    "  print(f\"WeightedRecall = {weightedRecall}\")\n",
    "  # predictions.select(originalCol, labelCol, \"prediction\").show()"
   ]
  },
  {
   "cell_type": "code",
   "execution_count": 35,
   "id": "0155ec12",
   "metadata": {},
   "outputs": [
    {
     "name": "stderr",
     "output_type": "stream",
     "text": [
      "                                                                                \r"
     ]
    },
    {
     "name": "stdout",
     "output_type": "stream",
     "text": [
      "WeightedPrecision = 0.6548318246732355\n",
      "WeightedRecall = 0.6776555835346113\n"
     ]
    },
    {
     "name": "stderr",
     "output_type": "stream",
     "text": [
      "\r",
      "[Stage 250:>                                                        (0 + 1) / 1]\r",
      "\r",
      "                                                                                \r"
     ]
    }
   ],
   "source": [
    "# Machine learning pra P1\n",
    "inputColsP1 = ['pressure', 'temperature', 'humidity', 'df1UnixTimestamp', 'df1Lat', 'df1Long']\n",
    "performClassification(indexedP1Class, inputColsP1, \"P1\", \"P1Indexed\", \"features\")"
   ]
  },
  {
   "cell_type": "code",
   "execution_count": 36,
   "id": "e8fc4343",
   "metadata": {},
   "outputs": [
    {
     "name": "stderr",
     "output_type": "stream",
     "text": [
      "                                                                                \r"
     ]
    },
    {
     "name": "stdout",
     "output_type": "stream",
     "text": [
      "WeightedPrecision = 0.8032242720706079\n",
      "WeightedRecall = 0.8348703760631212\n"
     ]
    },
    {
     "name": "stderr",
     "output_type": "stream",
     "text": [
      "\r",
      "[Stage 288:>                                                        (0 + 1) / 1]\r",
      "\r",
      "                                                                                \r"
     ]
    }
   ],
   "source": [
    "# Machine learning pra P2\n",
    "inputColsP2 = ['pressure', 'temperature', 'humidity', 'df1UnixTimestamp', 'df1Lat', 'df1Long']\n",
    "performClassification(indexedP2Class, inputColsP2, \"P2\", \"P2Indexed\", \"features\")"
   ]
  }
 ],
 "metadata": {
  "kernelspec": {
   "display_name": "Python 3 (ipykernel)",
   "language": "python",
   "name": "python3"
  },
  "language_info": {
   "codemirror_mode": {
    "name": "ipython",
    "version": 3
   },
   "file_extension": ".py",
   "mimetype": "text/x-python",
   "name": "python",
   "nbconvert_exporter": "python",
   "pygments_lexer": "ipython3",
   "version": "3.9.7"
  }
 },
 "nbformat": 4,
 "nbformat_minor": 5
}
